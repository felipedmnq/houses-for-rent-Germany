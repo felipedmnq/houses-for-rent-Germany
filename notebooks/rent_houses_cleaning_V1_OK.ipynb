{
 "cells": [
  {
   "cell_type": "code",
   "execution_count": 82,
   "id": "alive-absence",
   "metadata": {
    "execution": {
     "iopub.execute_input": "2021-05-13T22:18:19.348578Z",
     "iopub.status.busy": "2021-05-13T22:18:19.347588Z",
     "iopub.status.idle": "2021-05-13T22:18:19.356576Z",
     "shell.execute_reply": "2021-05-13T22:18:19.354575Z",
     "shell.execute_reply.started": "2021-05-13T22:18:19.348578Z"
    },
    "tags": []
   },
   "outputs": [],
   "source": [
    "import re\n",
    "import numpy as np\n",
    "import pandas as pd"
   ]
  },
  {
   "cell_type": "code",
   "execution_count": 233,
   "id": "radical-attempt",
   "metadata": {
    "execution": {
     "iopub.execute_input": "2021-05-13T23:06:33.782354Z",
     "iopub.status.busy": "2021-05-13T23:06:33.781356Z",
     "iopub.status.idle": "2021-05-13T23:06:33.823348Z",
     "shell.execute_reply": "2021-05-13T23:06:33.821349Z",
     "shell.execute_reply.started": "2021-05-13T23:06:33.782354Z"
    },
    "tags": []
   },
   "outputs": [],
   "source": [
    "df = pd.read_csv('../data/df_houses_full_raw.csv')"
   ]
  },
  {
   "cell_type": "code",
   "execution_count": 234,
   "id": "conscious-print",
   "metadata": {
    "execution": {
     "iopub.execute_input": "2021-05-13T23:06:34.215620Z",
     "iopub.status.busy": "2021-05-13T23:06:34.214615Z",
     "iopub.status.idle": "2021-05-13T23:06:34.240611Z",
     "shell.execute_reply": "2021-05-13T23:06:34.238609Z",
     "shell.execute_reply.started": "2021-05-13T23:06:34.215620Z"
    },
    "tags": []
   },
   "outputs": [
    {
     "data": {
      "text/html": [
       "<div>\n",
       "<style scoped>\n",
       "    .dataframe tbody tr th:only-of-type {\n",
       "        vertical-align: middle;\n",
       "    }\n",
       "\n",
       "    .dataframe tbody tr th {\n",
       "        vertical-align: top;\n",
       "    }\n",
       "\n",
       "    .dataframe thead th {\n",
       "        text-align: right;\n",
       "    }\n",
       "</style>\n",
       "<table border=\"1\" class=\"dataframe\">\n",
       "  <thead>\n",
       "    <tr style=\"text-align: right;\">\n",
       "      <th></th>\n",
       "      <th>Unnamed: 0</th>\n",
       "      <th>house_id</th>\n",
       "      <th>city</th>\n",
       "      <th>street</th>\n",
       "      <th>montly_rent</th>\n",
       "      <th>deposit_value</th>\n",
       "      <th>house_rules</th>\n",
       "      <th>size</th>\n",
       "      <th>lat_long</th>\n",
       "      <th>scrapy_datetime</th>\n",
       "    </tr>\n",
       "  </thead>\n",
       "  <tbody>\n",
       "    <tr>\n",
       "      <th>0</th>\n",
       "      <td>0</td>\n",
       "      <td>1719697</td>\n",
       "      <td>Berlin</td>\n",
       "      <td>Nürnberger Straße</td>\n",
       "      <td>EUR 850</td>\n",
       "      <td>EUR 1700</td>\n",
       "      <td>['Private living room', 'Private Toilet', 'Pri...</td>\n",
       "      <td>Property: 22 m2</td>\n",
       "      <td>['52.50027', '13.33596']</td>\n",
       "      <td>2021/05/13 - 12:16:03</td>\n",
       "    </tr>\n",
       "    <tr>\n",
       "      <th>1</th>\n",
       "      <td>1</td>\n",
       "      <td>1716752</td>\n",
       "      <td>Berlin</td>\n",
       "      <td>Schnellerstraße</td>\n",
       "      <td>EUR 450</td>\n",
       "      <td>EUR 900</td>\n",
       "      <td>['Shared toilet', 'Shared kitchen', 'Unisex ba...</td>\n",
       "      <td>Property: 90 m2</td>\n",
       "      <td>['52.45495', '13.51636']</td>\n",
       "      <td>2021/05/13 - 12:16:05</td>\n",
       "    </tr>\n",
       "    <tr>\n",
       "      <th>2</th>\n",
       "      <td>2</td>\n",
       "      <td>1716755</td>\n",
       "      <td>Berlin</td>\n",
       "      <td>Schnellerstraße</td>\n",
       "      <td>EUR 475</td>\n",
       "      <td>EUR 950</td>\n",
       "      <td>['Shared toilet', 'Shared kitchen', 'Unisex ba...</td>\n",
       "      <td>Property: 90 m2</td>\n",
       "      <td>['52.45495', '13.51636']</td>\n",
       "      <td>2021/05/13 - 12:16:07</td>\n",
       "    </tr>\n",
       "    <tr>\n",
       "      <th>3</th>\n",
       "      <td>3</td>\n",
       "      <td>1724139</td>\n",
       "      <td>Berlin</td>\n",
       "      <td>Otto-Braun-Straße</td>\n",
       "      <td>EUR 760</td>\n",
       "      <td>EUR 500</td>\n",
       "      <td>['Private facilities', 'Private Toilet', 'Priv...</td>\n",
       "      <td>Property: 25 m2</td>\n",
       "      <td>['52.52449', '13.41863']</td>\n",
       "      <td>2021/05/13 - 12:16:09</td>\n",
       "    </tr>\n",
       "    <tr>\n",
       "      <th>4</th>\n",
       "      <td>4</td>\n",
       "      <td>1721869</td>\n",
       "      <td>Berlin</td>\n",
       "      <td>Otto-Braun-Straße</td>\n",
       "      <td>EUR 760</td>\n",
       "      <td>EUR 500</td>\n",
       "      <td>['Private facilities', 'Private Toilet', 'Priv...</td>\n",
       "      <td>Property: 25 m2</td>\n",
       "      <td>['52.52449', '13.41863']</td>\n",
       "      <td>2021/05/13 - 12:16:11</td>\n",
       "    </tr>\n",
       "  </tbody>\n",
       "</table>\n",
       "</div>"
      ],
      "text/plain": [
       "   Unnamed: 0  house_id    city             street montly_rent deposit_value  \\\n",
       "0           0   1719697  Berlin  Nürnberger Straße     EUR 850      EUR 1700   \n",
       "1           1   1716752  Berlin    Schnellerstraße     EUR 450       EUR 900   \n",
       "2           2   1716755  Berlin    Schnellerstraße     EUR 475       EUR 950   \n",
       "3           3   1724139  Berlin  Otto-Braun-Straße     EUR 760       EUR 500   \n",
       "4           4   1721869  Berlin  Otto-Braun-Straße     EUR 760       EUR 500   \n",
       "\n",
       "                                         house_rules             size  \\\n",
       "0  ['Private living room', 'Private Toilet', 'Pri...  Property: 22 m2   \n",
       "1  ['Shared toilet', 'Shared kitchen', 'Unisex ba...  Property: 90 m2   \n",
       "2  ['Shared toilet', 'Shared kitchen', 'Unisex ba...  Property: 90 m2   \n",
       "3  ['Private facilities', 'Private Toilet', 'Priv...  Property: 25 m2   \n",
       "4  ['Private facilities', 'Private Toilet', 'Priv...  Property: 25 m2   \n",
       "\n",
       "                   lat_long        scrapy_datetime  \n",
       "0  ['52.50027', '13.33596']  2021/05/13 - 12:16:03  \n",
       "1  ['52.45495', '13.51636']  2021/05/13 - 12:16:05  \n",
       "2  ['52.45495', '13.51636']  2021/05/13 - 12:16:07  \n",
       "3  ['52.52449', '13.41863']  2021/05/13 - 12:16:09  \n",
       "4  ['52.52449', '13.41863']  2021/05/13 - 12:16:11  "
      ]
     },
     "execution_count": 234,
     "metadata": {},
     "output_type": "execute_result"
    }
   ],
   "source": [
    "# See what wee got.\n",
    "df.head()"
   ]
  },
  {
   "cell_type": "code",
   "execution_count": 235,
   "id": "incorrect-adult",
   "metadata": {
    "execution": {
     "iopub.execute_input": "2021-05-13T23:06:34.499610Z",
     "iopub.status.busy": "2021-05-13T23:06:34.498611Z",
     "iopub.status.idle": "2021-05-13T23:06:34.509607Z",
     "shell.execute_reply": "2021-05-13T23:06:34.507611Z",
     "shell.execute_reply.started": "2021-05-13T23:06:34.499610Z"
    },
    "tags": []
   },
   "outputs": [
    {
     "data": {
      "text/plain": [
       "(1728, 10)"
      ]
     },
     "execution_count": 235,
     "metadata": {},
     "output_type": "execute_result"
    }
   ],
   "source": [
    "df.shape"
   ]
  },
  {
   "cell_type": "code",
   "execution_count": 236,
   "id": "challenging-petersburg",
   "metadata": {
    "execution": {
     "iopub.execute_input": "2021-05-13T23:06:34.866136Z",
     "iopub.status.busy": "2021-05-13T23:06:34.865134Z",
     "iopub.status.idle": "2021-05-13T23:06:34.882123Z",
     "shell.execute_reply": "2021-05-13T23:06:34.881120Z",
     "shell.execute_reply.started": "2021-05-13T23:06:34.866136Z"
    },
    "tags": []
   },
   "outputs": [
    {
     "data": {
      "text/plain": [
       "Unnamed: 0          0\n",
       "house_id            0\n",
       "city                0\n",
       "street              2\n",
       "montly_rent        13\n",
       "deposit_value       2\n",
       "house_rules         0\n",
       "size                2\n",
       "lat_long            2\n",
       "scrapy_datetime     0\n",
       "dtype: int64"
      ]
     },
     "execution_count": 236,
     "metadata": {},
     "output_type": "execute_result"
    }
   ],
   "source": [
    "# Look for NaN and clean it.\n",
    "df.isna().sum()"
   ]
  },
  {
   "cell_type": "code",
   "execution_count": 237,
   "id": "inside-danish",
   "metadata": {
    "execution": {
     "iopub.execute_input": "2021-05-13T23:06:35.374416Z",
     "iopub.status.busy": "2021-05-13T23:06:35.373420Z",
     "iopub.status.idle": "2021-05-13T23:06:35.389422Z",
     "shell.execute_reply": "2021-05-13T23:06:35.388419Z",
     "shell.execute_reply.started": "2021-05-13T23:06:35.374416Z"
    },
    "tags": []
   },
   "outputs": [],
   "source": [
    "df.dropna(inplace = True)"
   ]
  },
  {
   "cell_type": "code",
   "execution_count": 238,
   "id": "ahead-killing",
   "metadata": {
    "execution": {
     "iopub.execute_input": "2021-05-13T23:06:35.876801Z",
     "iopub.status.busy": "2021-05-13T23:06:35.876801Z",
     "iopub.status.idle": "2021-05-13T23:06:35.888798Z",
     "shell.execute_reply": "2021-05-13T23:06:35.887796Z",
     "shell.execute_reply.started": "2021-05-13T23:06:35.876801Z"
    },
    "tags": []
   },
   "outputs": [
    {
     "data": {
      "text/plain": [
       "Unnamed: 0          int64\n",
       "house_id            int64\n",
       "city               object\n",
       "street             object\n",
       "montly_rent        object\n",
       "deposit_value      object\n",
       "house_rules        object\n",
       "size               object\n",
       "lat_long           object\n",
       "scrapy_datetime    object\n",
       "dtype: object"
      ]
     },
     "execution_count": 238,
     "metadata": {},
     "output_type": "execute_result"
    }
   ],
   "source": [
    "df.dtypes"
   ]
  },
  {
   "cell_type": "code",
   "execution_count": 239,
   "id": "flush-frontier",
   "metadata": {
    "execution": {
     "iopub.execute_input": "2021-05-13T23:06:36.422893Z",
     "iopub.status.busy": "2021-05-13T23:06:36.421869Z",
     "iopub.status.idle": "2021-05-13T23:06:36.430870Z",
     "shell.execute_reply": "2021-05-13T23:06:36.429871Z",
     "shell.execute_reply.started": "2021-05-13T23:06:36.422893Z"
    },
    "tags": []
   },
   "outputs": [
    {
     "data": {
      "text/plain": [
       "(1715, 10)"
      ]
     },
     "execution_count": 239,
     "metadata": {},
     "output_type": "execute_result"
    }
   ],
   "source": [
    "df.shape"
   ]
  },
  {
   "cell_type": "markdown",
   "id": "gothic-score",
   "metadata": {},
   "source": [
    "## Cleaning df_houses"
   ]
  },
  {
   "cell_type": "code",
   "execution_count": 252,
   "id": "incorrect-discipline",
   "metadata": {
    "execution": {
     "iopub.execute_input": "2021-05-13T23:10:42.429835Z",
     "iopub.status.busy": "2021-05-13T23:10:42.429835Z",
     "iopub.status.idle": "2021-05-13T23:10:42.439837Z",
     "shell.execute_reply": "2021-05-13T23:10:42.438837Z",
     "shell.execute_reply.started": "2021-05-13T23:10:42.429835Z"
    },
    "tags": []
   },
   "outputs": [],
   "source": [
    "# Drop \"Unnamed: 0\" column.\n",
    "df.drop(columns = ['Unnamed: 0'], inplace=True)\n",
    "\n",
    "# Clean \"montly_rent\"\n",
    "df['montly_rent'] = df['montly_rent'].apply(lambda x: re.search('\\d+', x).group(0))\n",
    "df['montly_rent'] = df['montly_rent'].astype(int)\n",
    "\n",
    "# Clean 'deposit_value'\n",
    "df['deposit_value'] = df['deposit_value'].apply(lambda x: re.search('\\d+', x).group(0))\n",
    "df['deposit_value'] = df['deposit_value'].astype(int)\n",
    "\n",
    "# Clean 'house_rules'\n",
    "## we are looking for places that pets are allowed, so we'll filter the 'house_rules' column to find this places.\n",
    "yes = 'Pets allowed'\n",
    "maybe = 'Pets negotiable'\n",
    "no = 'Pets not allowed'\n",
    "\n",
    "df['pets'] = df['house_rules'].apply(lambda x: yes if yes in x else maybe if maybe in x else no if no in x else np.nan)\n",
    "\n",
    "# Clean 'size'\n",
    "## There are some 'Furnished' as size. I'll exclude them.\n",
    "df = df[df['size'] != 'Furnished']\n",
    "df['size'] = df['size'].apply(lambda x: x.split(' ')[1])\n",
    "\n",
    "# Split lat/log\n",
    "df['lat_long'] = df['lat_long'].apply(lambda x: re.findall('(\\d+\\.\\d+)', x))\n",
    "df['lat'] = df['lat_long'].apply(lambda x: x[0])\n",
    "df['long'] = df['lat_long'].apply(lambda x: x[1])\n",
    "\n",
    "# Clean columns\n",
    "df.drop(columns = ['house_rules', 'lat_long'], inplace = True)\n",
    "\n",
    "# Reorder columns\n",
    "df = df[['house_id', 'scrapy_datetime',\t'city',\t'street', 'size', 'pets', 'montly_rent', 'deposit_value', 'lat', 'long']]"
   ]
  },
  {
   "cell_type": "code",
   "execution_count": 253,
   "id": "included-croatia",
   "metadata": {
    "execution": {
     "iopub.execute_input": "2021-05-13T23:10:46.063042Z",
     "iopub.status.busy": "2021-05-13T23:10:46.062052Z",
     "iopub.status.idle": "2021-05-13T23:10:46.087046Z",
     "shell.execute_reply": "2021-05-13T23:10:46.086044Z",
     "shell.execute_reply.started": "2021-05-13T23:10:46.063042Z"
    }
   },
   "outputs": [
    {
     "data": {
      "text/html": [
       "<div>\n",
       "<style scoped>\n",
       "    .dataframe tbody tr th:only-of-type {\n",
       "        vertical-align: middle;\n",
       "    }\n",
       "\n",
       "    .dataframe tbody tr th {\n",
       "        vertical-align: top;\n",
       "    }\n",
       "\n",
       "    .dataframe thead th {\n",
       "        text-align: right;\n",
       "    }\n",
       "</style>\n",
       "<table border=\"1\" class=\"dataframe\">\n",
       "  <thead>\n",
       "    <tr style=\"text-align: right;\">\n",
       "      <th></th>\n",
       "      <th>house_id</th>\n",
       "      <th>scrapy_datetime</th>\n",
       "      <th>city</th>\n",
       "      <th>street</th>\n",
       "      <th>size</th>\n",
       "      <th>pets</th>\n",
       "      <th>montly_rent</th>\n",
       "      <th>deposit_value</th>\n",
       "      <th>lat</th>\n",
       "      <th>long</th>\n",
       "    </tr>\n",
       "  </thead>\n",
       "  <tbody>\n",
       "    <tr>\n",
       "      <th>0</th>\n",
       "      <td>1719697</td>\n",
       "      <td>2021/05/13 - 12:16:03</td>\n",
       "      <td>Berlin</td>\n",
       "      <td>Nürnberger Straße</td>\n",
       "      <td>22</td>\n",
       "      <td>Pets not allowed</td>\n",
       "      <td>850</td>\n",
       "      <td>1700</td>\n",
       "      <td>52.50027</td>\n",
       "      <td>13.33596</td>\n",
       "    </tr>\n",
       "    <tr>\n",
       "      <th>1</th>\n",
       "      <td>1716752</td>\n",
       "      <td>2021/05/13 - 12:16:05</td>\n",
       "      <td>Berlin</td>\n",
       "      <td>Schnellerstraße</td>\n",
       "      <td>90</td>\n",
       "      <td>Pets not allowed</td>\n",
       "      <td>450</td>\n",
       "      <td>900</td>\n",
       "      <td>52.45495</td>\n",
       "      <td>13.51636</td>\n",
       "    </tr>\n",
       "    <tr>\n",
       "      <th>2</th>\n",
       "      <td>1716755</td>\n",
       "      <td>2021/05/13 - 12:16:07</td>\n",
       "      <td>Berlin</td>\n",
       "      <td>Schnellerstraße</td>\n",
       "      <td>90</td>\n",
       "      <td>Pets not allowed</td>\n",
       "      <td>475</td>\n",
       "      <td>950</td>\n",
       "      <td>52.45495</td>\n",
       "      <td>13.51636</td>\n",
       "    </tr>\n",
       "    <tr>\n",
       "      <th>3</th>\n",
       "      <td>1724139</td>\n",
       "      <td>2021/05/13 - 12:16:09</td>\n",
       "      <td>Berlin</td>\n",
       "      <td>Otto-Braun-Straße</td>\n",
       "      <td>25</td>\n",
       "      <td>Pets not allowed</td>\n",
       "      <td>760</td>\n",
       "      <td>500</td>\n",
       "      <td>52.52449</td>\n",
       "      <td>13.41863</td>\n",
       "    </tr>\n",
       "    <tr>\n",
       "      <th>4</th>\n",
       "      <td>1721869</td>\n",
       "      <td>2021/05/13 - 12:16:11</td>\n",
       "      <td>Berlin</td>\n",
       "      <td>Otto-Braun-Straße</td>\n",
       "      <td>25</td>\n",
       "      <td>Pets not allowed</td>\n",
       "      <td>760</td>\n",
       "      <td>500</td>\n",
       "      <td>52.52449</td>\n",
       "      <td>13.41863</td>\n",
       "    </tr>\n",
       "  </tbody>\n",
       "</table>\n",
       "</div>"
      ],
      "text/plain": [
       "   house_id        scrapy_datetime    city             street size  \\\n",
       "0   1719697  2021/05/13 - 12:16:03  Berlin  Nürnberger Straße   22   \n",
       "1   1716752  2021/05/13 - 12:16:05  Berlin    Schnellerstraße   90   \n",
       "2   1716755  2021/05/13 - 12:16:07  Berlin    Schnellerstraße   90   \n",
       "3   1724139  2021/05/13 - 12:16:09  Berlin  Otto-Braun-Straße   25   \n",
       "4   1721869  2021/05/13 - 12:16:11  Berlin  Otto-Braun-Straße   25   \n",
       "\n",
       "               pets  montly_rent  deposit_value       lat      long  \n",
       "0  Pets not allowed          850           1700  52.50027  13.33596  \n",
       "1  Pets not allowed          450            900  52.45495  13.51636  \n",
       "2  Pets not allowed          475            950  52.45495  13.51636  \n",
       "3  Pets not allowed          760            500  52.52449  13.41863  \n",
       "4  Pets not allowed          760            500  52.52449  13.41863  "
      ]
     },
     "execution_count": 253,
     "metadata": {},
     "output_type": "execute_result"
    }
   ],
   "source": [
    "df.head()"
   ]
  },
  {
   "cell_type": "code",
   "execution_count": 254,
   "id": "accepted-financing",
   "metadata": {
    "execution": {
     "iopub.execute_input": "2021-05-13T23:13:11.859696Z",
     "iopub.status.busy": "2021-05-13T23:13:11.858694Z",
     "iopub.status.idle": "2021-05-13T23:13:11.897696Z",
     "shell.execute_reply": "2021-05-13T23:13:11.895695Z",
     "shell.execute_reply.started": "2021-05-13T23:13:11.859696Z"
    }
   },
   "outputs": [],
   "source": [
    "df.to_csv('../data/df_houses_full_cleanned.csv')"
   ]
  },
  {
   "cell_type": "markdown",
   "id": "promising-investment",
   "metadata": {},
   "source": [
    "## Cleanning nearby_venues dataset"
   ]
  },
  {
   "cell_type": "code",
   "execution_count": 286,
   "id": "modern-motel",
   "metadata": {
    "execution": {
     "iopub.execute_input": "2021-05-16T14:41:27.548652Z",
     "iopub.status.busy": "2021-05-16T14:41:27.544650Z",
     "iopub.status.idle": "2021-05-16T14:41:28.237495Z",
     "shell.execute_reply": "2021-05-16T14:41:28.236492Z",
     "shell.execute_reply.started": "2021-05-16T14:41:27.548652Z"
    },
    "tags": []
   },
   "outputs": [],
   "source": [
    "df_venues = pd.read_csv('../data/nearby_venues_full_raw.csv')"
   ]
  },
  {
   "cell_type": "code",
   "execution_count": 287,
   "id": "lucky-environment",
   "metadata": {
    "execution": {
     "iopub.execute_input": "2021-05-16T14:41:28.774923Z",
     "iopub.status.busy": "2021-05-16T14:41:28.772921Z",
     "iopub.status.idle": "2021-05-16T14:41:28.821919Z",
     "shell.execute_reply": "2021-05-16T14:41:28.819921Z",
     "shell.execute_reply.started": "2021-05-16T14:41:28.773924Z"
    },
    "tags": []
   },
   "outputs": [
    {
     "data": {
      "text/html": [
       "<div>\n",
       "<style scoped>\n",
       "    .dataframe tbody tr th:only-of-type {\n",
       "        vertical-align: middle;\n",
       "    }\n",
       "\n",
       "    .dataframe tbody tr th {\n",
       "        vertical-align: top;\n",
       "    }\n",
       "\n",
       "    .dataframe thead th {\n",
       "        text-align: right;\n",
       "    }\n",
       "</style>\n",
       "<table border=\"1\" class=\"dataframe\">\n",
       "  <thead>\n",
       "    <tr style=\"text-align: right;\">\n",
       "      <th></th>\n",
       "      <th>house_id</th>\n",
       "      <th>house_latitude</th>\n",
       "      <th>hoouse_longitude</th>\n",
       "      <th>venue</th>\n",
       "      <th>venue_address</th>\n",
       "      <th>city</th>\n",
       "      <th>venue_category</th>\n",
       "      <th>venue_latitude</th>\n",
       "      <th>venue_longitude</th>\n",
       "    </tr>\n",
       "  </thead>\n",
       "  <tbody>\n",
       "    <tr>\n",
       "      <th>0</th>\n",
       "      <td>1719697</td>\n",
       "      <td>52.50027</td>\n",
       "      <td>13.33596</td>\n",
       "      <td>Stadtgarten</td>\n",
       "      <td>Spichernstr. (Gilbachstr.)</td>\n",
       "      <td>50672 Köln</td>\n",
       "      <td>Park</td>\n",
       "      <td>50.944557</td>\n",
       "      <td>6.936847</td>\n",
       "    </tr>\n",
       "    <tr>\n",
       "      <th>1</th>\n",
       "      <td>1719697</td>\n",
       "      <td>52.50027</td>\n",
       "      <td>13.33596</td>\n",
       "      <td>Hommage</td>\n",
       "      <td>Friesenstr. 75</td>\n",
       "      <td>50670 Köln</td>\n",
       "      <td>Café</td>\n",
       "      <td>50.940584</td>\n",
       "      <td>6.941621</td>\n",
       "    </tr>\n",
       "    <tr>\n",
       "      <th>2</th>\n",
       "      <td>1719697</td>\n",
       "      <td>52.50027</td>\n",
       "      <td>13.33596</td>\n",
       "      <td>Kompakt</td>\n",
       "      <td>Werderstr. 15-19</td>\n",
       "      <td>50672 Köln</td>\n",
       "      <td>Record Shop</td>\n",
       "      <td>50.943811</td>\n",
       "      <td>6.939438</td>\n",
       "    </tr>\n",
       "    <tr>\n",
       "      <th>3</th>\n",
       "      <td>1719697</td>\n",
       "      <td>52.50027</td>\n",
       "      <td>13.33596</td>\n",
       "      <td>Royal Punjab</td>\n",
       "      <td>Venloer Str. 4</td>\n",
       "      <td>50672 Köln</td>\n",
       "      <td>Indian Restaurant</td>\n",
       "      <td>50.941286</td>\n",
       "      <td>6.937419</td>\n",
       "    </tr>\n",
       "    <tr>\n",
       "      <th>4</th>\n",
       "      <td>1719697</td>\n",
       "      <td>52.50027</td>\n",
       "      <td>13.33596</td>\n",
       "      <td>Restaurant Acht</td>\n",
       "      <td>Spichernstr. 10</td>\n",
       "      <td>50672 Köln</td>\n",
       "      <td>French Restaurant</td>\n",
       "      <td>50.942707</td>\n",
       "      <td>6.936511</td>\n",
       "    </tr>\n",
       "  </tbody>\n",
       "</table>\n",
       "</div>"
      ],
      "text/plain": [
       "   house_id  house_latitude  hoouse_longitude            venue  \\\n",
       "0   1719697        52.50027          13.33596      Stadtgarten   \n",
       "1   1719697        52.50027          13.33596          Hommage   \n",
       "2   1719697        52.50027          13.33596          Kompakt   \n",
       "3   1719697        52.50027          13.33596     Royal Punjab   \n",
       "4   1719697        52.50027          13.33596  Restaurant Acht   \n",
       "\n",
       "                venue_address        city     venue_category  venue_latitude  \\\n",
       "0  Spichernstr. (Gilbachstr.)  50672 Köln               Park       50.944557   \n",
       "1              Friesenstr. 75  50670 Köln               Café       50.940584   \n",
       "2            Werderstr. 15-19  50672 Köln        Record Shop       50.943811   \n",
       "3              Venloer Str. 4  50672 Köln  Indian Restaurant       50.941286   \n",
       "4             Spichernstr. 10  50672 Köln  French Restaurant       50.942707   \n",
       "\n",
       "   venue_longitude  \n",
       "0         6.936847  \n",
       "1         6.941621  \n",
       "2         6.939438  \n",
       "3         6.937419  \n",
       "4         6.936511  "
      ]
     },
     "execution_count": 287,
     "metadata": {},
     "output_type": "execute_result"
    }
   ],
   "source": [
    "df_venues.head()"
   ]
  },
  {
   "cell_type": "code",
   "execution_count": 294,
   "id": "regulated-trailer",
   "metadata": {
    "execution": {
     "iopub.execute_input": "2021-05-16T14:43:41.913956Z",
     "iopub.status.busy": "2021-05-16T14:43:41.912958Z",
     "iopub.status.idle": "2021-05-16T14:43:41.953963Z",
     "shell.execute_reply": "2021-05-16T14:43:41.950416Z",
     "shell.execute_reply.started": "2021-05-16T14:43:41.913956Z"
    },
    "tags": []
   },
   "outputs": [
    {
     "ename": "TypeError",
     "evalue": "<lambda>() got an unexpected keyword argument 'axis'",
     "output_type": "error",
     "traceback": [
      "\u001b[1;31m---------------------------------------------------------------------------\u001b[0m",
      "\u001b[1;31mTypeError\u001b[0m                                 Traceback (most recent call last)",
      "\u001b[1;32m<ipython-input-294-c9463f455d66>\u001b[0m in \u001b[0;36m<module>\u001b[1;34m\u001b[0m\n\u001b[0;32m      2\u001b[0m \u001b[1;33m\u001b[0m\u001b[0m\n\u001b[0;32m      3\u001b[0m \u001b[1;31m# zip code\u001b[0m\u001b[1;33m\u001b[0m\u001b[1;33m\u001b[0m\u001b[1;33m\u001b[0m\u001b[0m\n\u001b[1;32m----> 4\u001b[1;33m \u001b[0mdf_venues\u001b[0m\u001b[1;33m[\u001b[0m\u001b[1;34m'city'\u001b[0m\u001b[1;33m]\u001b[0m \u001b[1;33m=\u001b[0m \u001b[0mdf_venues\u001b[0m\u001b[1;33m[\u001b[0m\u001b[1;34m'city'\u001b[0m\u001b[1;33m]\u001b[0m\u001b[1;33m.\u001b[0m\u001b[0mapply\u001b[0m\u001b[1;33m(\u001b[0m\u001b[1;32mlambda\u001b[0m \u001b[0mx\u001b[0m\u001b[1;33m:\u001b[0m \u001b[0mx\u001b[0m\u001b[1;33m[\u001b[0m\u001b[1;34m'city'\u001b[0m\u001b[1;33m]\u001b[0m\u001b[1;33m.\u001b[0m\u001b[0msplit\u001b[0m\u001b[1;33m(\u001b[0m\u001b[1;34m' '\u001b[0m\u001b[1;33m)\u001b[0m\u001b[1;33m,\u001b[0m \u001b[0maxis\u001b[0m \u001b[1;33m=\u001b[0m \u001b[1;36m1\u001b[0m\u001b[1;33m)\u001b[0m\u001b[1;33m\u001b[0m\u001b[1;33m\u001b[0m\u001b[0m\n\u001b[0m\u001b[0;32m      5\u001b[0m \u001b[1;33m\u001b[0m\u001b[0m\n\u001b[0;32m      6\u001b[0m \u001b[1;31m# Address\u001b[0m\u001b[1;33m\u001b[0m\u001b[1;33m\u001b[0m\u001b[1;33m\u001b[0m\u001b[0m\n",
      "\u001b[1;32m~\\Anaconda3\\envs\\PA05\\lib\\site-packages\\pandas\\core\\series.py\u001b[0m in \u001b[0;36mapply\u001b[1;34m(self, func, convert_dtype, args, **kwds)\u001b[0m\n\u001b[0;32m   4136\u001b[0m             \u001b[1;32melse\u001b[0m\u001b[1;33m:\u001b[0m\u001b[1;33m\u001b[0m\u001b[1;33m\u001b[0m\u001b[0m\n\u001b[0;32m   4137\u001b[0m                 \u001b[0mvalues\u001b[0m \u001b[1;33m=\u001b[0m \u001b[0mself\u001b[0m\u001b[1;33m.\u001b[0m\u001b[0mastype\u001b[0m\u001b[1;33m(\u001b[0m\u001b[0mobject\u001b[0m\u001b[1;33m)\u001b[0m\u001b[1;33m.\u001b[0m\u001b[0m_values\u001b[0m\u001b[1;33m\u001b[0m\u001b[1;33m\u001b[0m\u001b[0m\n\u001b[1;32m-> 4138\u001b[1;33m                 \u001b[0mmapped\u001b[0m \u001b[1;33m=\u001b[0m \u001b[0mlib\u001b[0m\u001b[1;33m.\u001b[0m\u001b[0mmap_infer\u001b[0m\u001b[1;33m(\u001b[0m\u001b[0mvalues\u001b[0m\u001b[1;33m,\u001b[0m \u001b[0mf\u001b[0m\u001b[1;33m,\u001b[0m \u001b[0mconvert\u001b[0m\u001b[1;33m=\u001b[0m\u001b[0mconvert_dtype\u001b[0m\u001b[1;33m)\u001b[0m\u001b[1;33m\u001b[0m\u001b[1;33m\u001b[0m\u001b[0m\n\u001b[0m\u001b[0;32m   4139\u001b[0m \u001b[1;33m\u001b[0m\u001b[0m\n\u001b[0;32m   4140\u001b[0m         \u001b[1;32mif\u001b[0m \u001b[0mlen\u001b[0m\u001b[1;33m(\u001b[0m\u001b[0mmapped\u001b[0m\u001b[1;33m)\u001b[0m \u001b[1;32mand\u001b[0m \u001b[0misinstance\u001b[0m\u001b[1;33m(\u001b[0m\u001b[0mmapped\u001b[0m\u001b[1;33m[\u001b[0m\u001b[1;36m0\u001b[0m\u001b[1;33m]\u001b[0m\u001b[1;33m,\u001b[0m \u001b[0mSeries\u001b[0m\u001b[1;33m)\u001b[0m\u001b[1;33m:\u001b[0m\u001b[1;33m\u001b[0m\u001b[1;33m\u001b[0m\u001b[0m\n",
      "\u001b[1;32mpandas\\_libs\\lib.pyx\u001b[0m in \u001b[0;36mpandas._libs.lib.map_infer\u001b[1;34m()\u001b[0m\n",
      "\u001b[1;32m~\\Anaconda3\\envs\\PA05\\lib\\site-packages\\pandas\\core\\series.py\u001b[0m in \u001b[0;36mf\u001b[1;34m(x)\u001b[0m\n\u001b[0;32m   4121\u001b[0m \u001b[1;33m\u001b[0m\u001b[0m\n\u001b[0;32m   4122\u001b[0m             \u001b[1;32mdef\u001b[0m \u001b[0mf\u001b[0m\u001b[1;33m(\u001b[0m\u001b[0mx\u001b[0m\u001b[1;33m)\u001b[0m\u001b[1;33m:\u001b[0m\u001b[1;33m\u001b[0m\u001b[1;33m\u001b[0m\u001b[0m\n\u001b[1;32m-> 4123\u001b[1;33m                 \u001b[1;32mreturn\u001b[0m \u001b[0mfunc\u001b[0m\u001b[1;33m(\u001b[0m\u001b[0mx\u001b[0m\u001b[1;33m,\u001b[0m \u001b[1;33m*\u001b[0m\u001b[0margs\u001b[0m\u001b[1;33m,\u001b[0m \u001b[1;33m**\u001b[0m\u001b[0mkwds\u001b[0m\u001b[1;33m)\u001b[0m\u001b[1;33m\u001b[0m\u001b[1;33m\u001b[0m\u001b[0m\n\u001b[0m\u001b[0;32m   4124\u001b[0m \u001b[1;33m\u001b[0m\u001b[0m\n\u001b[0;32m   4125\u001b[0m         \u001b[1;32melse\u001b[0m\u001b[1;33m:\u001b[0m\u001b[1;33m\u001b[0m\u001b[1;33m\u001b[0m\u001b[0m\n",
      "\u001b[1;31mTypeError\u001b[0m: <lambda>() got an unexpected keyword argument 'axis'"
     ]
    }
   ],
   "source": [
    "# city\n",
    "\n",
    "# zip code\n",
    "df_venues['city'] = df_venues['city'].apply(lambda x: x['city'].split(' '))\n",
    "\n",
    "# Address\n",
    "\n",
    "df_venues"
   ]
  },
  {
   "cell_type": "code",
   "execution_count": 299,
   "id": "graphic-illinois",
   "metadata": {
    "execution": {
     "iopub.execute_input": "2021-05-16T14:45:33.282371Z",
     "iopub.status.busy": "2021-05-16T14:45:33.281367Z",
     "iopub.status.idle": "2021-05-16T14:45:33.293367Z",
     "shell.execute_reply": "2021-05-16T14:45:33.291367Z",
     "shell.execute_reply.started": "2021-05-16T14:45:33.282371Z"
    }
   },
   "outputs": [
    {
     "data": {
      "text/plain": [
       "(170300, 9)"
      ]
     },
     "execution_count": 299,
     "metadata": {},
     "output_type": "execute_result"
    }
   ],
   "source": [
    "df_venues.shape"
   ]
  },
  {
   "cell_type": "code",
   "execution_count": 298,
   "id": "wrapped-motor",
   "metadata": {
    "execution": {
     "iopub.execute_input": "2021-05-16T14:44:49.731422Z",
     "iopub.status.busy": "2021-05-16T14:44:49.730429Z",
     "iopub.status.idle": "2021-05-16T14:44:49.764418Z",
     "shell.execute_reply": "2021-05-16T14:44:49.763419Z",
     "shell.execute_reply.started": "2021-05-16T14:44:49.731422Z"
    },
    "tags": []
   },
   "outputs": [
    {
     "data": {
      "text/plain": [
       "array(['50672 Köln', '50670 Köln', '50667 Köln', 'Köln', 'Deutschland',\n",
       "       '50627 Köln', '50674 Köln', '50823 Köln'], dtype=object)"
      ]
     },
     "execution_count": 298,
     "metadata": {},
     "output_type": "execute_result"
    }
   ],
   "source": [
    "df_venues['city'].unique()"
   ]
  },
  {
   "cell_type": "code",
   "execution_count": 263,
   "id": "radical-gateway",
   "metadata": {
    "execution": {
     "iopub.execute_input": "2021-05-16T12:50:24.622813Z",
     "iopub.status.busy": "2021-05-16T12:50:24.621818Z",
     "iopub.status.idle": "2021-05-16T12:50:24.725814Z",
     "shell.execute_reply": "2021-05-16T12:50:24.724815Z",
     "shell.execute_reply.started": "2021-05-16T12:50:24.622813Z"
    }
   },
   "outputs": [
    {
     "data": {
      "text/plain": [
       "house_id            0\n",
       "house_latitude      0\n",
       "hoouse_longitude    0\n",
       "venue               0\n",
       "venue_address       0\n",
       "venue_ZIP_code      0\n",
       "venue_category      0\n",
       "venue_latitude      0\n",
       "venue_longitude     0\n",
       "dtype: int64"
      ]
     },
     "execution_count": 263,
     "metadata": {},
     "output_type": "execute_result"
    }
   ],
   "source": [
    "df_venues.isna().sum()"
   ]
  },
  {
   "cell_type": "code",
   "execution_count": 262,
   "id": "selective-jaguar",
   "metadata": {
    "execution": {
     "iopub.execute_input": "2021-05-16T12:46:20.478124Z",
     "iopub.status.busy": "2021-05-16T12:46:20.477135Z",
     "iopub.status.idle": "2021-05-16T12:46:20.487128Z",
     "shell.execute_reply": "2021-05-16T12:46:20.486125Z",
     "shell.execute_reply.started": "2021-05-16T12:46:20.478124Z"
    }
   },
   "outputs": [
    {
     "data": {
      "text/plain": [
       "(170300, 9)"
      ]
     },
     "execution_count": 262,
     "metadata": {},
     "output_type": "execute_result"
    }
   ],
   "source": [
    "df_venues.shape"
   ]
  },
  {
   "cell_type": "code",
   "execution_count": 265,
   "id": "covered-release",
   "metadata": {
    "execution": {
     "iopub.execute_input": "2021-05-16T12:56:53.046336Z",
     "iopub.status.busy": "2021-05-16T12:56:53.046336Z",
     "iopub.status.idle": "2021-05-16T12:56:53.059338Z",
     "shell.execute_reply": "2021-05-16T12:56:53.058330Z",
     "shell.execute_reply.started": "2021-05-16T12:56:53.046336Z"
    },
    "tags": []
   },
   "outputs": [
    {
     "data": {
      "text/plain": [
       "Index(['house_id', 'house_latitude', 'hoouse_longitude', 'venue',\n",
       "       'venue_address', 'venue_ZIP_code', 'venue_category', 'venue_latitude',\n",
       "       'venue_longitude'],\n",
       "      dtype='object')"
      ]
     },
     "execution_count": 265,
     "metadata": {},
     "output_type": "execute_result"
    }
   ],
   "source": [
    "df_venues.columns"
   ]
  },
  {
   "cell_type": "code",
   "execution_count": null,
   "id": "cordless-smart",
   "metadata": {},
   "outputs": [],
   "source": []
  }
 ],
 "metadata": {
  "kernelspec": {
   "display_name": "Python 3",
   "language": "python",
   "name": "python3"
  },
  "language_info": {
   "codemirror_mode": {
    "name": "ipython",
    "version": 3
   },
   "file_extension": ".py",
   "mimetype": "text/x-python",
   "name": "python",
   "nbconvert_exporter": "python",
   "pygments_lexer": "ipython3",
   "version": "3.8.8"
  }
 },
 "nbformat": 4,
 "nbformat_minor": 5
}
