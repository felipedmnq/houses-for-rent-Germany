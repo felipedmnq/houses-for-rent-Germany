{
 "cells": [
  {
   "cell_type": "code",
   "execution_count": 2,
   "id": "sporting-welsh",
   "metadata": {
    "execution": {
     "iopub.execute_input": "2021-05-17T08:10:18.531826Z",
     "iopub.status.busy": "2021-05-17T08:10:18.531826Z",
     "iopub.status.idle": "2021-05-17T08:10:22.492384Z",
     "shell.execute_reply": "2021-05-17T08:10:22.491395Z",
     "shell.execute_reply.started": "2021-05-17T08:10:18.531826Z"
    },
    "tags": []
   },
   "outputs": [],
   "source": [
    "from bs4 import BeautifulSoup\n",
    "import requests\n",
    "import pandas as pd\n",
    "from datetime import datetime\n",
    "import re\n",
    "\n",
    "import seaborn as sns\n",
    "from matplotlib             import pyplot as plt\n",
    "from IPython.core.display   import HTML\n",
    "from IPython.display        import Image"
   ]
  },
  {
   "cell_type": "markdown",
   "id": "worse-radical",
   "metadata": {},
   "source": [
    "## Rent houses webscraping"
   ]
  },
  {
   "cell_type": "code",
   "execution_count": 3,
   "id": "czech-basis",
   "metadata": {
    "execution": {
     "iopub.execute_input": "2021-05-16T21:37:15.711406Z",
     "iopub.status.busy": "2021-05-16T21:37:15.710813Z",
     "iopub.status.idle": "2021-05-16T22:47:02.369548Z",
     "shell.execute_reply": "2021-05-16T22:47:02.368561Z",
     "shell.execute_reply.started": "2021-05-16T21:37:15.711406Z"
    },
    "tags": []
   },
   "outputs": [
    {
     "name": "stdout",
     "output_type": "stream",
     "text": [
      "Berlin\n",
      "Munich\n",
      "Dusseldorf\n",
      "Cologne\n",
      "Dortmund\n",
      "Frankfurt-am-Main\n",
      "Nuremberg\n",
      "Stuttgart\n",
      "Hamburg\n",
      "Hanover\n",
      "Leipzig\n"
     ]
    }
   ],
   "source": [
    "# get all houses links from determinated city\n",
    "\n",
    "# define a header\n",
    "headers = {'User-Agent': 'Mozilla/5.0 (Macintosh; Intel Mac OS X 10_11_5) AppleWebKit/537.36 (KHTML, like Gecko) Chrome/50.0.2661.102 Safari/537.36'}\n",
    "\n",
    "# define City\n",
    "cities = ['Berlin', 'Munich', 'Dusseldorf', 'Cologne', 'Dortmund', 'Frankfurt-am-Main', 'Nuremberg', 'Stuttgart', 'Hamburg', 'Hanover', 'Leipzig']\n",
    "\n",
    "# list with dicts - houses infos \n",
    "houses_df_list = []\n",
    "\n",
    "for city in cities:\n",
    "    print(city)\n",
    "    \n",
    "    # define a url for each city\n",
    "    url = f'https://housinganywhere.com/s/{city}--Germany/apartment-for-rent'    \n",
    "    page = requests.get(url, headers=headers)\n",
    "\n",
    "    # instance BS\n",
    "    soup = BeautifulSoup(page.text, 'html.parser')\n",
    "\n",
    "    # getting total pages number\n",
    "    a = soup.find('div', class_ = 'MuiGrid-root jss208 jss207 MuiGrid-container MuiGrid-justify-xs-flex-end')\n",
    "    try:\n",
    "        try:\n",
    "            b = a.findAll('a',class_ = 'MuiButtonBase-root MuiButton-root MuiButton-outlined jss209 MuiButton-outlinedSizeSmall MuiButton-sizeSmall')[3].span.text\n",
    "            page_numbers = int(b)\n",
    "        except:\n",
    "            b = a.findAll('a',class_ = 'MuiButtonBase-root MuiButton-root MuiButton-outlined jss209 MuiButton-outlinedSizeSmall MuiButton-sizeSmall')[2].span.text\n",
    "            page_numbers = int(b)\n",
    "    except:\n",
    "        pass\n",
    "\n",
    "    # Crete a empty list for houses infos\n",
    "    houses_links = []\n",
    "\n",
    "    # going thru all pages from city\n",
    "    for page in range(page_numbers):\n",
    "        url = f'https://housinganywhere.com/s/{city}--Germany/apartment-for-rent?page={page}'\n",
    "        page = requests.get(url, headers=headers)\n",
    "        soup = BeautifulSoup(page.text, 'html.parser')\n",
    "        houses_list = soup.findAll('a', class_ = 'jss169 jss14')\n",
    "\n",
    "        # going thru all houses from page\n",
    "        for h in range(len(houses_list)):\n",
    "            id = soup.findAll('a', class_ = 'jss169 jss14')[h].get('href').split('/')[2]\n",
    "            comp = soup.findAll('a', class_ = 'jss169 jss14')[h].get('href').split('/')[-1]\n",
    "\n",
    "            # get url from each house at houses list\n",
    "            url = f'https://housinganywhere.com/room/{id}/de/{city}/{comp}'\n",
    "            houses_links.append(url)\n",
    "\n",
    "        houses_list.clear()\n",
    "\n",
    "    # get houses infos link by link\n",
    "    for house in houses_links:\n",
    "        h = {}\n",
    "\n",
    "        url = f'{str(house)}'\n",
    "\n",
    "        headers = {'User-Agent': 'Mozilla/5.0 (Macintosh; Intel Mac OS X 10_11_5) AppleWebKit/537.36 (KHTML, like Gecko) Chrome/50.0.2661.102 Safari/537.36'}\n",
    "        page = requests.get(url, headers=headers)\n",
    "\n",
    "        # Html \n",
    "        soup = BeautifulSoup(page.text, 'html.parser')\n",
    "\n",
    "        # Hause ID\n",
    "        try:\n",
    "            h['house_id'] = url.split('/')[4]\n",
    "        except:\n",
    "            pass\n",
    "\n",
    "        # City\n",
    "        h['city'] = city\n",
    "\n",
    "        # Location (coordinates? Street?)\n",
    "        try:\n",
    "            a = soup.findAll('h1', class_ = 'MuiTypography-root jss52 jss43 jss46 MuiTypography-h1 MuiTypography-displayBlock')\n",
    "            h['street'] = a[0].text\n",
    "        except:\n",
    "            pass\n",
    "\n",
    "        # Montly rent value\n",
    "        try:\n",
    "            h['montly_rent'] = soup.findAll('p', class_ = 'MuiTypography-root jss105 jss55 jss43 jss49 MuiTypography-h2 MuiTypography-displayBlock')[0].text\n",
    "        except:\n",
    "            pass\n",
    "\n",
    "        # Deposit value\n",
    "        try:\n",
    "            if len(soup.findAll('div', class_ = 'MuiGrid-root MuiGrid-container MuiGrid-item MuiGrid-justify-xs-flex-end MuiGrid-grid-xs-6')) > 1:\n",
    "                h['deposit_value'] = soup.findAll('div', class_ = 'MuiGrid-root MuiGrid-container MuiGrid-item MuiGrid-justify-xs-flex-end MuiGrid-grid-xs-6')[1].text\n",
    "            else:\n",
    "                h['deposit_value'] = soup.findAll('div', class_ = 'MuiGrid-root MuiGrid-container MuiGrid-item MuiGrid-justify-xs-flex-end MuiGrid-grid-xs-6')[0].text\n",
    "        except:\n",
    "            pass\n",
    "\n",
    "        # House rules - TRY TO FILTER \"PET ALLOWED\"\n",
    "        try:\n",
    "            h['house_rules'] = rules_list = []\n",
    "\n",
    "            a =  soup.findAll('div', class_ = 'MuiGrid-root MuiGrid-item MuiGrid-grid-xs-12')[1]\n",
    "\n",
    "            b = a.findAll('div', class_ = 'MuiGrid-root MuiGrid-item MuiGrid-grid-xs-12 MuiGrid-grid-md-4')\n",
    "\n",
    "            for iten in range(len(b)):\n",
    "                i = a.findAll('div', class_ = 'MuiGrid-root MuiGrid-item MuiGrid-grid-xs-12 MuiGrid-grid-md-4')[iten].text\n",
    "                rules_list.append(i)\n",
    "        except:\n",
    "            pass\n",
    "\n",
    "        # Get apartment size\n",
    "        try:\n",
    "            h['size'] = soup.findAll('p', class_ = 'MuiTypography-root jss59 jss43 jss46 MuiTypography-body1 MuiTypography-displayInline')[1].text\n",
    "        except:\n",
    "            pass\n",
    "\n",
    "        # Get lat/long\n",
    "        try:\n",
    "            a = soup.findAll('script', type = 'application/ld+json')[0].get_text\n",
    "            h['lat_long'] = re.findall('(\\d+\\.\\d+)', str(a))\n",
    "        except:\n",
    "            pass\n",
    "\n",
    "        # add datetime\n",
    "        h['scrapy_datetime'] = datetime.now().strftime('%Y/%m/%d - %H:%M:%S')\n",
    "\n",
    "        # Append infos to houses list\n",
    "        houses_df_list.append(h)\n",
    "\n",
    "# Creating a DF\n",
    "df_houses = pd.DataFrame(houses_df_list)"
   ]
  },
  {
   "cell_type": "code",
   "execution_count": 4,
   "id": "dietary-sense",
   "metadata": {
    "execution": {
     "iopub.execute_input": "2021-05-16T22:47:02.371551Z",
     "iopub.status.busy": "2021-05-16T22:47:02.371551Z",
     "iopub.status.idle": "2021-05-16T22:47:02.424550Z",
     "shell.execute_reply": "2021-05-16T22:47:02.422552Z",
     "shell.execute_reply.started": "2021-05-16T22:47:02.371551Z"
    },
    "tags": []
   },
   "outputs": [
    {
     "data": {
      "text/html": [
       "<div>\n",
       "<style scoped>\n",
       "    .dataframe tbody tr th:only-of-type {\n",
       "        vertical-align: middle;\n",
       "    }\n",
       "\n",
       "    .dataframe tbody tr th {\n",
       "        vertical-align: top;\n",
       "    }\n",
       "\n",
       "    .dataframe thead th {\n",
       "        text-align: right;\n",
       "    }\n",
       "</style>\n",
       "<table border=\"1\" class=\"dataframe\">\n",
       "  <thead>\n",
       "    <tr style=\"text-align: right;\">\n",
       "      <th></th>\n",
       "      <th>house_id</th>\n",
       "      <th>city</th>\n",
       "      <th>street</th>\n",
       "      <th>montly_rent</th>\n",
       "      <th>deposit_value</th>\n",
       "      <th>house_rules</th>\n",
       "      <th>size</th>\n",
       "      <th>lat_long</th>\n",
       "      <th>scrapy_datetime</th>\n",
       "    </tr>\n",
       "  </thead>\n",
       "  <tbody>\n",
       "    <tr>\n",
       "      <th>0</th>\n",
       "      <td>1719697</td>\n",
       "      <td>Berlin</td>\n",
       "      <td>Nürnberger Straße</td>\n",
       "      <td>EUR 850</td>\n",
       "      <td>EUR 1700</td>\n",
       "      <td>[Private living room, Private Toilet, Private ...</td>\n",
       "      <td>Property: 22 m2</td>\n",
       "      <td>[52.50027, 13.33596]</td>\n",
       "      <td>2021/05/16 - 18:38:38</td>\n",
       "    </tr>\n",
       "    <tr>\n",
       "      <th>1</th>\n",
       "      <td>1716755</td>\n",
       "      <td>Berlin</td>\n",
       "      <td>Schnellerstraße</td>\n",
       "      <td>EUR 475</td>\n",
       "      <td>EUR 950</td>\n",
       "      <td>[Shared toilet, Shared kitchen, Unisex bathroo...</td>\n",
       "      <td>Property: 90 m2</td>\n",
       "      <td>[52.45495, 13.51636]</td>\n",
       "      <td>2021/05/16 - 18:38:40</td>\n",
       "    </tr>\n",
       "    <tr>\n",
       "      <th>2</th>\n",
       "      <td>1724139</td>\n",
       "      <td>Berlin</td>\n",
       "      <td>Otto-Braun-Straße</td>\n",
       "      <td>EUR 760</td>\n",
       "      <td>EUR 500</td>\n",
       "      <td>[Private facilities, Private Toilet, Private b...</td>\n",
       "      <td>Property: 25 m2</td>\n",
       "      <td>[52.52449, 13.41863]</td>\n",
       "      <td>2021/05/16 - 18:38:41</td>\n",
       "    </tr>\n",
       "    <tr>\n",
       "      <th>3</th>\n",
       "      <td>1721869</td>\n",
       "      <td>Berlin</td>\n",
       "      <td>Otto-Braun-Straße</td>\n",
       "      <td>EUR 760</td>\n",
       "      <td>EUR 500</td>\n",
       "      <td>[Private facilities, Private Toilet, Private b...</td>\n",
       "      <td>Property: 25 m2</td>\n",
       "      <td>[52.52449, 13.41863]</td>\n",
       "      <td>2021/05/16 - 18:38:43</td>\n",
       "    </tr>\n",
       "    <tr>\n",
       "      <th>4</th>\n",
       "      <td>1719698</td>\n",
       "      <td>Berlin</td>\n",
       "      <td>Nürnberger Straße</td>\n",
       "      <td>EUR 900</td>\n",
       "      <td>EUR 1800</td>\n",
       "      <td>[Private living room, Private Toilet, Private ...</td>\n",
       "      <td>Property: 22 m2</td>\n",
       "      <td>[52.50027, 13.33596]</td>\n",
       "      <td>2021/05/16 - 18:38:46</td>\n",
       "    </tr>\n",
       "  </tbody>\n",
       "</table>\n",
       "</div>"
      ],
      "text/plain": [
       "  house_id    city             street montly_rent deposit_value  \\\n",
       "0  1719697  Berlin  Nürnberger Straße     EUR 850      EUR 1700   \n",
       "1  1716755  Berlin    Schnellerstraße     EUR 475       EUR 950   \n",
       "2  1724139  Berlin  Otto-Braun-Straße     EUR 760       EUR 500   \n",
       "3  1721869  Berlin  Otto-Braun-Straße     EUR 760       EUR 500   \n",
       "4  1719698  Berlin  Nürnberger Straße     EUR 900      EUR 1800   \n",
       "\n",
       "                                         house_rules             size  \\\n",
       "0  [Private living room, Private Toilet, Private ...  Property: 22 m2   \n",
       "1  [Shared toilet, Shared kitchen, Unisex bathroo...  Property: 90 m2   \n",
       "2  [Private facilities, Private Toilet, Private b...  Property: 25 m2   \n",
       "3  [Private facilities, Private Toilet, Private b...  Property: 25 m2   \n",
       "4  [Private living room, Private Toilet, Private ...  Property: 22 m2   \n",
       "\n",
       "               lat_long        scrapy_datetime  \n",
       "0  [52.50027, 13.33596]  2021/05/16 - 18:38:38  \n",
       "1  [52.45495, 13.51636]  2021/05/16 - 18:38:40  \n",
       "2  [52.52449, 13.41863]  2021/05/16 - 18:38:41  \n",
       "3  [52.52449, 13.41863]  2021/05/16 - 18:38:43  \n",
       "4  [52.50027, 13.33596]  2021/05/16 - 18:38:46  "
      ]
     },
     "execution_count": 4,
     "metadata": {},
     "output_type": "execute_result"
    }
   ],
   "source": [
    "df_houses.head()"
   ]
  },
  {
   "cell_type": "code",
   "execution_count": 5,
   "id": "understood-atlantic",
   "metadata": {
    "execution": {
     "iopub.execute_input": "2021-05-16T22:47:02.431562Z",
     "iopub.status.busy": "2021-05-16T22:47:02.430560Z",
     "iopub.status.idle": "2021-05-16T22:47:02.451547Z",
     "shell.execute_reply": "2021-05-16T22:47:02.450545Z",
     "shell.execute_reply.started": "2021-05-16T22:47:02.431562Z"
    },
    "tags": []
   },
   "outputs": [
    {
     "data": {
      "text/plain": [
       "house_id            0\n",
       "city                0\n",
       "street              2\n",
       "montly_rent        13\n",
       "deposit_value       2\n",
       "house_rules         0\n",
       "size                2\n",
       "lat_long            2\n",
       "scrapy_datetime     0\n",
       "dtype: int64"
      ]
     },
     "execution_count": 5,
     "metadata": {},
     "output_type": "execute_result"
    }
   ],
   "source": [
    "df_houses.isna().sum()"
   ]
  },
  {
   "cell_type": "code",
   "execution_count": 6,
   "id": "toxic-angle",
   "metadata": {
    "execution": {
     "iopub.execute_input": "2021-05-16T22:47:02.457551Z",
     "iopub.status.busy": "2021-05-16T22:47:02.455544Z",
     "iopub.status.idle": "2021-05-16T22:47:02.473548Z",
     "shell.execute_reply": "2021-05-16T22:47:02.472545Z",
     "shell.execute_reply.started": "2021-05-16T22:47:02.457551Z"
    },
    "tags": []
   },
   "outputs": [
    {
     "data": {
      "text/plain": [
       "(1656, 9)"
      ]
     },
     "execution_count": 6,
     "metadata": {},
     "output_type": "execute_result"
    }
   ],
   "source": [
    "df_houses.shape"
   ]
  },
  {
   "cell_type": "code",
   "execution_count": 8,
   "id": "valued-management",
   "metadata": {
    "execution": {
     "iopub.execute_input": "2021-05-16T22:47:02.535545Z",
     "iopub.status.busy": "2021-05-16T22:47:02.534548Z",
     "iopub.status.idle": "2021-05-16T22:47:02.578701Z",
     "shell.execute_reply": "2021-05-16T22:47:02.576702Z",
     "shell.execute_reply.started": "2021-05-16T22:47:02.535545Z"
    },
    "tags": []
   },
   "outputs": [
    {
     "data": {
      "text/plain": [
       "array(['Berlin', 'Munich', 'Dusseldorf', 'Cologne', 'Dortmund',\n",
       "       'Frankfurt-am-Main', 'Nuremberg', 'Stuttgart', 'Hamburg',\n",
       "       'Hanover', 'Leipzig'], dtype=object)"
      ]
     },
     "execution_count": 8,
     "metadata": {},
     "output_type": "execute_result"
    }
   ],
   "source": [
    "df_houses['city'].unique()"
   ]
  },
  {
   "cell_type": "code",
   "execution_count": 9,
   "id": "different-explorer",
   "metadata": {
    "execution": {
     "iopub.execute_input": "2021-05-16T22:47:02.583703Z",
     "iopub.status.busy": "2021-05-16T22:47:02.582702Z",
     "iopub.status.idle": "2021-05-16T22:47:02.663705Z",
     "shell.execute_reply": "2021-05-16T22:47:02.662702Z",
     "shell.execute_reply.started": "2021-05-16T22:47:02.583703Z"
    },
    "tags": []
   },
   "outputs": [
    {
     "data": {
      "text/html": [
       "<div>\n",
       "<style scoped>\n",
       "    .dataframe tbody tr th:only-of-type {\n",
       "        vertical-align: middle;\n",
       "    }\n",
       "\n",
       "    .dataframe tbody tr th {\n",
       "        vertical-align: top;\n",
       "    }\n",
       "\n",
       "    .dataframe thead th {\n",
       "        text-align: right;\n",
       "    }\n",
       "</style>\n",
       "<table border=\"1\" class=\"dataframe\">\n",
       "  <thead>\n",
       "    <tr style=\"text-align: right;\">\n",
       "      <th></th>\n",
       "      <th>house_id</th>\n",
       "      <th>city</th>\n",
       "      <th>street</th>\n",
       "      <th>montly_rent</th>\n",
       "      <th>deposit_value</th>\n",
       "      <th>house_rules</th>\n",
       "      <th>size</th>\n",
       "      <th>lat_long</th>\n",
       "      <th>scrapy_datetime</th>\n",
       "    </tr>\n",
       "  </thead>\n",
       "  <tbody>\n",
       "    <tr>\n",
       "      <th>0</th>\n",
       "      <td>1719697</td>\n",
       "      <td>Berlin</td>\n",
       "      <td>Nürnberger Straße</td>\n",
       "      <td>EUR 850</td>\n",
       "      <td>EUR 1700</td>\n",
       "      <td>[Private living room, Private Toilet, Private ...</td>\n",
       "      <td>Property: 22 m2</td>\n",
       "      <td>[52.50027, 13.33596]</td>\n",
       "      <td>2021/05/16 - 18:38:38</td>\n",
       "    </tr>\n",
       "    <tr>\n",
       "      <th>1</th>\n",
       "      <td>1716755</td>\n",
       "      <td>Berlin</td>\n",
       "      <td>Schnellerstraße</td>\n",
       "      <td>EUR 475</td>\n",
       "      <td>EUR 950</td>\n",
       "      <td>[Shared toilet, Shared kitchen, Unisex bathroo...</td>\n",
       "      <td>Property: 90 m2</td>\n",
       "      <td>[52.45495, 13.51636]</td>\n",
       "      <td>2021/05/16 - 18:38:40</td>\n",
       "    </tr>\n",
       "    <tr>\n",
       "      <th>2</th>\n",
       "      <td>1724139</td>\n",
       "      <td>Berlin</td>\n",
       "      <td>Otto-Braun-Straße</td>\n",
       "      <td>EUR 760</td>\n",
       "      <td>EUR 500</td>\n",
       "      <td>[Private facilities, Private Toilet, Private b...</td>\n",
       "      <td>Property: 25 m2</td>\n",
       "      <td>[52.52449, 13.41863]</td>\n",
       "      <td>2021/05/16 - 18:38:41</td>\n",
       "    </tr>\n",
       "    <tr>\n",
       "      <th>3</th>\n",
       "      <td>1721869</td>\n",
       "      <td>Berlin</td>\n",
       "      <td>Otto-Braun-Straße</td>\n",
       "      <td>EUR 760</td>\n",
       "      <td>EUR 500</td>\n",
       "      <td>[Private facilities, Private Toilet, Private b...</td>\n",
       "      <td>Property: 25 m2</td>\n",
       "      <td>[52.52449, 13.41863]</td>\n",
       "      <td>2021/05/16 - 18:38:43</td>\n",
       "    </tr>\n",
       "    <tr>\n",
       "      <th>4</th>\n",
       "      <td>1719698</td>\n",
       "      <td>Berlin</td>\n",
       "      <td>Nürnberger Straße</td>\n",
       "      <td>EUR 900</td>\n",
       "      <td>EUR 1800</td>\n",
       "      <td>[Private living room, Private Toilet, Private ...</td>\n",
       "      <td>Property: 22 m2</td>\n",
       "      <td>[52.50027, 13.33596]</td>\n",
       "      <td>2021/05/16 - 18:38:46</td>\n",
       "    </tr>\n",
       "  </tbody>\n",
       "</table>\n",
       "</div>"
      ],
      "text/plain": [
       "  house_id    city             street montly_rent deposit_value  \\\n",
       "0  1719697  Berlin  Nürnberger Straße     EUR 850      EUR 1700   \n",
       "1  1716755  Berlin    Schnellerstraße     EUR 475       EUR 950   \n",
       "2  1724139  Berlin  Otto-Braun-Straße     EUR 760       EUR 500   \n",
       "3  1721869  Berlin  Otto-Braun-Straße     EUR 760       EUR 500   \n",
       "4  1719698  Berlin  Nürnberger Straße     EUR 900      EUR 1800   \n",
       "\n",
       "                                         house_rules             size  \\\n",
       "0  [Private living room, Private Toilet, Private ...  Property: 22 m2   \n",
       "1  [Shared toilet, Shared kitchen, Unisex bathroo...  Property: 90 m2   \n",
       "2  [Private facilities, Private Toilet, Private b...  Property: 25 m2   \n",
       "3  [Private facilities, Private Toilet, Private b...  Property: 25 m2   \n",
       "4  [Private living room, Private Toilet, Private ...  Property: 22 m2   \n",
       "\n",
       "               lat_long        scrapy_datetime  \n",
       "0  [52.50027, 13.33596]  2021/05/16 - 18:38:38  \n",
       "1  [52.45495, 13.51636]  2021/05/16 - 18:38:40  \n",
       "2  [52.52449, 13.41863]  2021/05/16 - 18:38:41  \n",
       "3  [52.52449, 13.41863]  2021/05/16 - 18:38:43  \n",
       "4  [52.50027, 13.33596]  2021/05/16 - 18:38:46  "
      ]
     },
     "execution_count": 9,
     "metadata": {},
     "output_type": "execute_result"
    }
   ],
   "source": [
    "df_houses.head()"
   ]
  },
  {
   "cell_type": "code",
   "execution_count": 22,
   "id": "advance-suite",
   "metadata": {
    "execution": {
     "iopub.execute_input": "2021-05-16T22:59:24.320066Z",
     "iopub.status.busy": "2021-05-16T22:59:24.320066Z",
     "iopub.status.idle": "2021-05-16T22:59:24.330066Z",
     "shell.execute_reply": "2021-05-16T22:59:24.329066Z",
     "shell.execute_reply.started": "2021-05-16T22:59:24.320066Z"
    }
   },
   "outputs": [
    {
     "data": {
      "text/plain": [
       "house_id           object\n",
       "city               object\n",
       "street             object\n",
       "montly_rent        object\n",
       "deposit_value      object\n",
       "house_rules        object\n",
       "size               object\n",
       "lat_long           object\n",
       "scrapy_datetime    object\n",
       "dtype: object"
      ]
     },
     "execution_count": 22,
     "metadata": {},
     "output_type": "execute_result"
    }
   ],
   "source": [
    "df_houses.dtypes"
   ]
  },
  {
   "cell_type": "code",
   "execution_count": 7,
   "id": "going-christmas",
   "metadata": {
    "execution": {
     "iopub.execute_input": "2021-05-17T08:10:46.924960Z",
     "iopub.status.busy": "2021-05-17T08:10:46.923958Z",
     "iopub.status.idle": "2021-05-17T08:10:46.947955Z",
     "shell.execute_reply": "2021-05-17T08:10:46.945956Z",
     "shell.execute_reply.started": "2021-05-17T08:10:46.924960Z"
    },
    "tags": []
   },
   "outputs": [
    {
     "data": {
      "text/plain": [
       "Unnamed: 0         0\n",
       "house_id           0\n",
       "city               0\n",
       "street             0\n",
       "montly_rent        0\n",
       "deposit_value      0\n",
       "house_rules        0\n",
       "size               0\n",
       "lat_long           0\n",
       "scrapy_datetime    0\n",
       "dtype: int64"
      ]
     },
     "execution_count": 7,
     "metadata": {},
     "output_type": "execute_result"
    }
   ],
   "source": [
    "df_houses.isna().sum()"
   ]
  },
  {
   "cell_type": "code",
   "execution_count": 6,
   "id": "designed-slide",
   "metadata": {
    "execution": {
     "iopub.execute_input": "2021-05-17T08:10:44.233876Z",
     "iopub.status.busy": "2021-05-17T08:10:44.233876Z",
     "iopub.status.idle": "2021-05-17T08:10:44.262879Z",
     "shell.execute_reply": "2021-05-17T08:10:44.261881Z",
     "shell.execute_reply.started": "2021-05-17T08:10:44.233876Z"
    },
    "tags": []
   },
   "outputs": [],
   "source": [
    "df_houses.dropna(inplace = True)"
   ]
  },
  {
   "cell_type": "code",
   "execution_count": 15,
   "id": "executive-sandwich",
   "metadata": {
    "execution": {
     "iopub.execute_input": "2021-05-17T08:12:59.533104Z",
     "iopub.status.busy": "2021-05-17T08:12:59.532096Z",
     "iopub.status.idle": "2021-05-17T08:12:59.542093Z",
     "shell.execute_reply": "2021-05-17T08:12:59.541091Z",
     "shell.execute_reply.started": "2021-05-17T08:12:59.533104Z"
    },
    "tags": []
   },
   "outputs": [],
   "source": [
    "df_houses['lat_long'] = df_houses['lat_long'].apply(lambda x: re.findall('(\\d+\\.\\d+)', x))\n",
    "df_houses['lat'] = df_houses['lat_long'].apply(lambda x: x[0])\n",
    "df_houses['long'] = df_houses['lat_long'].apply(lambda x: x[1])"
   ]
  },
  {
   "cell_type": "code",
   "execution_count": 42,
   "id": "emotional-responsibility",
   "metadata": {
    "execution": {
     "iopub.execute_input": "2021-05-17T08:42:59.713365Z",
     "iopub.status.busy": "2021-05-17T08:42:59.712366Z",
     "iopub.status.idle": "2021-05-17T08:42:59.786365Z",
     "shell.execute_reply": "2021-05-17T08:42:59.784367Z",
     "shell.execute_reply.started": "2021-05-17T08:42:59.713365Z"
    },
    "tags": []
   },
   "outputs": [],
   "source": [
    "# Save to csv\n",
    "df_houses.to_csv('../data/df_houses_full_raw.csv', index=False)"
   ]
  },
  {
   "cell_type": "markdown",
   "id": "interior-range",
   "metadata": {},
   "source": [
    "## Forquare API - nearby venues scraping."
   ]
  },
  {
   "cell_type": "code",
   "execution_count": 34,
   "id": "unavailable-trinidad",
   "metadata": {
    "execution": {
     "iopub.execute_input": "2021-05-17T08:19:54.912492Z",
     "iopub.status.busy": "2021-05-17T08:19:54.911491Z",
     "iopub.status.idle": "2021-05-17T08:38:46.691919Z",
     "shell.execute_reply": "2021-05-17T08:38:46.690964Z",
     "shell.execute_reply.started": "2021-05-17T08:19:54.912492Z"
    },
    "tags": []
   },
   "outputs": [],
   "source": [
    "# Set Forsquare API - client id and password \n",
    "\n",
    "CLIENT_ID = 'YOUR FOURSQUARE API CLIENT ID' \n",
    "CLIENT_SECRET = 'YOUR FOURSQUARE API SECRET KEY' \n",
    "VERSION = '20210510' \n",
    "LIMIT = 100 \n",
    "\n",
    "# get the nearby venues from each house from df_houses\n",
    "venues_list=[]\n",
    "for name, lat, long in zip(df_houses['house_id'], df_houses['lat'], df_houses['long']):\n",
    "    #print(name)\n",
    "\n",
    "    # create the API request URL\n",
    "    url = f'https://api.foursquare.com/v2/venues/explore?client_id={CLIENT_ID}&client_secret={CLIENT_SECRET}&v={VERSION}&ll={lat},{long}&radius=500&limit={LIMIT}'\n",
    "\n",
    "    # make the GET request\n",
    "    try:\n",
    "        results = requests.get(url).json()[\"response\"]['groups'][0]['items']\n",
    "    except:\n",
    "        pass\n",
    "    \n",
    "# return only relevant information for each nearby venue\n",
    "    venues_list.append([(\n",
    "        name, \n",
    "        lat, \n",
    "        long, \n",
    "        v['venue']['name'],\n",
    "        #v['venue']['location']['city'],\n",
    "        #v['venue']['location']['address'],\n",
    "        #v['venue']['location']['formattedAddress'][0],\n",
    "        v['venue']['location']['formattedAddress'],\n",
    "        v['venue']['categories'][0]['name'],\n",
    "        v['venue']['location']['lat'], \n",
    "        v['venue']['location']['lng'],) for v in results])\n",
    "    \n",
    "# storing the venues in a dataframe\n",
    "nearby_venues = pd.DataFrame([item for venue_list in venues_list for item in venue_list])\n",
    "nearby_venues.columns = ['house_id', \n",
    "              'house_latitude', \n",
    "              'hoouse_longitude', \n",
    "              'venue',\n",
    "              #'venue_address',\n",
    "              'city',\n",
    "              'venue_category',\n",
    "              'venue_latitude', \n",
    "              'venue_longitude']"
   ]
  },
  {
   "cell_type": "code",
   "execution_count": 35,
   "id": "considered-upset",
   "metadata": {
    "execution": {
     "iopub.execute_input": "2021-05-17T08:38:46.694922Z",
     "iopub.status.busy": "2021-05-17T08:38:46.693919Z",
     "iopub.status.idle": "2021-05-17T08:38:46.739618Z",
     "shell.execute_reply": "2021-05-17T08:38:46.738620Z",
     "shell.execute_reply.started": "2021-05-17T08:38:46.694922Z"
    },
    "tags": []
   },
   "outputs": [
    {
     "data": {
      "text/plain": [
       "house_id            0\n",
       "house_latitude      0\n",
       "hoouse_longitude    0\n",
       "venue               0\n",
       "city                0\n",
       "venue_category      0\n",
       "venue_latitude      0\n",
       "venue_longitude     0\n",
       "dtype: int64"
      ]
     },
     "execution_count": 35,
     "metadata": {},
     "output_type": "execute_result"
    }
   ],
   "source": [
    "nearby_venues.isna().sum()"
   ]
  },
  {
   "cell_type": "code",
   "execution_count": 41,
   "id": "criminal-temple",
   "metadata": {
    "execution": {
     "iopub.execute_input": "2021-05-17T08:41:16.287913Z",
     "iopub.status.busy": "2021-05-17T08:41:16.286906Z",
     "iopub.status.idle": "2021-05-17T08:41:16.310912Z",
     "shell.execute_reply": "2021-05-17T08:41:16.309908Z",
     "shell.execute_reply.started": "2021-05-17T08:41:16.287913Z"
    },
    "tags": []
   },
   "outputs": [
    {
     "data": {
      "text/plain": [
       "421"
      ]
     },
     "execution_count": 41,
     "metadata": {},
     "output_type": "execute_result"
    }
   ],
   "source": [
    "len(nearby_venues['venue_category'].unique())"
   ]
  },
  {
   "cell_type": "code",
   "execution_count": 39,
   "id": "hawaiian-share",
   "metadata": {
    "execution": {
     "iopub.execute_input": "2021-05-17T08:40:23.413895Z",
     "iopub.status.busy": "2021-05-17T08:40:23.412896Z",
     "iopub.status.idle": "2021-05-17T08:40:24.048546Z",
     "shell.execute_reply": "2021-05-17T08:40:24.047544Z",
     "shell.execute_reply.started": "2021-05-17T08:40:23.412896Z"
    },
    "tags": []
   },
   "outputs": [],
   "source": [
    "# save to a CSV file\n",
    "nearby_venues.to_csv('../data/nearby_venues_full_raw.csv', index=False)"
   ]
  },
  {
   "cell_type": "code",
   "execution_count": null,
   "id": "higher-split",
   "metadata": {},
   "outputs": [],
   "source": []
  }
 ],
 "metadata": {
  "kernelspec": {
   "display_name": "Python 3",
   "language": "python",
   "name": "python3"
  },
  "language_info": {
   "codemirror_mode": {
    "name": "ipython",
    "version": 3
   },
   "file_extension": ".py",
   "mimetype": "text/x-python",
   "name": "python",
   "nbconvert_exporter": "python",
   "pygments_lexer": "ipython3",
   "version": "3.8.8"
  }
 },
 "nbformat": 4,
 "nbformat_minor": 5
}
