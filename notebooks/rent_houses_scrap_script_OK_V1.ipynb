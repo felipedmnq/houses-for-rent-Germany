{
 "cells": [
  {
   "cell_type": "code",
   "execution_count": 28,
   "id": "sonic-footage",
   "metadata": {
    "execution": {
     "iopub.execute_input": "2021-05-13T09:27:40.794096Z",
     "iopub.status.busy": "2021-05-13T09:27:40.793096Z",
     "iopub.status.idle": "2021-05-13T09:27:40.802094Z",
     "shell.execute_reply": "2021-05-13T09:27:40.800093Z",
     "shell.execute_reply.started": "2021-05-13T09:27:40.794096Z"
    },
    "tags": []
   },
   "outputs": [],
   "source": [
    "from bs4 import BeautifulSoup\n",
    "import requests\n",
    "import pandas as pd\n",
    "from datetime import datetime\n",
    "import re\n",
    "\n",
    "import seaborn as sns\n",
    "from matplotlib             import pyplot as plt\n",
    "from IPython.core.display   import HTML\n",
    "from IPython.display        import Image"
   ]
  },
  {
   "cell_type": "markdown",
   "id": "technological-white",
   "metadata": {},
   "source": [
    "## Rent houses webscraping"
   ]
  },
  {
   "cell_type": "code",
   "execution_count": 1,
   "id": "purple-branch",
   "metadata": {
    "execution": {
     "iopub.execute_input": "2021-05-11T22:30:43.125188Z",
     "iopub.status.busy": "2021-05-11T22:30:43.124185Z",
     "iopub.status.idle": "2021-05-11T22:30:43.132183Z",
     "shell.execute_reply": "2021-05-11T22:30:43.131182Z",
     "shell.execute_reply.started": "2021-05-11T22:30:43.125188Z"
    },
    "tags": []
   },
   "outputs": [],
   "source": [
    "get_houses_id('Berlin', get_pages_number('Berlin'))"
   ]
  },
  {
   "cell_type": "code",
   "execution_count": 56,
   "id": "junior-atlanta",
   "metadata": {
    "execution": {
     "iopub.execute_input": "2021-05-13T15:14:55.547007Z",
     "iopub.status.busy": "2021-05-13T15:14:55.546006Z",
     "iopub.status.idle": "2021-05-13T16:22:40.781864Z",
     "shell.execute_reply": "2021-05-13T16:22:40.767356Z",
     "shell.execute_reply.started": "2021-05-13T15:14:55.547007Z"
    },
    "tags": []
   },
   "outputs": [
    {
     "name": "stdout",
     "output_type": "stream",
     "text": [
      "Berlin\n",
      "Munich\n",
      "Dusseldorf\n",
      "Cologne\n",
      "Dortmund\n",
      "Frankfurt-am-Main\n",
      "Nuremberg\n",
      "Stuttgart\n",
      "Hamburg\n",
      "Hanover\n",
      "Leipzig\n"
     ]
    }
   ],
   "source": [
    "# get all houses links from determinated city\n",
    "\n",
    "# define a header\n",
    "headers = {'User-Agent': 'Mozilla/5.0 (Macintosh; Intel Mac OS X 10_11_5) AppleWebKit/537.36 (KHTML, like Gecko) Chrome/50.0.2661.102 Safari/537.36'}\n",
    "\n",
    "# define City\n",
    "cities = ['Berlin', 'Munich', 'Dusseldorf', 'Cologne', 'Dortmund', 'Frankfurt-am-Main', 'Nuremberg', 'Stuttgart', 'Hamburg', 'Hanover', 'Leipzig']\n",
    "\n",
    "# list with dicts - houses infos \n",
    "houses_df_list = []\n",
    "\n",
    "for city in cities:\n",
    "    print(city)\n",
    "    \n",
    "    # define a url for each city\n",
    "    url = f'https://housinganywhere.com/s/{city}--Germany/apartment-for-rent'    \n",
    "    page = requests.get(url, headers=headers)\n",
    "\n",
    "    # instance BS\n",
    "    soup = BeautifulSoup(page.text, 'html.parser')\n",
    "\n",
    "    # getting total pages number\n",
    "    a = soup.find('div', class_ = 'MuiGrid-root jss208 jss207 MuiGrid-container MuiGrid-justify-xs-flex-end')\n",
    "    try:\n",
    "        try:\n",
    "            b = a.findAll('a',class_ = 'MuiButtonBase-root MuiButton-root MuiButton-outlined jss209 MuiButton-outlinedSizeSmall MuiButton-sizeSmall')[3].span.text\n",
    "            page_numbers = int(b)\n",
    "        except:\n",
    "            b = a.findAll('a',class_ = 'MuiButtonBase-root MuiButton-root MuiButton-outlined jss209 MuiButton-outlinedSizeSmall MuiButton-sizeSmall')[2].span.text\n",
    "            page_numbers = int(b)\n",
    "    except:\n",
    "        pass\n",
    "\n",
    "    # Crete a empty list for houses infos\n",
    "    houses_links = []\n",
    "\n",
    "    # going thru all pages from city\n",
    "    for page in range(page_numbers):\n",
    "        url = f'https://housinganywhere.com/s/{city}--Germany/apartment-for-rent?page={page}'\n",
    "        page = requests.get(url, headers=headers)\n",
    "        soup = BeautifulSoup(page.text, 'html.parser')\n",
    "        houses_list = soup.findAll('a', class_ = 'jss169 jss14')\n",
    "\n",
    "        # going thru all houses from page\n",
    "        for h in range(len(houses_list)):\n",
    "            id = soup.findAll('a', class_ = 'jss169 jss14')[h].get('href').split('/')[2]\n",
    "            comp = soup.findAll('a', class_ = 'jss169 jss14')[h].get('href').split('/')[-1]\n",
    "\n",
    "            # get url from each house at houses list\n",
    "            url = f'https://housinganywhere.com/room/{id}/de/{city}/{comp}'\n",
    "            houses_links.append(url)\n",
    "\n",
    "        houses_list.clear()\n",
    "\n",
    "    # get houses infos link by link\n",
    "    for house in houses_links:\n",
    "        h = {}\n",
    "\n",
    "        url = f'{str(house)}'\n",
    "\n",
    "        headers = {'User-Agent': 'Mozilla/5.0 (Macintosh; Intel Mac OS X 10_11_5) AppleWebKit/537.36 (KHTML, like Gecko) Chrome/50.0.2661.102 Safari/537.36'}\n",
    "        page = requests.get(url, headers=headers)\n",
    "\n",
    "        # Html \n",
    "        soup = BeautifulSoup(page.text, 'html.parser')\n",
    "\n",
    "        # Hause ID\n",
    "        try:\n",
    "            h['house_id'] = url.split('/')[4]\n",
    "        except:\n",
    "            pass\n",
    "\n",
    "        # City\n",
    "        h['city'] = city\n",
    "\n",
    "        # Location (coordinates? Street?)\n",
    "        try:\n",
    "            a = soup.findAll('h1', class_ = 'MuiTypography-root jss52 jss43 jss46 MuiTypography-h1 MuiTypography-displayBlock')\n",
    "            h['street'] = a[0].text\n",
    "        except:\n",
    "            pass\n",
    "\n",
    "        # Montly rent value\n",
    "        try:\n",
    "            h['montly_rent'] = soup.findAll('p', class_ = 'MuiTypography-root jss105 jss55 jss43 jss49 MuiTypography-h2 MuiTypography-displayBlock')[0].text\n",
    "        except:\n",
    "            pass\n",
    "\n",
    "        # Deposit value\n",
    "        try:\n",
    "            if len(soup.findAll('div', class_ = 'MuiGrid-root MuiGrid-container MuiGrid-item MuiGrid-justify-xs-flex-end MuiGrid-grid-xs-6')) > 1:\n",
    "                h['deposit_value'] = soup.findAll('div', class_ = 'MuiGrid-root MuiGrid-container MuiGrid-item MuiGrid-justify-xs-flex-end MuiGrid-grid-xs-6')[1].text\n",
    "            else:\n",
    "                h['deposit_value'] = soup.findAll('div', class_ = 'MuiGrid-root MuiGrid-container MuiGrid-item MuiGrid-justify-xs-flex-end MuiGrid-grid-xs-6')[0].text\n",
    "        except:\n",
    "            pass\n",
    "\n",
    "        # House rules - TRY TO FILTER \"PET ALLOWED\"\n",
    "        try:\n",
    "            h['house_rules'] = rules_list = []\n",
    "\n",
    "            a =  soup.findAll('div', class_ = 'MuiGrid-root MuiGrid-item MuiGrid-grid-xs-12')[1]\n",
    "\n",
    "            b = a.findAll('div', class_ = 'MuiGrid-root MuiGrid-item MuiGrid-grid-xs-12 MuiGrid-grid-md-4')\n",
    "\n",
    "            for iten in range(len(b)):\n",
    "                i = a.findAll('div', class_ = 'MuiGrid-root MuiGrid-item MuiGrid-grid-xs-12 MuiGrid-grid-md-4')[iten].text\n",
    "                rules_list.append(i)\n",
    "        except:\n",
    "            pass\n",
    "\n",
    "        # Get apartment size\n",
    "        try:\n",
    "            h['size'] = soup.findAll('p', class_ = 'MuiTypography-root jss59 jss43 jss46 MuiTypography-body1 MuiTypography-displayInline')[1].text\n",
    "        except:\n",
    "            pass\n",
    "\n",
    "        # Get lat/long\n",
    "        try:\n",
    "            a = soup.findAll('script', type = 'application/ld+json')[0].get_text\n",
    "            h['lat_long'] = re.findall('(\\d+\\.\\d+)', str(a))\n",
    "        except:\n",
    "            pass\n",
    "\n",
    "        # add datetime\n",
    "        h['scrapy_datetime'] = datetime.now().strftime('%Y/%m/%d - %H:%M:%S')\n",
    "\n",
    "        # Append infos to houses list\n",
    "        houses_df_list.append(h)\n",
    "\n",
    "# Creating a DF\n",
    "df_houses = pd.DataFrame(houses_df_list)"
   ]
  },
  {
   "cell_type": "code",
   "execution_count": 57,
   "id": "cordless-gardening",
   "metadata": {
    "execution": {
     "iopub.execute_input": "2021-05-13T16:22:40.799866Z",
     "iopub.status.busy": "2021-05-13T16:22:40.798867Z",
     "iopub.status.idle": "2021-05-13T16:22:40.900562Z",
     "shell.execute_reply": "2021-05-13T16:22:40.898560Z",
     "shell.execute_reply.started": "2021-05-13T16:22:40.799866Z"
    },
    "tags": []
   },
   "outputs": [
    {
     "data": {
      "text/html": [
       "<div>\n",
       "<style scoped>\n",
       "    .dataframe tbody tr th:only-of-type {\n",
       "        vertical-align: middle;\n",
       "    }\n",
       "\n",
       "    .dataframe tbody tr th {\n",
       "        vertical-align: top;\n",
       "    }\n",
       "\n",
       "    .dataframe thead th {\n",
       "        text-align: right;\n",
       "    }\n",
       "</style>\n",
       "<table border=\"1\" class=\"dataframe\">\n",
       "  <thead>\n",
       "    <tr style=\"text-align: right;\">\n",
       "      <th></th>\n",
       "      <th>house_id</th>\n",
       "      <th>city</th>\n",
       "      <th>street</th>\n",
       "      <th>montly_rent</th>\n",
       "      <th>deposit_value</th>\n",
       "      <th>house_rules</th>\n",
       "      <th>size</th>\n",
       "      <th>lat_long</th>\n",
       "      <th>scrapy_datetime</th>\n",
       "    </tr>\n",
       "  </thead>\n",
       "  <tbody>\n",
       "    <tr>\n",
       "      <th>0</th>\n",
       "      <td>1719697</td>\n",
       "      <td>Berlin</td>\n",
       "      <td>Nürnberger Straße</td>\n",
       "      <td>EUR 850</td>\n",
       "      <td>EUR 1700</td>\n",
       "      <td>[Private living room, Private Toilet, Private ...</td>\n",
       "      <td>Property: 22 m2</td>\n",
       "      <td>[52.50027, 13.33596]</td>\n",
       "      <td>2021/05/13 - 12:16:03</td>\n",
       "    </tr>\n",
       "    <tr>\n",
       "      <th>1</th>\n",
       "      <td>1716752</td>\n",
       "      <td>Berlin</td>\n",
       "      <td>Schnellerstraße</td>\n",
       "      <td>EUR 450</td>\n",
       "      <td>EUR 900</td>\n",
       "      <td>[Shared toilet, Shared kitchen, Unisex bathroo...</td>\n",
       "      <td>Property: 90 m2</td>\n",
       "      <td>[52.45495, 13.51636]</td>\n",
       "      <td>2021/05/13 - 12:16:05</td>\n",
       "    </tr>\n",
       "    <tr>\n",
       "      <th>2</th>\n",
       "      <td>1716755</td>\n",
       "      <td>Berlin</td>\n",
       "      <td>Schnellerstraße</td>\n",
       "      <td>EUR 475</td>\n",
       "      <td>EUR 950</td>\n",
       "      <td>[Shared toilet, Shared kitchen, Unisex bathroo...</td>\n",
       "      <td>Property: 90 m2</td>\n",
       "      <td>[52.45495, 13.51636]</td>\n",
       "      <td>2021/05/13 - 12:16:07</td>\n",
       "    </tr>\n",
       "    <tr>\n",
       "      <th>3</th>\n",
       "      <td>1724139</td>\n",
       "      <td>Berlin</td>\n",
       "      <td>Otto-Braun-Straße</td>\n",
       "      <td>EUR 760</td>\n",
       "      <td>EUR 500</td>\n",
       "      <td>[Private facilities, Private Toilet, Private b...</td>\n",
       "      <td>Property: 25 m2</td>\n",
       "      <td>[52.52449, 13.41863]</td>\n",
       "      <td>2021/05/13 - 12:16:09</td>\n",
       "    </tr>\n",
       "    <tr>\n",
       "      <th>4</th>\n",
       "      <td>1721869</td>\n",
       "      <td>Berlin</td>\n",
       "      <td>Otto-Braun-Straße</td>\n",
       "      <td>EUR 760</td>\n",
       "      <td>EUR 500</td>\n",
       "      <td>[Private facilities, Private Toilet, Private b...</td>\n",
       "      <td>Property: 25 m2</td>\n",
       "      <td>[52.52449, 13.41863]</td>\n",
       "      <td>2021/05/13 - 12:16:11</td>\n",
       "    </tr>\n",
       "  </tbody>\n",
       "</table>\n",
       "</div>"
      ],
      "text/plain": [
       "  house_id    city             street montly_rent deposit_value  \\\n",
       "0  1719697  Berlin  Nürnberger Straße     EUR 850      EUR 1700   \n",
       "1  1716752  Berlin    Schnellerstraße     EUR 450       EUR 900   \n",
       "2  1716755  Berlin    Schnellerstraße     EUR 475       EUR 950   \n",
       "3  1724139  Berlin  Otto-Braun-Straße     EUR 760       EUR 500   \n",
       "4  1721869  Berlin  Otto-Braun-Straße     EUR 760       EUR 500   \n",
       "\n",
       "                                         house_rules             size  \\\n",
       "0  [Private living room, Private Toilet, Private ...  Property: 22 m2   \n",
       "1  [Shared toilet, Shared kitchen, Unisex bathroo...  Property: 90 m2   \n",
       "2  [Shared toilet, Shared kitchen, Unisex bathroo...  Property: 90 m2   \n",
       "3  [Private facilities, Private Toilet, Private b...  Property: 25 m2   \n",
       "4  [Private facilities, Private Toilet, Private b...  Property: 25 m2   \n",
       "\n",
       "               lat_long        scrapy_datetime  \n",
       "0  [52.50027, 13.33596]  2021/05/13 - 12:16:03  \n",
       "1  [52.45495, 13.51636]  2021/05/13 - 12:16:05  \n",
       "2  [52.45495, 13.51636]  2021/05/13 - 12:16:07  \n",
       "3  [52.52449, 13.41863]  2021/05/13 - 12:16:09  \n",
       "4  [52.52449, 13.41863]  2021/05/13 - 12:16:11  "
      ]
     },
     "execution_count": 57,
     "metadata": {},
     "output_type": "execute_result"
    }
   ],
   "source": [
    "df_houses.head()"
   ]
  },
  {
   "cell_type": "code",
   "execution_count": 58,
   "id": "prospective-wireless",
   "metadata": {
    "execution": {
     "iopub.execute_input": "2021-05-13T16:22:40.908562Z",
     "iopub.status.busy": "2021-05-13T16:22:40.907562Z",
     "iopub.status.idle": "2021-05-13T16:22:41.171112Z",
     "shell.execute_reply": "2021-05-13T16:22:41.169112Z",
     "shell.execute_reply.started": "2021-05-13T16:22:40.908562Z"
    },
    "tags": []
   },
   "outputs": [
    {
     "data": {
      "text/plain": [
       "house_id            0\n",
       "city                0\n",
       "street              2\n",
       "montly_rent        13\n",
       "deposit_value       2\n",
       "house_rules         0\n",
       "size                2\n",
       "lat_long            2\n",
       "scrapy_datetime     0\n",
       "dtype: int64"
      ]
     },
     "execution_count": 58,
     "metadata": {},
     "output_type": "execute_result"
    }
   ],
   "source": [
    "df_houses.isna().sum()"
   ]
  },
  {
   "cell_type": "code",
   "execution_count": 59,
   "id": "animal-symphony",
   "metadata": {
    "execution": {
     "iopub.execute_input": "2021-05-13T16:22:41.178113Z",
     "iopub.status.busy": "2021-05-13T16:22:41.176114Z",
     "iopub.status.idle": "2021-05-13T16:22:41.237208Z",
     "shell.execute_reply": "2021-05-13T16:22:41.235207Z",
     "shell.execute_reply.started": "2021-05-13T16:22:41.177113Z"
    },
    "tags": []
   },
   "outputs": [
    {
     "data": {
      "text/plain": [
       "(1728, 9)"
      ]
     },
     "execution_count": 59,
     "metadata": {},
     "output_type": "execute_result"
    }
   ],
   "source": [
    "df_houses.shape"
   ]
  },
  {
   "cell_type": "code",
   "execution_count": 61,
   "id": "optical-dominant",
   "metadata": {
    "execution": {
     "iopub.execute_input": "2021-05-13T16:30:24.604933Z",
     "iopub.status.busy": "2021-05-13T16:30:24.603930Z",
     "iopub.status.idle": "2021-05-13T16:30:24.767118Z",
     "shell.execute_reply": "2021-05-13T16:30:24.765122Z",
     "shell.execute_reply.started": "2021-05-13T16:30:24.604933Z"
    }
   },
   "outputs": [],
   "source": [
    "# Save to csv\n",
    "# df_houses.to_csv('data/df_houses_full_raw.csv', index=False)"
   ]
  },
  {
   "cell_type": "code",
   "execution_count": 60,
   "id": "political-architect",
   "metadata": {
    "execution": {
     "iopub.execute_input": "2021-05-13T16:22:41.245211Z",
     "iopub.status.busy": "2021-05-13T16:22:41.243208Z",
     "iopub.status.idle": "2021-05-13T16:22:41.668274Z",
     "shell.execute_reply": "2021-05-13T16:22:41.665276Z",
     "shell.execute_reply.started": "2021-05-13T16:22:41.245211Z"
    },
    "tags": []
   },
   "outputs": [
    {
     "data": {
      "text/plain": [
       "array(['Berlin', 'Munich', 'Dusseldorf', 'Cologne', 'Dortmund',\n",
       "       'Frankfurt-am-Main', 'Nuremberg', 'Stuttgart', 'Hamburg',\n",
       "       'Hanover', 'Leipzig'], dtype=object)"
      ]
     },
     "execution_count": 60,
     "metadata": {},
     "output_type": "execute_result"
    }
   ],
   "source": [
    "df_houses['city'].unique()"
   ]
  },
  {
   "cell_type": "code",
   "execution_count": 142,
   "id": "southeast-freight",
   "metadata": {
    "execution": {
     "iopub.execute_input": "2021-05-16T12:29:08.112473Z",
     "iopub.status.busy": "2021-05-16T12:29:08.111476Z",
     "iopub.status.idle": "2021-05-16T12:29:08.152303Z",
     "shell.execute_reply": "2021-05-16T12:29:08.150304Z",
     "shell.execute_reply.started": "2021-05-16T12:29:08.112473Z"
    },
    "tags": []
   },
   "outputs": [
    {
     "data": {
      "text/html": [
       "<div>\n",
       "<style scoped>\n",
       "    .dataframe tbody tr th:only-of-type {\n",
       "        vertical-align: middle;\n",
       "    }\n",
       "\n",
       "    .dataframe tbody tr th {\n",
       "        vertical-align: top;\n",
       "    }\n",
       "\n",
       "    .dataframe thead th {\n",
       "        text-align: right;\n",
       "    }\n",
       "</style>\n",
       "<table border=\"1\" class=\"dataframe\">\n",
       "  <thead>\n",
       "    <tr style=\"text-align: right;\">\n",
       "      <th></th>\n",
       "      <th>Unnamed: 0</th>\n",
       "      <th>house_id</th>\n",
       "      <th>scrapy_datetime</th>\n",
       "      <th>city</th>\n",
       "      <th>street</th>\n",
       "      <th>size</th>\n",
       "      <th>pets</th>\n",
       "      <th>montly_rent</th>\n",
       "      <th>deposit_value</th>\n",
       "      <th>lat</th>\n",
       "      <th>long</th>\n",
       "    </tr>\n",
       "  </thead>\n",
       "  <tbody>\n",
       "    <tr>\n",
       "      <th>0</th>\n",
       "      <td>0</td>\n",
       "      <td>1719697</td>\n",
       "      <td>2021/05/13 - 12:16:03</td>\n",
       "      <td>Berlin</td>\n",
       "      <td>Nürnberger Straße</td>\n",
       "      <td>22.0</td>\n",
       "      <td>Pets not allowed</td>\n",
       "      <td>850</td>\n",
       "      <td>1700</td>\n",
       "      <td>52.50027</td>\n",
       "      <td>13.33596</td>\n",
       "    </tr>\n",
       "    <tr>\n",
       "      <th>1</th>\n",
       "      <td>1</td>\n",
       "      <td>1716752</td>\n",
       "      <td>2021/05/13 - 12:16:05</td>\n",
       "      <td>Berlin</td>\n",
       "      <td>Schnellerstraße</td>\n",
       "      <td>90.0</td>\n",
       "      <td>Pets not allowed</td>\n",
       "      <td>450</td>\n",
       "      <td>900</td>\n",
       "      <td>52.45495</td>\n",
       "      <td>13.51636</td>\n",
       "    </tr>\n",
       "    <tr>\n",
       "      <th>2</th>\n",
       "      <td>2</td>\n",
       "      <td>1716755</td>\n",
       "      <td>2021/05/13 - 12:16:07</td>\n",
       "      <td>Berlin</td>\n",
       "      <td>Schnellerstraße</td>\n",
       "      <td>90.0</td>\n",
       "      <td>Pets not allowed</td>\n",
       "      <td>475</td>\n",
       "      <td>950</td>\n",
       "      <td>52.45495</td>\n",
       "      <td>13.51636</td>\n",
       "    </tr>\n",
       "    <tr>\n",
       "      <th>3</th>\n",
       "      <td>3</td>\n",
       "      <td>1724139</td>\n",
       "      <td>2021/05/13 - 12:16:09</td>\n",
       "      <td>Berlin</td>\n",
       "      <td>Otto-Braun-Straße</td>\n",
       "      <td>25.0</td>\n",
       "      <td>Pets not allowed</td>\n",
       "      <td>760</td>\n",
       "      <td>500</td>\n",
       "      <td>52.52449</td>\n",
       "      <td>13.41863</td>\n",
       "    </tr>\n",
       "    <tr>\n",
       "      <th>4</th>\n",
       "      <td>4</td>\n",
       "      <td>1721869</td>\n",
       "      <td>2021/05/13 - 12:16:11</td>\n",
       "      <td>Berlin</td>\n",
       "      <td>Otto-Braun-Straße</td>\n",
       "      <td>25.0</td>\n",
       "      <td>Pets not allowed</td>\n",
       "      <td>760</td>\n",
       "      <td>500</td>\n",
       "      <td>52.52449</td>\n",
       "      <td>13.41863</td>\n",
       "    </tr>\n",
       "  </tbody>\n",
       "</table>\n",
       "</div>"
      ],
      "text/plain": [
       "   Unnamed: 0  house_id        scrapy_datetime    city             street  \\\n",
       "0           0   1719697  2021/05/13 - 12:16:03  Berlin  Nürnberger Straße   \n",
       "1           1   1716752  2021/05/13 - 12:16:05  Berlin    Schnellerstraße   \n",
       "2           2   1716755  2021/05/13 - 12:16:07  Berlin    Schnellerstraße   \n",
       "3           3   1724139  2021/05/13 - 12:16:09  Berlin  Otto-Braun-Straße   \n",
       "4           4   1721869  2021/05/13 - 12:16:11  Berlin  Otto-Braun-Straße   \n",
       "\n",
       "   size              pets  montly_rent  deposit_value       lat      long  \n",
       "0  22.0  Pets not allowed          850           1700  52.50027  13.33596  \n",
       "1  90.0  Pets not allowed          450            900  52.45495  13.51636  \n",
       "2  90.0  Pets not allowed          475            950  52.45495  13.51636  \n",
       "3  25.0  Pets not allowed          760            500  52.52449  13.41863  \n",
       "4  25.0  Pets not allowed          760            500  52.52449  13.41863  "
      ]
     },
     "execution_count": 142,
     "metadata": {},
     "output_type": "execute_result"
    }
   ],
   "source": [
    "df_houses.head()"
   ]
  },
  {
   "cell_type": "markdown",
   "id": "ecological-garlic",
   "metadata": {},
   "source": [
    "## Forquare API - nearby venues scraping."
   ]
  },
  {
   "cell_type": "code",
   "execution_count": 76,
   "id": "respected-friendship",
   "metadata": {
    "execution": {
     "iopub.execute_input": "2021-05-14T21:13:36.837634Z",
     "iopub.status.busy": "2021-05-14T21:13:36.836632Z",
     "iopub.status.idle": "2021-05-14T21:13:37.641538Z",
     "shell.execute_reply": "2021-05-14T21:13:37.640551Z",
     "shell.execute_reply.started": "2021-05-14T21:13:36.837634Z"
    }
   },
   "outputs": [],
   "source": [
    "# Set Forsquare API - client id and password \n",
    "\n",
    "CLIENT_ID = 'HERE GOES YOU FOURQUARE API ID' \n",
    "CLIENT_SECRET = 'HERE GOES YOU FOURQUARE API SECRET KEY' \n",
    "VERSION = '20210510' \n",
    "LIMIT = 100 \n",
    "\n",
    "\n",
    "url = f'https://api.foursquare.com/v2/venues/explore?client_id={CLIENT_ID}&client_secret={CLIENT_SECRET}&v={VERSION}&ll=52.50027,13.33596&radius=300&limit={LIMIT}'\n",
    "\n",
    "# make the GET request\n",
    "results = requests.get(url).json()[\"response\"]['groups'][0]['items']"
   ]
  },
  {
   "cell_type": "code",
   "execution_count": null,
   "id": "rotary-failing",
   "metadata": {
    "execution": {
     "iopub.execute_input": "2021-05-16T14:24:20.934464Z",
     "iopub.status.busy": "2021-05-16T14:24:20.932473Z"
    },
    "tags": []
   },
   "outputs": [],
   "source": [
    "venues_list=[]\n",
    "for name, lat, long in zip(df_houses['house_id'], df_houses['lat'], df_houses['long']):\n",
    "    #print(name)\n",
    "\n",
    "    # create the API request URL\n",
    "    url = f'https://api.foursquare.com/v2/venues/explore?client_id={CLIENT_ID}&client_secret={CLIENT_SECRET}&v={VERSION}&ll={lat},{long}&radius=500&limit={LIMIT}'\n",
    "\n",
    "    # make the GET request\n",
    "    try:\n",
    "        results = requests.get(url).json()[\"response\"]['groups'][0]['items']\n",
    "    except:\n",
    "        pass\n",
    "\n",
    "    # return only relevant information for each nearby venue\n",
    "    venues_list.append([(\n",
    "        name, \n",
    "        lat, \n",
    "        long, \n",
    "        v['venue']['name'],\n",
    "        v['venue']['location']['formattedAddress'][0],\n",
    "        v['venue']['location']['formattedAddress'][1],\n",
    "        v['venue']['categories'][0]['name'],\n",
    "        v['venue']['location']['lat'], \n",
    "        v['venue']['location']['lng'],) for v in results])\n",
    "\n",
    "nearby_venues = pd.DataFrame([item for venue_list in venues_list for item in venue_list])\n",
    "nearby_venues.columns = ['house_id', \n",
    "              'house_latitude', \n",
    "              'hoouse_longitude', \n",
    "              'venue',\n",
    "              'venue_address',\n",
    "              'city',\n",
    "              'venue_category',\n",
    "              'venue_latitude', \n",
    "              'venue_longitude']"
   ]
  },
  {
   "cell_type": "code",
   "execution_count": null,
   "id": "integral-collar",
   "metadata": {
    "tags": []
   },
   "outputs": [],
   "source": [
    "nearby_venues.isna().sum()"
   ]
  },
  {
   "cell_type": "code",
   "execution_count": null,
   "id": "silent-layer",
   "metadata": {
    "tags": []
   },
   "outputs": [],
   "source": [
    "nearby_venues"
   ]
  },
  {
   "cell_type": "code",
   "execution_count": 179,
   "id": "guilty-sensitivity",
   "metadata": {
    "execution": {
     "iopub.execute_input": "2021-05-16T13:38:27.572526Z",
     "iopub.status.busy": "2021-05-16T13:38:27.571522Z",
     "iopub.status.idle": "2021-05-16T13:38:29.351359Z",
     "shell.execute_reply": "2021-05-16T13:38:29.350373Z",
     "shell.execute_reply.started": "2021-05-16T13:38:27.572526Z"
    },
    "tags": []
   },
   "outputs": [],
   "source": [
    "# save to a CSV file\n",
    "nearby_venues.to_csv('data/nearby_venues_full_raw.csv', index=False)"
   ]
  },
  {
   "cell_type": "code",
   "execution_count": 185,
   "id": "former-rehabilitation",
   "metadata": {
    "execution": {
     "iopub.execute_input": "2021-05-16T14:23:57.116982Z",
     "iopub.status.busy": "2021-05-16T14:23:57.115982Z",
     "iopub.status.idle": "2021-05-16T14:23:57.126980Z",
     "shell.execute_reply": "2021-05-16T14:23:57.124982Z",
     "shell.execute_reply.started": "2021-05-16T14:23:57.116982Z"
    },
    "tags": []
   },
   "outputs": [
    {
     "data": {
      "text/plain": [
       "'50672 Köln'"
      ]
     },
     "execution_count": 185,
     "metadata": {},
     "output_type": "execute_result"
    }
   ],
   "source": [
    "results[0]['venue']['location']['formattedAddress'][1]"
   ]
  },
  {
   "cell_type": "code",
   "execution_count": null,
   "id": "noticed-edition",
   "metadata": {},
   "outputs": [],
   "source": []
  }
 ],
 "metadata": {
  "kernelspec": {
   "display_name": "Python 3",
   "language": "python",
   "name": "python3"
  },
  "language_info": {
   "codemirror_mode": {
    "name": "ipython",
    "version": 3
   },
   "file_extension": ".py",
   "mimetype": "text/x-python",
   "name": "python",
   "nbconvert_exporter": "python",
   "pygments_lexer": "ipython3",
   "version": "3.8.8"
  }
 },
 "nbformat": 4,
 "nbformat_minor": 5
}
