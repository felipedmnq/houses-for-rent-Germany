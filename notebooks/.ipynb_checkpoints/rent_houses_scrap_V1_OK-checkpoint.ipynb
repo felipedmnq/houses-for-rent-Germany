{
 "cells": [
  {
   "cell_type": "code",
   "execution_count": 1,
   "id": "acquired-requirement",
   "metadata": {
    "execution": {
     "iopub.execute_input": "2021-05-10T21:26:07.757281Z",
     "iopub.status.busy": "2021-05-10T21:26:07.755283Z",
     "iopub.status.idle": "2021-05-10T21:26:11.785921Z",
     "shell.execute_reply": "2021-05-10T21:26:11.785921Z",
     "shell.execute_reply.started": "2021-05-10T21:26:07.756282Z"
    },
    "tags": []
   },
   "outputs": [],
   "source": [
    "from bs4 import BeautifulSoup\n",
    "import requests\n",
    "import pandas as pd\n",
    "from datetime import datetime\n",
    "\n",
    "import seaborn as sns\n",
    "from matplotlib             import pyplot as plt\n",
    "from IPython.core.display   import HTML\n",
    "from IPython.display        import Image"
   ]
  },
  {
   "cell_type": "markdown",
   "id": "editorial-midnight",
   "metadata": {},
   "source": [
    "## helper Functions"
   ]
  },
  {
   "cell_type": "code",
   "execution_count": 160,
   "id": "warming-router",
   "metadata": {
    "execution": {
     "iopub.execute_input": "2021-05-11T22:04:55.476264Z",
     "iopub.status.busy": "2021-05-11T22:04:55.476264Z",
     "iopub.status.idle": "2021-05-11T22:04:55.489255Z",
     "shell.execute_reply": "2021-05-11T22:04:55.488255Z",
     "shell.execute_reply.started": "2021-05-11T22:04:55.476264Z"
    },
    "tags": []
   },
   "outputs": [],
   "source": [
    "def get_pages_number(city):\n",
    "    # get the number of pages for a city inside the scraped website.\n",
    "    \n",
    "    url = f'https://housinganywhere.com/s/{city}--Germany/apartment-for-rent'\n",
    "    page = requests.get(url, headers=headers)\n",
    "    soup = BeautifulSoup(page.text, 'html.parser')\n",
    "    \n",
    "    a = soup.find('div', class_ = 'MuiGrid-root jss208 jss207 MuiGrid-container MuiGrid-justify-xs-flex-end')\n",
    "    b = a.findAll('a',class_ = 'MuiButtonBase-root MuiButton-root MuiButton-outlined jss209 MuiButton-outlinedSizeSmall MuiButton-sizeSmall')[3].span.text\n",
    "    pages_number = int(b)\n",
    "    \n",
    "    return pages_number\n",
    "\n",
    "def get_houses_id(city, pages_number):\n",
    "    # Crete a empty listo for houses links\n",
    "    houses_id = []\n",
    "\n",
    "    # going thru all pages from city\n",
    "    for page in range(pages_number):\n",
    "        url = f'https://housinganywhere.com/s/{city}--Germany/apartment-for-rent?page={page}'\n",
    "        page = requests.get(url, headers=headers)\n",
    "        soup = BeautifulSoup(page.text, 'html.parser')\n",
    "        houses_list = soup.findAll('a', class_ = 'jss169 jss14')\n",
    "\n",
    "        # going thru all houses from page\n",
    "        for h in range(len(houses_list)):\n",
    "            id = soup.findAll('a', class_ = 'jss169 jss14')[h].get('href').split('/')[2]\n",
    "            comp = soup.findAll('a', class_ = 'jss169 jss14')[h].get('href').split('/')[-1]\n",
    "\n",
    "            url = f'https://housinganywhere.com/room/{id}/de/Berlin/{comp}'\n",
    "            houses_id.append(url)\n",
    "\n",
    "        houses_list.clear()\n",
    "    \n",
    "    return houses_id"
   ]
  },
  {
   "cell_type": "code",
   "execution_count": 1,
   "id": "rising-henry",
   "metadata": {
    "execution": {
     "iopub.execute_input": "2021-05-11T22:30:43.125188Z",
     "iopub.status.busy": "2021-05-11T22:30:43.124185Z",
     "iopub.status.idle": "2021-05-11T22:30:43.132183Z",
     "shell.execute_reply": "2021-05-11T22:30:43.131182Z",
     "shell.execute_reply.started": "2021-05-11T22:30:43.125188Z"
    },
    "tags": []
   },
   "outputs": [],
   "source": [
    "get_houses_id('Berlin', get_pages_number('Berlin'))"
   ]
  },
  {
   "cell_type": "code",
   "execution_count": 145,
   "id": "senior-bikini",
   "metadata": {
    "execution": {
     "iopub.execute_input": "2021-05-11T09:46:03.937906Z",
     "iopub.status.busy": "2021-05-11T09:46:03.936899Z",
     "iopub.status.idle": "2021-05-11T09:46:06.468566Z",
     "shell.execute_reply": "2021-05-11T09:46:06.467570Z",
     "shell.execute_reply.started": "2021-05-11T09:46:03.937906Z"
    },
    "tags": []
   },
   "outputs": [],
   "source": [
    "# define City\n",
    "city = 'Munich'\n",
    "\n",
    "url = f'https://housinganywhere.com/s/{city}--Germany/apartment-for-rent'\n",
    "\n",
    "headers = {'User-Agent': 'Mozilla/5.0 (Macintosh; Intel Mac OS X 10_11_5) AppleWebKit/537.36 (KHTML, like Gecko) Chrome/50.0.2661.102 Safari/537.36'}\n",
    "page = requests.get(url, headers=headers)\n",
    "\n",
    "# instance BS\n",
    "soup = BeautifulSoup(page.text, 'html.parser')"
   ]
  },
  {
   "cell_type": "code",
   "execution_count": 146,
   "id": "offshore-demographic",
   "metadata": {
    "execution": {
     "iopub.execute_input": "2021-05-11T09:46:06.471568Z",
     "iopub.status.busy": "2021-05-11T09:46:06.470565Z",
     "iopub.status.idle": "2021-05-11T09:46:06.845569Z",
     "shell.execute_reply": "2021-05-11T09:46:06.844569Z",
     "shell.execute_reply.started": "2021-05-11T09:46:06.471568Z"
    },
    "tags": []
   },
   "outputs": [],
   "source": [
    "houses_list = soup.findAll('a', class_ = 'jss169 jss14')\n",
    "houses_id = []\n",
    "\n",
    "for h in range(24):\n",
    "    houses_id.append([soup.findAll('a', class_ = 'jss169 jss14')[h].get('href').split('/')[2], soup.findAll('a', class_ = 'jss169 jss14')[h].get('href').split('/')[-1]])"
   ]
  },
  {
   "cell_type": "code",
   "execution_count": 147,
   "id": "printable-debut",
   "metadata": {
    "execution": {
     "iopub.execute_input": "2021-05-11T09:46:06.848566Z",
     "iopub.status.busy": "2021-05-11T09:46:06.847571Z",
     "iopub.status.idle": "2021-05-11T09:46:28.602180Z",
     "shell.execute_reply": "2021-05-11T09:46:28.601217Z",
     "shell.execute_reply.started": "2021-05-11T09:46:06.848566Z"
    },
    "tags": []
   },
   "outputs": [],
   "source": [
    "# get all houses links from determinated city\n",
    "\n",
    "# getting total pages number\n",
    "a = soup.find('div', class_ = 'MuiGrid-root jss208 jss207 MuiGrid-container MuiGrid-justify-xs-flex-end')\n",
    "b = a.findAll('a',class_ = 'MuiButtonBase-root MuiButton-root MuiButton-outlined jss209 MuiButton-outlinedSizeSmall MuiButton-sizeSmall')[3].span.text\n",
    "b = int(b)\n",
    "\n",
    "# Crete a empty listo for houses infos\n",
    "houses_id = []\n",
    "\n",
    "# going thru all pages from city\n",
    "for page in range(b):\n",
    "    url = f'https://housinganywhere.com/s/{city}--Germany/apartment-for-rent?page={page}'\n",
    "    page = requests.get(url, headers=headers)\n",
    "    soup = BeautifulSoup(page.text, 'html.parser')\n",
    "    houses_list = soup.findAll('a', class_ = 'jss169 jss14')\n",
    "    \n",
    "    # going thru all houses from page\n",
    "    for h in range(len(houses_list)):\n",
    "        id = soup.findAll('a', class_ = 'jss169 jss14')[h].get('href').split('/')[2]\n",
    "        comp = soup.findAll('a', class_ = 'jss169 jss14')[h].get('href').split('/')[-1]\n",
    "        \n",
    "        url = f'https://housinganywhere.com/room/{id}/de/Berlin/{comp}'\n",
    "        houses_id.append(url)\n",
    "    \n",
    "    houses_list.clear()\n",
    "    \n",
    "# len(houses_id)"
   ]
  },
  {
   "cell_type": "code",
   "execution_count": 148,
   "id": "promotional-slovenia",
   "metadata": {
    "execution": {
     "iopub.execute_input": "2021-05-11T09:46:28.605172Z",
     "iopub.status.busy": "2021-05-11T09:46:28.604173Z",
     "iopub.status.idle": "2021-05-11T09:53:11.880760Z",
     "shell.execute_reply": "2021-05-11T09:53:11.879770Z",
     "shell.execute_reply.started": "2021-05-11T09:46:28.605172Z"
    },
    "tags": []
   },
   "outputs": [],
   "source": [
    "df_houses = pd.DataFrame(columns = ['house_id', 'montly_rent', 'deposit_value', 'house_rules', 'street'])\n",
    "\n",
    "houses_df_list = []\n",
    "\n",
    "# get houses infos link by link\n",
    "\n",
    "for house in houses_id:\n",
    "    h = {}\n",
    "    \n",
    "    url = f'{str(house)}'\n",
    "\n",
    "    headers = {'User-Agent': 'Mozilla/5.0 (Macintosh; Intel Mac OS X 10_11_5) AppleWebKit/537.36 (KHTML, like Gecko) Chrome/50.0.2661.102 Safari/537.36'}\n",
    "    page = requests.get(url, headers=headers)\n",
    "\n",
    "    # Html \n",
    "    soup = BeautifulSoup(page.text, 'html.parser')\n",
    "\n",
    "    # Hause ID\n",
    "    try:\n",
    "        h['house_id'] = url.split('/')[4]\n",
    "    except:\n",
    "        pass\n",
    "    \n",
    "    # Montly rent value\n",
    "    try:\n",
    "        h['montly_rent'] = soup.findAll('p', class_ = 'MuiTypography-root jss105 jss55 jss43 jss49 MuiTypography-h2 MuiTypography-displayBlock')[0].text\n",
    "    except:\n",
    "        pass\n",
    "    \n",
    "    # Deposit value\n",
    "    try:\n",
    "        if len(soup.findAll('div', class_ = 'MuiGrid-root MuiGrid-container MuiGrid-item MuiGrid-justify-xs-flex-end MuiGrid-grid-xs-6')) > 1:\n",
    "            h['deposit_value'] = soup.findAll('div', class_ = 'MuiGrid-root MuiGrid-container MuiGrid-item MuiGrid-justify-xs-flex-end MuiGrid-grid-xs-6')[1].text\n",
    "        else:\n",
    "            h['deposit_value'] = soup.findAll('div', class_ = 'MuiGrid-root MuiGrid-container MuiGrid-item MuiGrid-justify-xs-flex-end MuiGrid-grid-xs-6')[0].text\n",
    "    except:\n",
    "        pass\n",
    "    \n",
    "    # Minimum stay\n",
    "    # soup.findAll('div', class_ = 'MuiGrid-root MuiGrid-container MuiGrid-item MuiGrid-justify-xs-flex-end MuiGrid-grid-xs-6')[0].text\n",
    "\n",
    "    # House rules - TRY TO FILTER \"PET ALLOWED\"\n",
    "    try:\n",
    "        h['house_rules'] = rules_list = []\n",
    "\n",
    "        a =  soup.findAll('div', class_ = 'MuiGrid-root MuiGrid-item MuiGrid-grid-xs-12')[1]\n",
    "\n",
    "        b = a.findAll('div', class_ = 'MuiGrid-root MuiGrid-item MuiGrid-grid-xs-12 MuiGrid-grid-md-4')\n",
    "\n",
    "        for iten in range(len(b)):\n",
    "            i = a.findAll('div', class_ = 'MuiGrid-root MuiGrid-item MuiGrid-grid-xs-12 MuiGrid-grid-md-4')[iten].text\n",
    "            rules_list.append(i)\n",
    "    except:\n",
    "        pass\n",
    "    \n",
    "    # Location (coordinates? Street?)\n",
    "    try:\n",
    "        a = soup.findAll('h1', class_ = 'MuiTypography-root jss52 jss43 jss46 MuiTypography-h1 MuiTypography-displayBlock')\n",
    "        h['street'] = a[0].text\n",
    "    except:\n",
    "        pass\n",
    "    \n",
    "    # Get apartment size\n",
    "    try:\n",
    "        h['size'] = soup.findAll('p', class_ = 'MuiTypography-root jss59 jss43 jss46 MuiTypography-body1 MuiTypography-displayInline')[1].text\n",
    "    except:\n",
    "        pass\n",
    "    \n",
    "    # Get lat/long\n",
    "    try:\n",
    "        a = soup.findAll('script', type = 'application/ld+json')[0].get_text\n",
    "        h['lat_long'] = re.findall('(\\d+\\.\\d+)', str(a))\n",
    "    except:\n",
    "        pass\n",
    "    \n",
    "    h['scrapy_datetime'] = datetime.now().strftime('%Y/%m/%d - %H:%M:%S')\n",
    "    \n",
    "    \n",
    "    \n",
    "    houses_df_list.append(h)"
   ]
  },
  {
   "cell_type": "code",
   "execution_count": 149,
   "id": "legitimate-colorado",
   "metadata": {
    "execution": {
     "iopub.execute_input": "2021-05-11T09:53:11.884762Z",
     "iopub.status.busy": "2021-05-11T09:53:11.884762Z",
     "iopub.status.idle": "2021-05-11T09:53:11.898765Z",
     "shell.execute_reply": "2021-05-11T09:53:11.896762Z",
     "shell.execute_reply.started": "2021-05-11T09:53:11.884762Z"
    },
    "tags": []
   },
   "outputs": [],
   "source": [
    "df_houses = pd.DataFrame(houses_df_list)"
   ]
  },
  {
   "cell_type": "code",
   "execution_count": 150,
   "id": "liked-clone",
   "metadata": {
    "execution": {
     "iopub.execute_input": "2021-05-11T09:53:11.902763Z",
     "iopub.status.busy": "2021-05-11T09:53:11.901764Z",
     "iopub.status.idle": "2021-05-11T09:53:11.917762Z",
     "shell.execute_reply": "2021-05-11T09:53:11.915763Z",
     "shell.execute_reply.started": "2021-05-11T09:53:11.902763Z"
    },
    "tags": []
   },
   "outputs": [
    {
     "data": {
      "text/plain": [
       "house_id           0\n",
       "montly_rent        1\n",
       "deposit_value      0\n",
       "house_rules        0\n",
       "street             0\n",
       "size               0\n",
       "lat_long           0\n",
       "scrapy_datetime    0\n",
       "dtype: int64"
      ]
     },
     "execution_count": 150,
     "metadata": {},
     "output_type": "execute_result"
    }
   ],
   "source": [
    "df_houses.isna().sum()"
   ]
  },
  {
   "cell_type": "code",
   "execution_count": 151,
   "id": "floppy-measurement",
   "metadata": {
    "execution": {
     "iopub.execute_input": "2021-05-11T09:53:11.921764Z",
     "iopub.status.busy": "2021-05-11T09:53:11.920764Z",
     "iopub.status.idle": "2021-05-11T09:53:11.944762Z",
     "shell.execute_reply": "2021-05-11T09:53:11.942764Z",
     "shell.execute_reply.started": "2021-05-11T09:53:11.921764Z"
    },
    "tags": []
   },
   "outputs": [
    {
     "data": {
      "text/plain": [
       "(168, 8)"
      ]
     },
     "execution_count": 151,
     "metadata": {},
     "output_type": "execute_result"
    }
   ],
   "source": [
    "df_houses.shape"
   ]
  },
  {
   "cell_type": "code",
   "execution_count": 152,
   "id": "educated-taste",
   "metadata": {
    "execution": {
     "iopub.execute_input": "2021-05-11T09:53:11.948764Z",
     "iopub.status.busy": "2021-05-11T09:53:11.947768Z",
     "iopub.status.idle": "2021-05-11T09:53:12.007764Z",
     "shell.execute_reply": "2021-05-11T09:53:12.004763Z",
     "shell.execute_reply.started": "2021-05-11T09:53:11.947768Z"
    }
   },
   "outputs": [
    {
     "data": {
      "text/html": [
       "<div>\n",
       "<style scoped>\n",
       "    .dataframe tbody tr th:only-of-type {\n",
       "        vertical-align: middle;\n",
       "    }\n",
       "\n",
       "    .dataframe tbody tr th {\n",
       "        vertical-align: top;\n",
       "    }\n",
       "\n",
       "    .dataframe thead th {\n",
       "        text-align: right;\n",
       "    }\n",
       "</style>\n",
       "<table border=\"1\" class=\"dataframe\">\n",
       "  <thead>\n",
       "    <tr style=\"text-align: right;\">\n",
       "      <th></th>\n",
       "      <th>house_id</th>\n",
       "      <th>montly_rent</th>\n",
       "      <th>deposit_value</th>\n",
       "      <th>house_rules</th>\n",
       "      <th>street</th>\n",
       "      <th>size</th>\n",
       "      <th>lat_long</th>\n",
       "      <th>scrapy_datetime</th>\n",
       "    </tr>\n",
       "  </thead>\n",
       "  <tbody>\n",
       "    <tr>\n",
       "      <th>0</th>\n",
       "      <td>1721906</td>\n",
       "      <td>EUR 690</td>\n",
       "      <td>EUR 690</td>\n",
       "      <td>[Shared facilities, Private Toilet, Private ba...</td>\n",
       "      <td>Humboldtstraße</td>\n",
       "      <td>Property: 24 m2</td>\n",
       "      <td>[48.15146, 11.68228]</td>\n",
       "      <td>2021/05/11 - 06:46:31</td>\n",
       "    </tr>\n",
       "    <tr>\n",
       "      <th>1</th>\n",
       "      <td>1721905</td>\n",
       "      <td>EUR 690</td>\n",
       "      <td>EUR 690</td>\n",
       "      <td>[Shared facilities, Private Toilet, Private ba...</td>\n",
       "      <td>Humboldtstraße</td>\n",
       "      <td>Property: 24 m2</td>\n",
       "      <td>[48.15146, 11.68228]</td>\n",
       "      <td>2021/05/11 - 06:46:33</td>\n",
       "    </tr>\n",
       "    <tr>\n",
       "      <th>2</th>\n",
       "      <td>1699166</td>\n",
       "      <td>EUR 690</td>\n",
       "      <td>EUR 690</td>\n",
       "      <td>[Shared facilities, Private Toilet, Private ba...</td>\n",
       "      <td>Humboldtstraße</td>\n",
       "      <td>Property: 24 m2</td>\n",
       "      <td>[48.15146, 11.68228]</td>\n",
       "      <td>2021/05/11 - 06:46:35</td>\n",
       "    </tr>\n",
       "    <tr>\n",
       "      <th>3</th>\n",
       "      <td>1694096</td>\n",
       "      <td>EUR 690</td>\n",
       "      <td>EUR 690</td>\n",
       "      <td>[Shared facilities, Private Toilet, Private ba...</td>\n",
       "      <td>Humboldtstraße</td>\n",
       "      <td>Property: 24 m2</td>\n",
       "      <td>[48.15146, 11.68228]</td>\n",
       "      <td>2021/05/11 - 06:46:38</td>\n",
       "    </tr>\n",
       "    <tr>\n",
       "      <th>4</th>\n",
       "      <td>1721908</td>\n",
       "      <td>EUR 790</td>\n",
       "      <td>EUR 690</td>\n",
       "      <td>[Shared facilities, Private Toilet, Private ba...</td>\n",
       "      <td>Mies-van-der-Rohe-Straße</td>\n",
       "      <td>Property: 24 m2</td>\n",
       "      <td>[48.17724, 11.59296]</td>\n",
       "      <td>2021/05/11 - 06:46:40</td>\n",
       "    </tr>\n",
       "    <tr>\n",
       "      <th>5</th>\n",
       "      <td>1721907</td>\n",
       "      <td>EUR 790</td>\n",
       "      <td>EUR 690</td>\n",
       "      <td>[Shared facilities, Private Toilet, Shared bas...</td>\n",
       "      <td>Mies-van-der-Rohe-Straße</td>\n",
       "      <td>Property: 24 m2</td>\n",
       "      <td>[48.17724, 11.59296]</td>\n",
       "      <td>2021/05/11 - 06:46:43</td>\n",
       "    </tr>\n",
       "    <tr>\n",
       "      <th>6</th>\n",
       "      <td>1694099</td>\n",
       "      <td>EUR 790</td>\n",
       "      <td>EUR 690</td>\n",
       "      <td>[Shared facilities, Private Toilet, Shared bas...</td>\n",
       "      <td>Mies-van-der-Rohe-Straße</td>\n",
       "      <td>Property: 24 m2</td>\n",
       "      <td>[48.17724, 11.59296]</td>\n",
       "      <td>2021/05/11 - 06:46:45</td>\n",
       "    </tr>\n",
       "    <tr>\n",
       "      <th>7</th>\n",
       "      <td>1724191</td>\n",
       "      <td>EUR 760</td>\n",
       "      <td>EUR 500</td>\n",
       "      <td>[Private facilities, Private Toilet, Shared ki...</td>\n",
       "      <td>Stahlgruberring</td>\n",
       "      <td>Property: 24 m2</td>\n",
       "      <td>[48.13205, 11.66897]</td>\n",
       "      <td>2021/05/11 - 06:46:49</td>\n",
       "    </tr>\n",
       "    <tr>\n",
       "      <th>8</th>\n",
       "      <td>1724184</td>\n",
       "      <td>EUR 760</td>\n",
       "      <td>EUR 500</td>\n",
       "      <td>[Private facilities, Private Toilet, Private b...</td>\n",
       "      <td>Neumarkter Straße</td>\n",
       "      <td>Property: 25 m2</td>\n",
       "      <td>[48.13155, 11.62816]</td>\n",
       "      <td>2021/05/11 - 06:46:52</td>\n",
       "    </tr>\n",
       "    <tr>\n",
       "      <th>9</th>\n",
       "      <td>1721891</td>\n",
       "      <td>EUR 760</td>\n",
       "      <td>EUR 500</td>\n",
       "      <td>[Private facilities, Private Toilet, Private b...</td>\n",
       "      <td>Neumarkter Straße</td>\n",
       "      <td>Property: 25 m2</td>\n",
       "      <td>[48.13155, 11.62816]</td>\n",
       "      <td>2021/05/11 - 06:46:54</td>\n",
       "    </tr>\n",
       "  </tbody>\n",
       "</table>\n",
       "</div>"
      ],
      "text/plain": [
       "  house_id montly_rent deposit_value  \\\n",
       "0  1721906     EUR 690       EUR 690   \n",
       "1  1721905     EUR 690       EUR 690   \n",
       "2  1699166     EUR 690       EUR 690   \n",
       "3  1694096     EUR 690       EUR 690   \n",
       "4  1721908     EUR 790       EUR 690   \n",
       "5  1721907     EUR 790       EUR 690   \n",
       "6  1694099     EUR 790       EUR 690   \n",
       "7  1724191     EUR 760       EUR 500   \n",
       "8  1724184     EUR 760       EUR 500   \n",
       "9  1721891     EUR 760       EUR 500   \n",
       "\n",
       "                                         house_rules  \\\n",
       "0  [Shared facilities, Private Toilet, Private ba...   \n",
       "1  [Shared facilities, Private Toilet, Private ba...   \n",
       "2  [Shared facilities, Private Toilet, Private ba...   \n",
       "3  [Shared facilities, Private Toilet, Private ba...   \n",
       "4  [Shared facilities, Private Toilet, Private ba...   \n",
       "5  [Shared facilities, Private Toilet, Shared bas...   \n",
       "6  [Shared facilities, Private Toilet, Shared bas...   \n",
       "7  [Private facilities, Private Toilet, Shared ki...   \n",
       "8  [Private facilities, Private Toilet, Private b...   \n",
       "9  [Private facilities, Private Toilet, Private b...   \n",
       "\n",
       "                     street             size              lat_long  \\\n",
       "0            Humboldtstraße  Property: 24 m2  [48.15146, 11.68228]   \n",
       "1            Humboldtstraße  Property: 24 m2  [48.15146, 11.68228]   \n",
       "2            Humboldtstraße  Property: 24 m2  [48.15146, 11.68228]   \n",
       "3            Humboldtstraße  Property: 24 m2  [48.15146, 11.68228]   \n",
       "4  Mies-van-der-Rohe-Straße  Property: 24 m2  [48.17724, 11.59296]   \n",
       "5  Mies-van-der-Rohe-Straße  Property: 24 m2  [48.17724, 11.59296]   \n",
       "6  Mies-van-der-Rohe-Straße  Property: 24 m2  [48.17724, 11.59296]   \n",
       "7           Stahlgruberring  Property: 24 m2  [48.13205, 11.66897]   \n",
       "8         Neumarkter Straße  Property: 25 m2  [48.13155, 11.62816]   \n",
       "9         Neumarkter Straße  Property: 25 m2  [48.13155, 11.62816]   \n",
       "\n",
       "         scrapy_datetime  \n",
       "0  2021/05/11 - 06:46:31  \n",
       "1  2021/05/11 - 06:46:33  \n",
       "2  2021/05/11 - 06:46:35  \n",
       "3  2021/05/11 - 06:46:38  \n",
       "4  2021/05/11 - 06:46:40  \n",
       "5  2021/05/11 - 06:46:43  \n",
       "6  2021/05/11 - 06:46:45  \n",
       "7  2021/05/11 - 06:46:49  \n",
       "8  2021/05/11 - 06:46:52  \n",
       "9  2021/05/11 - 06:46:54  "
      ]
     },
     "execution_count": 152,
     "metadata": {},
     "output_type": "execute_result"
    }
   ],
   "source": [
    "df_houses.head(10)"
   ]
  },
  {
   "cell_type": "code",
   "execution_count": 143,
   "id": "dynamic-community",
   "metadata": {
    "execution": {
     "iopub.execute_input": "2021-05-11T09:38:37.415374Z",
     "iopub.status.busy": "2021-05-11T09:38:37.414377Z",
     "iopub.status.idle": "2021-05-11T09:38:37.430907Z",
     "shell.execute_reply": "2021-05-11T09:38:37.428520Z",
     "shell.execute_reply.started": "2021-05-11T09:38:37.415374Z"
    },
    "tags": []
   },
   "outputs": [],
   "source": [
    "df_houses.to_csv(f'df_houses_{city}_v1.csv', index = False)"
   ]
  },
  {
   "cell_type": "code",
   "execution_count": 205,
   "id": "thorough-victory",
   "metadata": {
    "execution": {
     "iopub.execute_input": "2021-05-07T22:03:50.289757Z",
     "iopub.status.busy": "2021-05-07T22:03:50.288757Z",
     "iopub.status.idle": "2021-05-07T22:03:50.300758Z",
     "shell.execute_reply": "2021-05-07T22:03:50.298756Z",
     "shell.execute_reply.started": "2021-05-07T22:03:50.289757Z"
    },
    "tags": []
   },
   "outputs": [
    {
     "data": {
      "text/plain": [
       "['https://housinganywhere.com/room/1207317/de/Berlin/k-penicker-stra-e',\n",
       " 'https://housinganywhere.com/room/1716755/de/Berlin/schnellerstra-e']"
      ]
     },
     "execution_count": 205,
     "metadata": {},
     "output_type": "execute_result"
    }
   ],
   "source": [
    "houses_id[:2]"
   ]
  },
  {
   "cell_type": "code",
   "execution_count": null,
   "id": "recreational-reference",
   "metadata": {},
   "outputs": [],
   "source": [
    "'https://housinganywhere.com/room/1641135/de/Berlin/gleimstra-e'\t "
   ]
  },
  {
   "cell_type": "code",
   "execution_count": 216,
   "id": "rural-ending",
   "metadata": {
    "execution": {
     "iopub.execute_input": "2021-05-08T09:51:23.660596Z",
     "iopub.status.busy": "2021-05-08T09:51:23.659598Z",
     "iopub.status.idle": "2021-05-08T09:51:26.089580Z",
     "shell.execute_reply": "2021-05-08T09:51:26.088583Z",
     "shell.execute_reply.started": "2021-05-08T09:51:23.660596Z"
    }
   },
   "outputs": [],
   "source": [
    " \n",
    "url = 'https://housinganywhere.com/room/1641135/de/Berlin/gleimstra-e'\t \n",
    "\n",
    "headers = {'User-Agent': 'Mozilla/5.0 (Macintosh; Intel Mac OS X 10_11_5) AppleWebKit/537.36 (KHTML, like Gecko) Chrome/50.0.2661.102 Safari/537.36'}\n",
    "page = requests.get(url, headers=headers)\n",
    "\n",
    "# Html \n",
    "soup = BeautifulSoup(page.text, 'html.parser')"
   ]
  },
  {
   "cell_type": "code",
   "execution_count": 220,
   "id": "exposed-harris",
   "metadata": {
    "execution": {
     "iopub.execute_input": "2021-05-08T09:52:21.809763Z",
     "iopub.status.busy": "2021-05-08T09:52:21.809255Z",
     "iopub.status.idle": "2021-05-08T09:52:21.833778Z",
     "shell.execute_reply": "2021-05-08T09:52:21.831778Z",
     "shell.execute_reply.started": "2021-05-08T09:52:21.809763Z"
    },
    "tags": []
   },
   "outputs": [
    {
     "data": {
      "text/plain": [
       "'EUR 2000'"
      ]
     },
     "execution_count": 220,
     "metadata": {},
     "output_type": "execute_result"
    }
   ],
   "source": [
    "soup.findAll('div', class_ = 'MuiGrid-root MuiGrid-container MuiGrid-item MuiGrid-justify-xs-flex-end MuiGrid-grid-xs-6')[0].text"
   ]
  },
  {
   "cell_type": "code",
   "execution_count": 221,
   "id": "adequate-liechtenstein",
   "metadata": {
    "execution": {
     "iopub.execute_input": "2021-05-08T09:53:27.779026Z",
     "iopub.status.busy": "2021-05-08T09:53:27.778033Z",
     "iopub.status.idle": "2021-05-08T09:53:27.798027Z",
     "shell.execute_reply": "2021-05-08T09:53:27.796026Z",
     "shell.execute_reply.started": "2021-05-08T09:53:27.779026Z"
    }
   },
   "outputs": [
    {
     "data": {
      "text/plain": [
       "1"
      ]
     },
     "execution_count": 221,
     "metadata": {},
     "output_type": "execute_result"
    }
   ],
   "source": [
    "len(soup.findAll('div', class_ = 'MuiGrid-root MuiGrid-container MuiGrid-item MuiGrid-justify-xs-flex-end MuiGrid-grid-xs-6'))"
   ]
  },
  {
   "cell_type": "code",
   "execution_count": 246,
   "id": "pressed-server",
   "metadata": {
    "execution": {
     "iopub.execute_input": "2021-05-08T11:52:57.526099Z",
     "iopub.status.busy": "2021-05-08T11:52:57.526099Z",
     "iopub.status.idle": "2021-05-08T11:52:57.548098Z",
     "shell.execute_reply": "2021-05-08T11:52:57.546099Z",
     "shell.execute_reply.started": "2021-05-08T11:52:57.526099Z"
    },
    "tags": []
   },
   "outputs": [
    {
     "data": {
      "text/plain": [
       "['Shared facilities',\n",
       " 'Private living room',\n",
       " 'Shared garden',\n",
       " 'Private Toilet',\n",
       " 'Private kitchen',\n",
       " 'Private basement',\n",
       " 'WiFi',\n",
       " 'Living room furniture',\n",
       " 'Bed',\n",
       " 'TV',\n",
       " 'Bedroom lock',\n",
       " 'Private kitchenware',\n",
       " 'Playing musical instruments negotiable',\n",
       " 'Pets negotiable',\n",
       " 'Smoking allowed only outside']"
      ]
     },
     "execution_count": 246,
     "metadata": {},
     "output_type": "execute_result"
    }
   ],
   "source": [
    "df_houses.iloc[140]['house_rules']"
   ]
  },
  {
   "cell_type": "code",
   "execution_count": 249,
   "id": "supported-europe",
   "metadata": {
    "execution": {
     "iopub.execute_input": "2021-05-08T11:54:34.970389Z",
     "iopub.status.busy": "2021-05-08T11:54:34.970389Z",
     "iopub.status.idle": "2021-05-08T11:54:34.986383Z",
     "shell.execute_reply": "2021-05-08T11:54:34.984383Z",
     "shell.execute_reply.started": "2021-05-08T11:54:34.970389Z"
    },
    "tags": []
   },
   "outputs": [
    {
     "data": {
      "text/plain": [
       "'Property: 130 m2'"
      ]
     },
     "execution_count": 249,
     "metadata": {},
     "output_type": "execute_result"
    }
   ],
   "source": [
    "soup.findAll('p', class_ = 'MuiTypography-root jss59 jss43 jss46 MuiTypography-body1 MuiTypography-displayInline')[1].text"
   ]
  },
  {
   "cell_type": "code",
   "execution_count": 117,
   "id": "skilled-cycling",
   "metadata": {
    "execution": {
     "iopub.execute_input": "2021-05-11T07:40:52.737250Z",
     "iopub.status.busy": "2021-05-11T07:40:52.737250Z",
     "iopub.status.idle": "2021-05-11T07:40:55.208646Z",
     "shell.execute_reply": "2021-05-11T07:40:55.207640Z",
     "shell.execute_reply.started": "2021-05-11T07:40:52.737250Z"
    },
    "tags": []
   },
   "outputs": [
    {
     "data": {
      "text/plain": [
       "['\"latitude\":\"52.5097\"', '\"longitude\":\"13.42231\"}']"
      ]
     },
     "execution_count": 117,
     "metadata": {},
     "output_type": "execute_result"
    }
   ],
   "source": [
    "url = 'https://housinganywhere.com/room/1207317/de/Berlin/k-penicker-stra-e'\n",
    "\n",
    "headers = {'User-Agent': 'Mozilla/5.0 (Macintosh; Intel Mac OS X 10_11_5) AppleWebKit/537.36 (KHTML, like Gecko) Chrome/50.0.2661.102 Safari/537.36'}\n",
    "page = requests.get(url, headers=headers)\n",
    "\n",
    "# Html \n",
    "soup = BeautifulSoup(page.text, 'html.parser')\n",
    "\n",
    "a = soup.findAll('script', type = 'application/ld+json')[0].get_text\n",
    "str(a).split(',')[15:17]\n",
    "\n",
    "import re\n",
    "\n",
    "str(a).split(',')[15:17]"
   ]
  },
  {
   "cell_type": "code",
   "execution_count": 120,
   "id": "revised-professor",
   "metadata": {
    "execution": {
     "iopub.execute_input": "2021-05-11T07:41:17.867040Z",
     "iopub.status.busy": "2021-05-11T07:41:17.867040Z",
     "iopub.status.idle": "2021-05-11T07:41:17.878039Z",
     "shell.execute_reply": "2021-05-11T07:41:17.876038Z",
     "shell.execute_reply.started": "2021-05-11T07:41:17.867040Z"
    },
    "tags": []
   },
   "outputs": [
    {
     "data": {
      "text/plain": [
       "['52.5097', '13.42231']"
      ]
     },
     "execution_count": 120,
     "metadata": {},
     "output_type": "execute_result"
    }
   ],
   "source": [
    "re.findall('(\\d{2}\\.\\d+)', str(a))"
   ]
  },
  {
   "cell_type": "code",
   "execution_count": 137,
   "id": "unusual-matthew",
   "metadata": {
    "execution": {
     "iopub.execute_input": "2021-05-11T09:26:04.309623Z",
     "iopub.status.busy": "2021-05-11T09:26:04.308622Z",
     "iopub.status.idle": "2021-05-11T09:26:04.323616Z",
     "shell.execute_reply": "2021-05-11T09:26:04.321618Z",
     "shell.execute_reply.started": "2021-05-11T09:26:04.309623Z"
    }
   },
   "outputs": [
    {
     "data": {
      "text/plain": [
       "'<bound method Tag.get_text of <script data-react-helmet=\"true\" type=\"application/ld+json\">{\"@context\":\"http://schema.org\",\"@type\":\"Accommodation\",\"name\":\"Apartment for rent in Düsseldorf, Cheruskerstraße\",\"description\":\"Apartment for rent for €1750 per month in Düsseldorf, Cheruskerstraße: Furnished, 3 bedroom(s), Private bathroom, Private kitchen, WiFi, TV, Student and working professionals.\",\"numberOfRooms\":\"3\",\"photo\":\"https://thumb.housinganywhere.com/images/room/1634009/794ff802-2f5a-4519-9109-a89e10606fbc.jpg?kind=large&rotate=0\",\"geo\":{\"@type\":\"GeoCoordinates\",\"latitude\":\"51.22985\",\"longitude\":\"6.75348\"},\"potentialAction\":{\"@type\":\"ReserveAction\",\"target\":{\"@type\":\"EntryPoint\",\"urlTemplate\":\"https://housinganywhere.com/room/1634009/de/Berlin/cheruskerstra-e\",\"actionPlatform\":[\"http://schema.org/DesktopWebPlatform\",\"http://schema.org/MobileWebPlatform\"]},\"result\":{\"@type\":\"LodgingReservation\",\"name\":\"Rent Now\"}}}</script>>'"
      ]
     },
     "execution_count": 137,
     "metadata": {},
     "output_type": "execute_result"
    }
   ],
   "source": [
    "a = soup.findAll('script', type = 'application/ld+json')[0].get_text\n",
    "str(a)"
   ]
  },
  {
   "cell_type": "code",
   "execution_count": 138,
   "id": "labeled-model",
   "metadata": {
    "execution": {
     "iopub.execute_input": "2021-05-11T09:26:47.582029Z",
     "iopub.status.busy": "2021-05-11T09:26:47.581027Z",
     "iopub.status.idle": "2021-05-11T09:26:47.592030Z",
     "shell.execute_reply": "2021-05-11T09:26:47.590028Z",
     "shell.execute_reply.started": "2021-05-11T09:26:47.581027Z"
    }
   },
   "outputs": [
    {
     "data": {
      "text/plain": [
       "['51.22985', '6.75348']"
      ]
     },
     "execution_count": 138,
     "metadata": {},
     "output_type": "execute_result"
    }
   ],
   "source": [
    "re.findall('(\\d+\\.\\d+)', str(a))"
   ]
  },
  {
   "cell_type": "code",
   "execution_count": null,
   "id": "derived-thickness",
   "metadata": {},
   "outputs": [],
   "source": []
  }
 ],
 "metadata": {
  "kernelspec": {
   "display_name": "Python 3",
   "language": "python",
   "name": "python3"
  },
  "language_info": {
   "codemirror_mode": {
    "name": "ipython",
    "version": 3
   },
   "file_extension": ".py",
   "mimetype": "text/x-python",
   "name": "python",
   "nbconvert_exporter": "python",
   "pygments_lexer": "ipython3",
   "version": "3.8.8"
  }
 },
 "nbformat": 4,
 "nbformat_minor": 5
}
