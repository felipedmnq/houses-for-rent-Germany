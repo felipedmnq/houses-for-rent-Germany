{
 "cells": [
  {
   "cell_type": "markdown",
   "id": "paperback-macedonia",
   "metadata": {},
   "source": [
    "# Imports"
   ]
  },
  {
   "cell_type": "code",
   "execution_count": 1,
   "id": "worth-silver",
   "metadata": {
    "execution": {
     "iopub.execute_input": "2021-05-20T23:49:22.750115Z",
     "iopub.status.busy": "2021-05-20T23:49:22.749114Z",
     "iopub.status.idle": "2021-05-20T23:49:23.876880Z",
     "shell.execute_reply": "2021-05-20T23:49:23.875891Z",
     "shell.execute_reply.started": "2021-05-20T23:49:22.750115Z"
    },
    "tags": []
   },
   "outputs": [],
   "source": [
    "import re\n",
    "import numpy as np\n",
    "import pandas as pd"
   ]
  },
  {
   "cell_type": "markdown",
   "id": "prescription-infection",
   "metadata": {},
   "source": [
    "# Cleaning dataframes"
   ]
  },
  {
   "cell_type": "code",
   "execution_count": 2,
   "id": "pleased-proxy",
   "metadata": {
    "execution": {
     "iopub.execute_input": "2021-05-20T23:49:23.878882Z",
     "iopub.status.busy": "2021-05-20T23:49:23.878882Z",
     "iopub.status.idle": "2021-05-20T23:49:23.947887Z",
     "shell.execute_reply": "2021-05-20T23:49:23.945884Z",
     "shell.execute_reply.started": "2021-05-20T23:49:23.878882Z"
    },
    "tags": []
   },
   "outputs": [],
   "source": [
    "df = pd.read_csv('../data/df_houses_full_raw.csv')"
   ]
  },
  {
   "cell_type": "code",
   "execution_count": 3,
   "id": "handy-lending",
   "metadata": {
    "execution": {
     "iopub.execute_input": "2021-05-20T23:49:23.951884Z",
     "iopub.status.busy": "2021-05-20T23:49:23.951884Z",
     "iopub.status.idle": "2021-05-20T23:49:24.035882Z",
     "shell.execute_reply": "2021-05-20T23:49:24.034885Z",
     "shell.execute_reply.started": "2021-05-20T23:49:23.951884Z"
    },
    "tags": []
   },
   "outputs": [
    {
     "data": {
      "text/html": [
       "<div>\n",
       "<style scoped>\n",
       "    .dataframe tbody tr th:only-of-type {\n",
       "        vertical-align: middle;\n",
       "    }\n",
       "\n",
       "    .dataframe tbody tr th {\n",
       "        vertical-align: top;\n",
       "    }\n",
       "\n",
       "    .dataframe thead th {\n",
       "        text-align: right;\n",
       "    }\n",
       "</style>\n",
       "<table border=\"1\" class=\"dataframe\">\n",
       "  <thead>\n",
       "    <tr style=\"text-align: right;\">\n",
       "      <th></th>\n",
       "      <th>Unnamed: 0</th>\n",
       "      <th>house_id</th>\n",
       "      <th>city</th>\n",
       "      <th>street</th>\n",
       "      <th>montly_rent</th>\n",
       "      <th>deposit_value</th>\n",
       "      <th>house_rules</th>\n",
       "      <th>size</th>\n",
       "      <th>lat_long</th>\n",
       "      <th>scrapy_datetime</th>\n",
       "      <th>lat</th>\n",
       "      <th>long</th>\n",
       "    </tr>\n",
       "  </thead>\n",
       "  <tbody>\n",
       "    <tr>\n",
       "      <th>0</th>\n",
       "      <td>0</td>\n",
       "      <td>1719697</td>\n",
       "      <td>Berlin</td>\n",
       "      <td>Nürnberger Straße</td>\n",
       "      <td>EUR 850</td>\n",
       "      <td>EUR 1700</td>\n",
       "      <td>['Private living room', 'Private Toilet', 'Pri...</td>\n",
       "      <td>Property: 22 m2</td>\n",
       "      <td>['52.50027', '13.33596']</td>\n",
       "      <td>2021/05/13 - 12:16:03</td>\n",
       "      <td>52.50027</td>\n",
       "      <td>13.33596</td>\n",
       "    </tr>\n",
       "    <tr>\n",
       "      <th>1</th>\n",
       "      <td>1</td>\n",
       "      <td>1716752</td>\n",
       "      <td>Berlin</td>\n",
       "      <td>Schnellerstraße</td>\n",
       "      <td>EUR 450</td>\n",
       "      <td>EUR 900</td>\n",
       "      <td>['Shared toilet', 'Shared kitchen', 'Unisex ba...</td>\n",
       "      <td>Property: 90 m2</td>\n",
       "      <td>['52.45495', '13.51636']</td>\n",
       "      <td>2021/05/13 - 12:16:05</td>\n",
       "      <td>52.45495</td>\n",
       "      <td>13.51636</td>\n",
       "    </tr>\n",
       "    <tr>\n",
       "      <th>2</th>\n",
       "      <td>2</td>\n",
       "      <td>1716755</td>\n",
       "      <td>Berlin</td>\n",
       "      <td>Schnellerstraße</td>\n",
       "      <td>EUR 475</td>\n",
       "      <td>EUR 950</td>\n",
       "      <td>['Shared toilet', 'Shared kitchen', 'Unisex ba...</td>\n",
       "      <td>Property: 90 m2</td>\n",
       "      <td>['52.45495', '13.51636']</td>\n",
       "      <td>2021/05/13 - 12:16:07</td>\n",
       "      <td>52.45495</td>\n",
       "      <td>13.51636</td>\n",
       "    </tr>\n",
       "    <tr>\n",
       "      <th>3</th>\n",
       "      <td>3</td>\n",
       "      <td>1724139</td>\n",
       "      <td>Berlin</td>\n",
       "      <td>Otto-Braun-Straße</td>\n",
       "      <td>EUR 760</td>\n",
       "      <td>EUR 500</td>\n",
       "      <td>['Private facilities', 'Private Toilet', 'Priv...</td>\n",
       "      <td>Property: 25 m2</td>\n",
       "      <td>['52.52449', '13.41863']</td>\n",
       "      <td>2021/05/13 - 12:16:09</td>\n",
       "      <td>52.52449</td>\n",
       "      <td>13.41863</td>\n",
       "    </tr>\n",
       "    <tr>\n",
       "      <th>4</th>\n",
       "      <td>4</td>\n",
       "      <td>1721869</td>\n",
       "      <td>Berlin</td>\n",
       "      <td>Otto-Braun-Straße</td>\n",
       "      <td>EUR 760</td>\n",
       "      <td>EUR 500</td>\n",
       "      <td>['Private facilities', 'Private Toilet', 'Priv...</td>\n",
       "      <td>Property: 25 m2</td>\n",
       "      <td>['52.52449', '13.41863']</td>\n",
       "      <td>2021/05/13 - 12:16:11</td>\n",
       "      <td>52.52449</td>\n",
       "      <td>13.41863</td>\n",
       "    </tr>\n",
       "  </tbody>\n",
       "</table>\n",
       "</div>"
      ],
      "text/plain": [
       "   Unnamed: 0  house_id    city             street montly_rent deposit_value  \\\n",
       "0           0   1719697  Berlin  Nürnberger Straße     EUR 850      EUR 1700   \n",
       "1           1   1716752  Berlin    Schnellerstraße     EUR 450       EUR 900   \n",
       "2           2   1716755  Berlin    Schnellerstraße     EUR 475       EUR 950   \n",
       "3           3   1724139  Berlin  Otto-Braun-Straße     EUR 760       EUR 500   \n",
       "4           4   1721869  Berlin  Otto-Braun-Straße     EUR 760       EUR 500   \n",
       "\n",
       "                                         house_rules             size  \\\n",
       "0  ['Private living room', 'Private Toilet', 'Pri...  Property: 22 m2   \n",
       "1  ['Shared toilet', 'Shared kitchen', 'Unisex ba...  Property: 90 m2   \n",
       "2  ['Shared toilet', 'Shared kitchen', 'Unisex ba...  Property: 90 m2   \n",
       "3  ['Private facilities', 'Private Toilet', 'Priv...  Property: 25 m2   \n",
       "4  ['Private facilities', 'Private Toilet', 'Priv...  Property: 25 m2   \n",
       "\n",
       "                   lat_long        scrapy_datetime       lat      long  \n",
       "0  ['52.50027', '13.33596']  2021/05/13 - 12:16:03  52.50027  13.33596  \n",
       "1  ['52.45495', '13.51636']  2021/05/13 - 12:16:05  52.45495  13.51636  \n",
       "2  ['52.45495', '13.51636']  2021/05/13 - 12:16:07  52.45495  13.51636  \n",
       "3  ['52.52449', '13.41863']  2021/05/13 - 12:16:09  52.52449  13.41863  \n",
       "4  ['52.52449', '13.41863']  2021/05/13 - 12:16:11  52.52449  13.41863  "
      ]
     },
     "execution_count": 3,
     "metadata": {},
     "output_type": "execute_result"
    }
   ],
   "source": [
    "# See what wee got.\n",
    "df.head()"
   ]
  },
  {
   "cell_type": "code",
   "execution_count": 4,
   "id": "wicked-girlfriend",
   "metadata": {
    "execution": {
     "iopub.execute_input": "2021-05-20T23:49:24.040886Z",
     "iopub.status.busy": "2021-05-20T23:49:24.039888Z",
     "iopub.status.idle": "2021-05-20T23:49:24.051886Z",
     "shell.execute_reply": "2021-05-20T23:49:24.049888Z",
     "shell.execute_reply.started": "2021-05-20T23:49:24.039888Z"
    },
    "tags": []
   },
   "outputs": [
    {
     "data": {
      "text/plain": [
       "(1715, 12)"
      ]
     },
     "execution_count": 4,
     "metadata": {},
     "output_type": "execute_result"
    }
   ],
   "source": [
    "df.shape"
   ]
  },
  {
   "cell_type": "code",
   "execution_count": 5,
   "id": "metallic-longitude",
   "metadata": {
    "execution": {
     "iopub.execute_input": "2021-05-20T23:49:24.057909Z",
     "iopub.status.busy": "2021-05-20T23:49:24.054885Z",
     "iopub.status.idle": "2021-05-20T23:49:24.080900Z",
     "shell.execute_reply": "2021-05-20T23:49:24.078884Z",
     "shell.execute_reply.started": "2021-05-20T23:49:24.057909Z"
    },
    "tags": []
   },
   "outputs": [
    {
     "data": {
      "text/plain": [
       "Unnamed: 0         0\n",
       "house_id           0\n",
       "city               0\n",
       "street             0\n",
       "montly_rent        0\n",
       "deposit_value      0\n",
       "house_rules        0\n",
       "size               0\n",
       "lat_long           0\n",
       "scrapy_datetime    0\n",
       "lat                0\n",
       "long               0\n",
       "dtype: int64"
      ]
     },
     "execution_count": 5,
     "metadata": {},
     "output_type": "execute_result"
    }
   ],
   "source": [
    "# Look for NaN and clean it.\n",
    "df.isna().sum()"
   ]
  },
  {
   "cell_type": "code",
   "execution_count": 6,
   "id": "retained-latter",
   "metadata": {
    "execution": {
     "iopub.execute_input": "2021-05-20T23:49:24.086887Z",
     "iopub.status.busy": "2021-05-20T23:49:24.085885Z",
     "iopub.status.idle": "2021-05-20T23:49:24.102634Z",
     "shell.execute_reply": "2021-05-20T23:49:24.099620Z",
     "shell.execute_reply.started": "2021-05-20T23:49:24.086887Z"
    },
    "tags": []
   },
   "outputs": [
    {
     "data": {
      "text/plain": [
       "Unnamed: 0           int64\n",
       "house_id             int64\n",
       "city                object\n",
       "street              object\n",
       "montly_rent         object\n",
       "deposit_value       object\n",
       "house_rules         object\n",
       "size                object\n",
       "lat_long            object\n",
       "scrapy_datetime     object\n",
       "lat                float64\n",
       "long               float64\n",
       "dtype: object"
      ]
     },
     "execution_count": 6,
     "metadata": {},
     "output_type": "execute_result"
    }
   ],
   "source": [
    "df.dtypes"
   ]
  },
  {
   "cell_type": "markdown",
   "id": "postal-lover",
   "metadata": {},
   "source": [
    "## Cleaning df_houses"
   ]
  },
  {
   "cell_type": "code",
   "execution_count": 7,
   "id": "headed-excerpt",
   "metadata": {
    "execution": {
     "iopub.execute_input": "2021-05-20T23:49:24.111637Z",
     "iopub.status.busy": "2021-05-20T23:49:24.110637Z",
     "iopub.status.idle": "2021-05-20T23:49:24.727400Z",
     "shell.execute_reply": "2021-05-20T23:49:24.725403Z",
     "shell.execute_reply.started": "2021-05-20T23:49:24.111637Z"
    },
    "tags": []
   },
   "outputs": [],
   "source": [
    "# Drop \"Unnamed: 0\" column and 'lat_long' column\n",
    "df.drop(columns = ['Unnamed: 0', 'lat_long'], inplace=True)\n",
    "\n",
    "# Clean \"montly_rent\"\n",
    "df['montly_rent'] = df['montly_rent'].apply(lambda x: re.search('\\d+', x).group(0))\n",
    "df['montly_rent'] = df['montly_rent'].astype(int)\n",
    "\n",
    "# Clean 'deposit_value'\n",
    "df['deposit_value'] = df['deposit_value'].apply(lambda x: re.search('\\d+', x).group(0))\n",
    "df['deposit_value'] = df['deposit_value'].astype(int)\n",
    "\n",
    "# Clean 'house_rules'\n",
    "## we are looking for places that pets are allowed, so we'll filter the 'house_rules' column to find this places.\n",
    "yes = 'Pets allowed'\n",
    "maybe = 'Pets negotiable'\n",
    "no = 'Pets not allowed'\n",
    "\n",
    "df['pets'] = df['house_rules'].apply(lambda x: yes if yes in x else maybe if maybe in x else no if no in x else np.nan)\n",
    "\n",
    "# Clean 'size'\n",
    "## There are some 'Furnished' as size. I'll exclude them.\n",
    "df = df[df['size'] != 'Furnished']\n",
    "df['size'] = df['size'].apply(lambda x: x.split(' ')[1])\n",
    "df['size'] = df['size'].astype(float)\n",
    "\n",
    "# Create 'm2 value'.\n",
    "df['m2_value'] = df['montly_rent'] / df['size']\n",
    "\n",
    "# Clean columns\n",
    "df.drop(columns = ['house_rules'], inplace = True)\n",
    "\n",
    "# Reorder columns\n",
    "df = df[['house_id', 'scrapy_datetime',\t'city',\t'street', 'size', 'pets', 'montly_rent', 'deposit_value', 'm2_value', 'lat', 'long']]\n",
    "\n",
    "# scrape datetime - to datetime\n",
    "df['scrapy_datetime'] = pd.to_datetime(df['scrapy_datetime'])"
   ]
  },
  {
   "cell_type": "code",
   "execution_count": 8,
   "id": "gross-upgrade",
   "metadata": {
    "execution": {
     "iopub.execute_input": "2021-05-20T23:49:24.738399Z",
     "iopub.status.busy": "2021-05-20T23:49:24.737399Z",
     "iopub.status.idle": "2021-05-20T23:49:24.872398Z",
     "shell.execute_reply": "2021-05-20T23:49:24.870408Z",
     "shell.execute_reply.started": "2021-05-20T23:49:24.738399Z"
    },
    "tags": []
   },
   "outputs": [
    {
     "data": {
      "text/html": [
       "<div>\n",
       "<style scoped>\n",
       "    .dataframe tbody tr th:only-of-type {\n",
       "        vertical-align: middle;\n",
       "    }\n",
       "\n",
       "    .dataframe tbody tr th {\n",
       "        vertical-align: top;\n",
       "    }\n",
       "\n",
       "    .dataframe thead th {\n",
       "        text-align: right;\n",
       "    }\n",
       "</style>\n",
       "<table border=\"1\" class=\"dataframe\">\n",
       "  <thead>\n",
       "    <tr style=\"text-align: right;\">\n",
       "      <th></th>\n",
       "      <th>house_id</th>\n",
       "      <th>scrapy_datetime</th>\n",
       "      <th>city</th>\n",
       "      <th>street</th>\n",
       "      <th>size</th>\n",
       "      <th>pets</th>\n",
       "      <th>montly_rent</th>\n",
       "      <th>deposit_value</th>\n",
       "      <th>m2_value</th>\n",
       "      <th>lat</th>\n",
       "      <th>long</th>\n",
       "    </tr>\n",
       "  </thead>\n",
       "  <tbody>\n",
       "    <tr>\n",
       "      <th>0</th>\n",
       "      <td>1719697</td>\n",
       "      <td>2021-05-13 12:16:03</td>\n",
       "      <td>Berlin</td>\n",
       "      <td>Nürnberger Straße</td>\n",
       "      <td>22.0</td>\n",
       "      <td>Pets not allowed</td>\n",
       "      <td>850</td>\n",
       "      <td>1700</td>\n",
       "      <td>38.636364</td>\n",
       "      <td>52.50027</td>\n",
       "      <td>13.33596</td>\n",
       "    </tr>\n",
       "    <tr>\n",
       "      <th>1</th>\n",
       "      <td>1716752</td>\n",
       "      <td>2021-05-13 12:16:05</td>\n",
       "      <td>Berlin</td>\n",
       "      <td>Schnellerstraße</td>\n",
       "      <td>90.0</td>\n",
       "      <td>Pets not allowed</td>\n",
       "      <td>450</td>\n",
       "      <td>900</td>\n",
       "      <td>5.000000</td>\n",
       "      <td>52.45495</td>\n",
       "      <td>13.51636</td>\n",
       "    </tr>\n",
       "    <tr>\n",
       "      <th>2</th>\n",
       "      <td>1716755</td>\n",
       "      <td>2021-05-13 12:16:07</td>\n",
       "      <td>Berlin</td>\n",
       "      <td>Schnellerstraße</td>\n",
       "      <td>90.0</td>\n",
       "      <td>Pets not allowed</td>\n",
       "      <td>475</td>\n",
       "      <td>950</td>\n",
       "      <td>5.277778</td>\n",
       "      <td>52.45495</td>\n",
       "      <td>13.51636</td>\n",
       "    </tr>\n",
       "    <tr>\n",
       "      <th>3</th>\n",
       "      <td>1724139</td>\n",
       "      <td>2021-05-13 12:16:09</td>\n",
       "      <td>Berlin</td>\n",
       "      <td>Otto-Braun-Straße</td>\n",
       "      <td>25.0</td>\n",
       "      <td>Pets not allowed</td>\n",
       "      <td>760</td>\n",
       "      <td>500</td>\n",
       "      <td>30.400000</td>\n",
       "      <td>52.52449</td>\n",
       "      <td>13.41863</td>\n",
       "    </tr>\n",
       "    <tr>\n",
       "      <th>4</th>\n",
       "      <td>1721869</td>\n",
       "      <td>2021-05-13 12:16:11</td>\n",
       "      <td>Berlin</td>\n",
       "      <td>Otto-Braun-Straße</td>\n",
       "      <td>25.0</td>\n",
       "      <td>Pets not allowed</td>\n",
       "      <td>760</td>\n",
       "      <td>500</td>\n",
       "      <td>30.400000</td>\n",
       "      <td>52.52449</td>\n",
       "      <td>13.41863</td>\n",
       "    </tr>\n",
       "  </tbody>\n",
       "</table>\n",
       "</div>"
      ],
      "text/plain": [
       "   house_id     scrapy_datetime    city             street  size  \\\n",
       "0   1719697 2021-05-13 12:16:03  Berlin  Nürnberger Straße  22.0   \n",
       "1   1716752 2021-05-13 12:16:05  Berlin    Schnellerstraße  90.0   \n",
       "2   1716755 2021-05-13 12:16:07  Berlin    Schnellerstraße  90.0   \n",
       "3   1724139 2021-05-13 12:16:09  Berlin  Otto-Braun-Straße  25.0   \n",
       "4   1721869 2021-05-13 12:16:11  Berlin  Otto-Braun-Straße  25.0   \n",
       "\n",
       "               pets  montly_rent  deposit_value   m2_value       lat      long  \n",
       "0  Pets not allowed          850           1700  38.636364  52.50027  13.33596  \n",
       "1  Pets not allowed          450            900   5.000000  52.45495  13.51636  \n",
       "2  Pets not allowed          475            950   5.277778  52.45495  13.51636  \n",
       "3  Pets not allowed          760            500  30.400000  52.52449  13.41863  \n",
       "4  Pets not allowed          760            500  30.400000  52.52449  13.41863  "
      ]
     },
     "execution_count": 8,
     "metadata": {},
     "output_type": "execute_result"
    }
   ],
   "source": [
    "df.head()"
   ]
  },
  {
   "cell_type": "code",
   "execution_count": 9,
   "id": "liquid-department",
   "metadata": {
    "execution": {
     "iopub.execute_input": "2021-05-20T23:49:24.884401Z",
     "iopub.status.busy": "2021-05-20T23:49:24.882398Z",
     "iopub.status.idle": "2021-05-20T23:49:24.905405Z",
     "shell.execute_reply": "2021-05-20T23:49:24.903404Z",
     "shell.execute_reply.started": "2021-05-20T23:49:24.883399Z"
    },
    "tags": []
   },
   "outputs": [
    {
     "data": {
      "text/plain": [
       "house_id            0\n",
       "scrapy_datetime     0\n",
       "city                0\n",
       "street              0\n",
       "size                0\n",
       "pets               33\n",
       "montly_rent         0\n",
       "deposit_value       0\n",
       "m2_value            0\n",
       "lat                 0\n",
       "long                0\n",
       "dtype: int64"
      ]
     },
     "execution_count": 9,
     "metadata": {},
     "output_type": "execute_result"
    }
   ],
   "source": [
    "df.isna().sum()"
   ]
  },
  {
   "cell_type": "code",
   "execution_count": 11,
   "id": "turkish-monitoring",
   "metadata": {
    "execution": {
     "iopub.execute_input": "2021-05-20T23:50:01.130840Z",
     "iopub.status.busy": "2021-05-20T23:50:01.130840Z",
     "iopub.status.idle": "2021-05-20T23:50:01.154832Z",
     "shell.execute_reply": "2021-05-20T23:50:01.152830Z",
     "shell.execute_reply.started": "2021-05-20T23:50:01.130840Z"
    },
    "tags": []
   },
   "outputs": [],
   "source": [
    "df.dropna(inplace = True)\n",
    "df.drop_duplicates(inplace = True)"
   ]
  },
  {
   "cell_type": "code",
   "execution_count": 12,
   "id": "suspected-interim",
   "metadata": {
    "execution": {
     "iopub.execute_input": "2021-05-20T23:50:02.225599Z",
     "iopub.status.busy": "2021-05-20T23:50:02.224601Z",
     "iopub.status.idle": "2021-05-20T23:50:02.285603Z",
     "shell.execute_reply": "2021-05-20T23:50:02.283600Z",
     "shell.execute_reply.started": "2021-05-20T23:50:02.225599Z"
    },
    "tags": []
   },
   "outputs": [],
   "source": [
    "df.to_csv('../data/df_houses_full_cleanned.csv', index = False)"
   ]
  },
  {
   "cell_type": "markdown",
   "id": "tutorial-thumb",
   "metadata": {},
   "source": [
    "## Cleanning nearby_venues dataset"
   ]
  },
  {
   "cell_type": "code",
   "execution_count": 13,
   "id": "finnish-diameter",
   "metadata": {
    "execution": {
     "iopub.execute_input": "2021-05-20T23:50:04.063656Z",
     "iopub.status.busy": "2021-05-20T23:50:04.063656Z",
     "iopub.status.idle": "2021-05-20T23:50:04.300441Z",
     "shell.execute_reply": "2021-05-20T23:50:04.299442Z",
     "shell.execute_reply.started": "2021-05-20T23:50:04.063656Z"
    },
    "tags": []
   },
   "outputs": [],
   "source": [
    "df_venues = pd.read_csv('../data/nearby_venues_full_raw.csv')"
   ]
  },
  {
   "cell_type": "code",
   "execution_count": 14,
   "id": "downtown-simple",
   "metadata": {
    "execution": {
     "iopub.execute_input": "2021-05-20T23:50:04.540418Z",
     "iopub.status.busy": "2021-05-20T23:50:04.540418Z",
     "iopub.status.idle": "2021-05-20T23:50:04.565417Z",
     "shell.execute_reply": "2021-05-20T23:50:04.563418Z",
     "shell.execute_reply.started": "2021-05-20T23:50:04.540418Z"
    },
    "tags": []
   },
   "outputs": [
    {
     "data": {
      "text/html": [
       "<div>\n",
       "<style scoped>\n",
       "    .dataframe tbody tr th:only-of-type {\n",
       "        vertical-align: middle;\n",
       "    }\n",
       "\n",
       "    .dataframe tbody tr th {\n",
       "        vertical-align: top;\n",
       "    }\n",
       "\n",
       "    .dataframe thead th {\n",
       "        text-align: right;\n",
       "    }\n",
       "</style>\n",
       "<table border=\"1\" class=\"dataframe\">\n",
       "  <thead>\n",
       "    <tr style=\"text-align: right;\">\n",
       "      <th></th>\n",
       "      <th>house_id</th>\n",
       "      <th>house_latitude</th>\n",
       "      <th>hoouse_longitude</th>\n",
       "      <th>venue</th>\n",
       "      <th>city</th>\n",
       "      <th>venue_category</th>\n",
       "      <th>venue_latitude</th>\n",
       "      <th>venue_longitude</th>\n",
       "    </tr>\n",
       "  </thead>\n",
       "  <tbody>\n",
       "    <tr>\n",
       "      <th>0</th>\n",
       "      <td>1719697</td>\n",
       "      <td>52.50027</td>\n",
       "      <td>13.33596</td>\n",
       "      <td>Salut Mediterranean Food &amp; Catering</td>\n",
       "      <td>['Augsburger Str 29', '10789 Berlin', 'Deutsch...</td>\n",
       "      <td>Mediterranean Restaurant</td>\n",
       "      <td>52.501707</td>\n",
       "      <td>13.334932</td>\n",
       "    </tr>\n",
       "    <tr>\n",
       "      <th>1</th>\n",
       "      <td>1719697</td>\n",
       "      <td>52.50027</td>\n",
       "      <td>13.33596</td>\n",
       "      <td>DORMERO Hotel Berlin Ku’damm</td>\n",
       "      <td>['Eislebener Str. 14', '10789 Berlin', 'Deutsc...</td>\n",
       "      <td>Hotel</td>\n",
       "      <td>52.500549</td>\n",
       "      <td>13.333723</td>\n",
       "    </tr>\n",
       "    <tr>\n",
       "      <th>2</th>\n",
       "      <td>1719697</td>\n",
       "      <td>52.50027</td>\n",
       "      <td>13.33596</td>\n",
       "      <td>Duke</td>\n",
       "      <td>['Nürnberger Str. 50-55', '10789 Berlin', 'Deu...</td>\n",
       "      <td>New American Restaurant</td>\n",
       "      <td>52.501667</td>\n",
       "      <td>13.338187</td>\n",
       "    </tr>\n",
       "    <tr>\n",
       "      <th>3</th>\n",
       "      <td>1719697</td>\n",
       "      <td>52.50027</td>\n",
       "      <td>13.33596</td>\n",
       "      <td>City Imbiss</td>\n",
       "      <td>['Lietzenburger Straße 29', '10789 Berlin', 'D...</td>\n",
       "      <td>Turkish Restaurant</td>\n",
       "      <td>52.499093</td>\n",
       "      <td>13.335612</td>\n",
       "    </tr>\n",
       "    <tr>\n",
       "      <th>4</th>\n",
       "      <td>1719697</td>\n",
       "      <td>52.50027</td>\n",
       "      <td>13.33596</td>\n",
       "      <td>Lego Store</td>\n",
       "      <td>['Tauentzienstraße 20', '10789 Berlin', 'Deuts...</td>\n",
       "      <td>Toy / Game Store</td>\n",
       "      <td>52.502534</td>\n",
       "      <td>13.339502</td>\n",
       "    </tr>\n",
       "  </tbody>\n",
       "</table>\n",
       "</div>"
      ],
      "text/plain": [
       "   house_id  house_latitude  hoouse_longitude  \\\n",
       "0   1719697        52.50027          13.33596   \n",
       "1   1719697        52.50027          13.33596   \n",
       "2   1719697        52.50027          13.33596   \n",
       "3   1719697        52.50027          13.33596   \n",
       "4   1719697        52.50027          13.33596   \n",
       "\n",
       "                                 venue  \\\n",
       "0  Salut Mediterranean Food & Catering   \n",
       "1         DORMERO Hotel Berlin Ku’damm   \n",
       "2                                 Duke   \n",
       "3                          City Imbiss   \n",
       "4                           Lego Store   \n",
       "\n",
       "                                                city  \\\n",
       "0  ['Augsburger Str 29', '10789 Berlin', 'Deutsch...   \n",
       "1  ['Eislebener Str. 14', '10789 Berlin', 'Deutsc...   \n",
       "2  ['Nürnberger Str. 50-55', '10789 Berlin', 'Deu...   \n",
       "3  ['Lietzenburger Straße 29', '10789 Berlin', 'D...   \n",
       "4  ['Tauentzienstraße 20', '10789 Berlin', 'Deuts...   \n",
       "\n",
       "             venue_category  venue_latitude  venue_longitude  \n",
       "0  Mediterranean Restaurant       52.501707        13.334932  \n",
       "1                     Hotel       52.500549        13.333723  \n",
       "2   New American Restaurant       52.501667        13.338187  \n",
       "3        Turkish Restaurant       52.499093        13.335612  \n",
       "4          Toy / Game Store       52.502534        13.339502  "
      ]
     },
     "execution_count": 14,
     "metadata": {},
     "output_type": "execute_result"
    }
   ],
   "source": [
    "df_venues.head()"
   ]
  },
  {
   "cell_type": "code",
   "execution_count": 15,
   "id": "neural-picture",
   "metadata": {
    "execution": {
     "iopub.execute_input": "2021-05-20T23:50:05.380955Z",
     "iopub.status.busy": "2021-05-20T23:50:05.380955Z",
     "iopub.status.idle": "2021-05-20T23:50:23.237914Z",
     "shell.execute_reply": "2021-05-20T23:50:23.236959Z",
     "shell.execute_reply.started": "2021-05-20T23:50:05.380955Z"
    },
    "tags": []
   },
   "outputs": [],
   "source": [
    "# Adress\n",
    "df_venues['address'] = df_venues['city'].apply(lambda x: x.split(',')[0][2:-2])\n",
    "\n",
    "# city\n",
    "df_venues['city'] = df_venues['city'].apply(lambda x: x.split(',')[:-1][1:])\n",
    "\n",
    "extract = []\n",
    "\n",
    "# get empty values as NaN\n",
    "for x in df_venues.index:\n",
    "    if len(df_venues.iloc[x][4]) == 0:\n",
    "        extract.append(np.nan)\n",
    "    else:\n",
    "        extract.append(df_venues.iloc[x][4])\n",
    "\n",
    "# assign extract list to \"city\" column - with NaN\n",
    "df_venues['city'] = extract\n",
    "\n",
    "# drop NaN\n",
    "df_venues.dropna(inplace = True)\n",
    "\n",
    "# get only cities names\n",
    "df_venues['city'] = df_venues['city'].apply(lambda x: x[0].split(' ')[-1])\n",
    "\n",
    "# reorder columns\n",
    "df_venues = df_venues[['house_id', 'city', 'venue', 'address',\t'venue_category', 'venue_latitude',\t'venue_longitude']]"
   ]
  },
  {
   "cell_type": "code",
   "execution_count": 16,
   "id": "meaningful-beaver",
   "metadata": {
    "execution": {
     "iopub.execute_input": "2021-05-20T23:50:23.239916Z",
     "iopub.status.busy": "2021-05-20T23:50:23.239916Z",
     "iopub.status.idle": "2021-05-20T23:50:23.317913Z",
     "shell.execute_reply": "2021-05-20T23:50:23.316924Z",
     "shell.execute_reply.started": "2021-05-20T23:50:23.239916Z"
    },
    "tags": []
   },
   "outputs": [],
   "source": [
    "df_venues.drop_duplicates(inplace = True)"
   ]
  },
  {
   "cell_type": "code",
   "execution_count": 17,
   "id": "royal-loading",
   "metadata": {
    "execution": {
     "iopub.execute_input": "2021-05-20T23:50:23.320919Z",
     "iopub.status.busy": "2021-05-20T23:50:23.319917Z",
     "iopub.status.idle": "2021-05-20T23:50:23.347920Z",
     "shell.execute_reply": "2021-05-20T23:50:23.344918Z",
     "shell.execute_reply.started": "2021-05-20T23:50:23.320919Z"
    },
    "tags": []
   },
   "outputs": [
    {
     "data": {
      "text/html": [
       "<div>\n",
       "<style scoped>\n",
       "    .dataframe tbody tr th:only-of-type {\n",
       "        vertical-align: middle;\n",
       "    }\n",
       "\n",
       "    .dataframe tbody tr th {\n",
       "        vertical-align: top;\n",
       "    }\n",
       "\n",
       "    .dataframe thead th {\n",
       "        text-align: right;\n",
       "    }\n",
       "</style>\n",
       "<table border=\"1\" class=\"dataframe\">\n",
       "  <thead>\n",
       "    <tr style=\"text-align: right;\">\n",
       "      <th></th>\n",
       "      <th>house_id</th>\n",
       "      <th>city</th>\n",
       "      <th>venue</th>\n",
       "      <th>address</th>\n",
       "      <th>venue_category</th>\n",
       "      <th>venue_latitude</th>\n",
       "      <th>venue_longitude</th>\n",
       "    </tr>\n",
       "  </thead>\n",
       "  <tbody>\n",
       "    <tr>\n",
       "      <th>0</th>\n",
       "      <td>1719697</td>\n",
       "      <td>Berlin'</td>\n",
       "      <td>Salut Mediterranean Food &amp; Catering</td>\n",
       "      <td>Augsburger Str 2</td>\n",
       "      <td>Mediterranean Restaurant</td>\n",
       "      <td>52.501707</td>\n",
       "      <td>13.334932</td>\n",
       "    </tr>\n",
       "    <tr>\n",
       "      <th>1</th>\n",
       "      <td>1719697</td>\n",
       "      <td>Berlin'</td>\n",
       "      <td>DORMERO Hotel Berlin Ku’damm</td>\n",
       "      <td>Eislebener Str. 1</td>\n",
       "      <td>Hotel</td>\n",
       "      <td>52.500549</td>\n",
       "      <td>13.333723</td>\n",
       "    </tr>\n",
       "    <tr>\n",
       "      <th>2</th>\n",
       "      <td>1719697</td>\n",
       "      <td>Berlin'</td>\n",
       "      <td>Duke</td>\n",
       "      <td>Nürnberger Str. 50-5</td>\n",
       "      <td>New American Restaurant</td>\n",
       "      <td>52.501667</td>\n",
       "      <td>13.338187</td>\n",
       "    </tr>\n",
       "    <tr>\n",
       "      <th>3</th>\n",
       "      <td>1719697</td>\n",
       "      <td>Berlin'</td>\n",
       "      <td>City Imbiss</td>\n",
       "      <td>Lietzenburger Straße 2</td>\n",
       "      <td>Turkish Restaurant</td>\n",
       "      <td>52.499093</td>\n",
       "      <td>13.335612</td>\n",
       "    </tr>\n",
       "    <tr>\n",
       "      <th>4</th>\n",
       "      <td>1719697</td>\n",
       "      <td>Berlin'</td>\n",
       "      <td>Lego Store</td>\n",
       "      <td>Tauentzienstraße 2</td>\n",
       "      <td>Toy / Game Store</td>\n",
       "      <td>52.502534</td>\n",
       "      <td>13.339502</td>\n",
       "    </tr>\n",
       "  </tbody>\n",
       "</table>\n",
       "</div>"
      ],
      "text/plain": [
       "   house_id     city                                venue  \\\n",
       "0   1719697  Berlin'  Salut Mediterranean Food & Catering   \n",
       "1   1719697  Berlin'         DORMERO Hotel Berlin Ku’damm   \n",
       "2   1719697  Berlin'                                 Duke   \n",
       "3   1719697  Berlin'                          City Imbiss   \n",
       "4   1719697  Berlin'                           Lego Store   \n",
       "\n",
       "                  address            venue_category  venue_latitude  \\\n",
       "0        Augsburger Str 2  Mediterranean Restaurant       52.501707   \n",
       "1       Eislebener Str. 1                     Hotel       52.500549   \n",
       "2    Nürnberger Str. 50-5   New American Restaurant       52.501667   \n",
       "3  Lietzenburger Straße 2        Turkish Restaurant       52.499093   \n",
       "4      Tauentzienstraße 2          Toy / Game Store       52.502534   \n",
       "\n",
       "   venue_longitude  \n",
       "0        13.334932  \n",
       "1        13.333723  \n",
       "2        13.338187  \n",
       "3        13.335612  \n",
       "4        13.339502  "
      ]
     },
     "execution_count": 17,
     "metadata": {},
     "output_type": "execute_result"
    }
   ],
   "source": [
    "df_venues.head()"
   ]
  },
  {
   "cell_type": "code",
   "execution_count": 18,
   "id": "alien-engine",
   "metadata": {
    "execution": {
     "iopub.execute_input": "2021-05-20T23:50:23.351918Z",
     "iopub.status.busy": "2021-05-20T23:50:23.350924Z",
     "iopub.status.idle": "2021-05-20T23:50:23.743037Z",
     "shell.execute_reply": "2021-05-20T23:50:23.742036Z",
     "shell.execute_reply.started": "2021-05-20T23:50:23.351918Z"
    },
    "tags": []
   },
   "outputs": [],
   "source": [
    "df_venues.to_csv('../data/nearby_venues_full_cleanned.csv', index = False)"
   ]
  },
  {
   "cell_type": "code",
   "execution_count": null,
   "id": "guided-hierarchy",
   "metadata": {},
   "outputs": [],
   "source": []
  }
 ],
 "metadata": {
  "kernelspec": {
   "display_name": "Python 3",
   "language": "python",
   "name": "python3"
  },
  "language_info": {
   "codemirror_mode": {
    "name": "ipython",
    "version": 3
   },
   "file_extension": ".py",
   "mimetype": "text/x-python",
   "name": "python",
   "nbconvert_exporter": "python",
   "pygments_lexer": "ipython3",
   "version": "3.8.8"
  }
 },
 "nbformat": 4,
 "nbformat_minor": 5
}
