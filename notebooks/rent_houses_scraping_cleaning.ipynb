{
 "cells": [
  {
   "cell_type": "markdown",
   "id": "introductory-joshua",
   "metadata": {},
   "source": [
    "# Imports"
   ]
  },
  {
   "cell_type": "code",
   "execution_count": 2,
   "id": "middle-showcase",
   "metadata": {
    "execution": {
     "iopub.execute_input": "2021-05-18T21:50:34.846893Z",
     "iopub.status.busy": "2021-05-18T21:50:34.845889Z",
     "iopub.status.idle": "2021-05-18T21:50:36.311414Z",
     "shell.execute_reply": "2021-05-18T21:50:36.310422Z",
     "shell.execute_reply.started": "2021-05-18T21:50:34.846893Z"
    },
    "tags": []
   },
   "outputs": [],
   "source": [
    "import re\n",
    "import numpy as np\n",
    "import pandas as pd"
   ]
  },
  {
   "cell_type": "markdown",
   "id": "distributed-slope",
   "metadata": {},
   "source": [
    "# Cleaning dataframes"
   ]
  },
  {
   "cell_type": "code",
   "execution_count": 166,
   "id": "obvious-gospel",
   "metadata": {
    "execution": {
     "iopub.execute_input": "2021-05-18T23:10:46.450421Z",
     "iopub.status.busy": "2021-05-18T23:10:46.449425Z",
     "iopub.status.idle": "2021-05-18T23:10:46.485420Z",
     "shell.execute_reply": "2021-05-18T23:10:46.484426Z",
     "shell.execute_reply.started": "2021-05-18T23:10:46.450421Z"
    },
    "tags": []
   },
   "outputs": [],
   "source": [
    "df = pd.read_csv('../data/df_houses_full_raw.csv')"
   ]
  },
  {
   "cell_type": "code",
   "execution_count": 167,
   "id": "different-calendar",
   "metadata": {
    "execution": {
     "iopub.execute_input": "2021-05-18T23:10:47.002620Z",
     "iopub.status.busy": "2021-05-18T23:10:47.001620Z",
     "iopub.status.idle": "2021-05-18T23:10:47.029612Z",
     "shell.execute_reply": "2021-05-18T23:10:47.028611Z",
     "shell.execute_reply.started": "2021-05-18T23:10:47.002620Z"
    },
    "tags": []
   },
   "outputs": [
    {
     "data": {
      "text/html": [
       "<div>\n",
       "<style scoped>\n",
       "    .dataframe tbody tr th:only-of-type {\n",
       "        vertical-align: middle;\n",
       "    }\n",
       "\n",
       "    .dataframe tbody tr th {\n",
       "        vertical-align: top;\n",
       "    }\n",
       "\n",
       "    .dataframe thead th {\n",
       "        text-align: right;\n",
       "    }\n",
       "</style>\n",
       "<table border=\"1\" class=\"dataframe\">\n",
       "  <thead>\n",
       "    <tr style=\"text-align: right;\">\n",
       "      <th></th>\n",
       "      <th>Unnamed: 0</th>\n",
       "      <th>house_id</th>\n",
       "      <th>city</th>\n",
       "      <th>street</th>\n",
       "      <th>montly_rent</th>\n",
       "      <th>deposit_value</th>\n",
       "      <th>house_rules</th>\n",
       "      <th>size</th>\n",
       "      <th>lat_long</th>\n",
       "      <th>scrapy_datetime</th>\n",
       "      <th>lat</th>\n",
       "      <th>long</th>\n",
       "    </tr>\n",
       "  </thead>\n",
       "  <tbody>\n",
       "    <tr>\n",
       "      <th>0</th>\n",
       "      <td>0</td>\n",
       "      <td>1719697</td>\n",
       "      <td>Berlin</td>\n",
       "      <td>Nürnberger Straße</td>\n",
       "      <td>EUR 850</td>\n",
       "      <td>EUR 1700</td>\n",
       "      <td>['Private living room', 'Private Toilet', 'Pri...</td>\n",
       "      <td>Property: 22 m2</td>\n",
       "      <td>['52.50027', '13.33596']</td>\n",
       "      <td>2021/05/13 - 12:16:03</td>\n",
       "      <td>52.50027</td>\n",
       "      <td>13.33596</td>\n",
       "    </tr>\n",
       "    <tr>\n",
       "      <th>1</th>\n",
       "      <td>1</td>\n",
       "      <td>1716752</td>\n",
       "      <td>Berlin</td>\n",
       "      <td>Schnellerstraße</td>\n",
       "      <td>EUR 450</td>\n",
       "      <td>EUR 900</td>\n",
       "      <td>['Shared toilet', 'Shared kitchen', 'Unisex ba...</td>\n",
       "      <td>Property: 90 m2</td>\n",
       "      <td>['52.45495', '13.51636']</td>\n",
       "      <td>2021/05/13 - 12:16:05</td>\n",
       "      <td>52.45495</td>\n",
       "      <td>13.51636</td>\n",
       "    </tr>\n",
       "    <tr>\n",
       "      <th>2</th>\n",
       "      <td>2</td>\n",
       "      <td>1716755</td>\n",
       "      <td>Berlin</td>\n",
       "      <td>Schnellerstraße</td>\n",
       "      <td>EUR 475</td>\n",
       "      <td>EUR 950</td>\n",
       "      <td>['Shared toilet', 'Shared kitchen', 'Unisex ba...</td>\n",
       "      <td>Property: 90 m2</td>\n",
       "      <td>['52.45495', '13.51636']</td>\n",
       "      <td>2021/05/13 - 12:16:07</td>\n",
       "      <td>52.45495</td>\n",
       "      <td>13.51636</td>\n",
       "    </tr>\n",
       "    <tr>\n",
       "      <th>3</th>\n",
       "      <td>3</td>\n",
       "      <td>1724139</td>\n",
       "      <td>Berlin</td>\n",
       "      <td>Otto-Braun-Straße</td>\n",
       "      <td>EUR 760</td>\n",
       "      <td>EUR 500</td>\n",
       "      <td>['Private facilities', 'Private Toilet', 'Priv...</td>\n",
       "      <td>Property: 25 m2</td>\n",
       "      <td>['52.52449', '13.41863']</td>\n",
       "      <td>2021/05/13 - 12:16:09</td>\n",
       "      <td>52.52449</td>\n",
       "      <td>13.41863</td>\n",
       "    </tr>\n",
       "    <tr>\n",
       "      <th>4</th>\n",
       "      <td>4</td>\n",
       "      <td>1721869</td>\n",
       "      <td>Berlin</td>\n",
       "      <td>Otto-Braun-Straße</td>\n",
       "      <td>EUR 760</td>\n",
       "      <td>EUR 500</td>\n",
       "      <td>['Private facilities', 'Private Toilet', 'Priv...</td>\n",
       "      <td>Property: 25 m2</td>\n",
       "      <td>['52.52449', '13.41863']</td>\n",
       "      <td>2021/05/13 - 12:16:11</td>\n",
       "      <td>52.52449</td>\n",
       "      <td>13.41863</td>\n",
       "    </tr>\n",
       "  </tbody>\n",
       "</table>\n",
       "</div>"
      ],
      "text/plain": [
       "   Unnamed: 0  house_id    city             street montly_rent deposit_value  \\\n",
       "0           0   1719697  Berlin  Nürnberger Straße     EUR 850      EUR 1700   \n",
       "1           1   1716752  Berlin    Schnellerstraße     EUR 450       EUR 900   \n",
       "2           2   1716755  Berlin    Schnellerstraße     EUR 475       EUR 950   \n",
       "3           3   1724139  Berlin  Otto-Braun-Straße     EUR 760       EUR 500   \n",
       "4           4   1721869  Berlin  Otto-Braun-Straße     EUR 760       EUR 500   \n",
       "\n",
       "                                         house_rules             size  \\\n",
       "0  ['Private living room', 'Private Toilet', 'Pri...  Property: 22 m2   \n",
       "1  ['Shared toilet', 'Shared kitchen', 'Unisex ba...  Property: 90 m2   \n",
       "2  ['Shared toilet', 'Shared kitchen', 'Unisex ba...  Property: 90 m2   \n",
       "3  ['Private facilities', 'Private Toilet', 'Priv...  Property: 25 m2   \n",
       "4  ['Private facilities', 'Private Toilet', 'Priv...  Property: 25 m2   \n",
       "\n",
       "                   lat_long        scrapy_datetime       lat      long  \n",
       "0  ['52.50027', '13.33596']  2021/05/13 - 12:16:03  52.50027  13.33596  \n",
       "1  ['52.45495', '13.51636']  2021/05/13 - 12:16:05  52.45495  13.51636  \n",
       "2  ['52.45495', '13.51636']  2021/05/13 - 12:16:07  52.45495  13.51636  \n",
       "3  ['52.52449', '13.41863']  2021/05/13 - 12:16:09  52.52449  13.41863  \n",
       "4  ['52.52449', '13.41863']  2021/05/13 - 12:16:11  52.52449  13.41863  "
      ]
     },
     "execution_count": 167,
     "metadata": {},
     "output_type": "execute_result"
    }
   ],
   "source": [
    "# See what wee got.\n",
    "df.head()"
   ]
  },
  {
   "cell_type": "code",
   "execution_count": 168,
   "id": "instructional-cooper",
   "metadata": {
    "execution": {
     "iopub.execute_input": "2021-05-18T23:10:47.652361Z",
     "iopub.status.busy": "2021-05-18T23:10:47.650357Z",
     "iopub.status.idle": "2021-05-18T23:10:47.661355Z",
     "shell.execute_reply": "2021-05-18T23:10:47.659357Z",
     "shell.execute_reply.started": "2021-05-18T23:10:47.651371Z"
    },
    "tags": []
   },
   "outputs": [
    {
     "data": {
      "text/plain": [
       "(1715, 12)"
      ]
     },
     "execution_count": 168,
     "metadata": {},
     "output_type": "execute_result"
    }
   ],
   "source": [
    "df.shape"
   ]
  },
  {
   "cell_type": "code",
   "execution_count": 169,
   "id": "cooperative-silence",
   "metadata": {
    "execution": {
     "iopub.execute_input": "2021-05-18T23:10:48.088617Z",
     "iopub.status.busy": "2021-05-18T23:10:48.088617Z",
     "iopub.status.idle": "2021-05-18T23:10:48.102609Z",
     "shell.execute_reply": "2021-05-18T23:10:48.100612Z",
     "shell.execute_reply.started": "2021-05-18T23:10:48.088617Z"
    },
    "tags": []
   },
   "outputs": [
    {
     "data": {
      "text/plain": [
       "Unnamed: 0         0\n",
       "house_id           0\n",
       "city               0\n",
       "street             0\n",
       "montly_rent        0\n",
       "deposit_value      0\n",
       "house_rules        0\n",
       "size               0\n",
       "lat_long           0\n",
       "scrapy_datetime    0\n",
       "lat                0\n",
       "long               0\n",
       "dtype: int64"
      ]
     },
     "execution_count": 169,
     "metadata": {},
     "output_type": "execute_result"
    }
   ],
   "source": [
    "# Look for NaN and clean it.\n",
    "df.isna().sum()"
   ]
  },
  {
   "cell_type": "code",
   "execution_count": 170,
   "id": "southern-accuracy",
   "metadata": {
    "execution": {
     "iopub.execute_input": "2021-05-18T23:10:49.920487Z",
     "iopub.status.busy": "2021-05-18T23:10:49.919490Z",
     "iopub.status.idle": "2021-05-18T23:10:49.933490Z",
     "shell.execute_reply": "2021-05-18T23:10:49.932487Z",
     "shell.execute_reply.started": "2021-05-18T23:10:49.920487Z"
    },
    "tags": []
   },
   "outputs": [
    {
     "data": {
      "text/plain": [
       "Unnamed: 0           int64\n",
       "house_id             int64\n",
       "city                object\n",
       "street              object\n",
       "montly_rent         object\n",
       "deposit_value       object\n",
       "house_rules         object\n",
       "size                object\n",
       "lat_long            object\n",
       "scrapy_datetime     object\n",
       "lat                float64\n",
       "long               float64\n",
       "dtype: object"
      ]
     },
     "execution_count": 170,
     "metadata": {},
     "output_type": "execute_result"
    }
   ],
   "source": [
    "df.dtypes"
   ]
  },
  {
   "cell_type": "markdown",
   "id": "demanding-stewart",
   "metadata": {},
   "source": [
    "## Cleaning df_houses"
   ]
  },
  {
   "cell_type": "code",
   "execution_count": 171,
   "id": "unnecessary-lightning",
   "metadata": {
    "execution": {
     "iopub.execute_input": "2021-05-18T23:10:52.092124Z",
     "iopub.status.busy": "2021-05-18T23:10:52.091124Z",
     "iopub.status.idle": "2021-05-18T23:10:52.539063Z",
     "shell.execute_reply": "2021-05-18T23:10:52.538106Z",
     "shell.execute_reply.started": "2021-05-18T23:10:52.092124Z"
    },
    "tags": []
   },
   "outputs": [],
   "source": [
    "# Drop \"Unnamed: 0\" column and 'lat_long' column\n",
    "df.drop(columns = ['Unnamed: 0', 'lat_long'], inplace=True)\n",
    "\n",
    "# Clean \"montly_rent\"\n",
    "df['montly_rent'] = df['montly_rent'].apply(lambda x: re.search('\\d+', x).group(0))\n",
    "df['montly_rent'] = df['montly_rent'].astype(int)\n",
    "\n",
    "# Clean 'deposit_value'\n",
    "df['deposit_value'] = df['deposit_value'].apply(lambda x: re.search('\\d+', x).group(0))\n",
    "df['deposit_value'] = df['deposit_value'].astype(int)\n",
    "\n",
    "# Clean 'house_rules'\n",
    "## we are looking for places that pets are allowed, so we'll filter the 'house_rules' column to find this places.\n",
    "yes = 'Pets allowed'\n",
    "maybe = 'Pets negotiable'\n",
    "no = 'Pets not allowed'\n",
    "\n",
    "df['pets'] = df['house_rules'].apply(lambda x: yes if yes in x else maybe if maybe in x else no if no in x else np.nan)\n",
    "\n",
    "df.shape\n",
    "\n",
    "# Clean 'size'\n",
    "## There are some 'Furnished' as size. I'll exclude them.\n",
    "df = df[df['size'] != 'Furnished']\n",
    "df['size'] = df['size'].apply(lambda x: x.split(' ')[1])\n",
    "\n",
    "# Clean columns\n",
    "df.drop(columns = ['house_rules'], inplace = True)\n",
    "\n",
    "# Reorder columns\n",
    "df = df[['house_id', 'scrapy_datetime',\t'city',\t'street', 'size', 'pets', 'montly_rent', 'deposit_value', 'lat', 'long']]\n",
    "\n",
    "# scrape datetime - to datetime\n",
    "df['scrapy_datetime'] = pd.to_datetime(df['scrapy_datetime'])"
   ]
  },
  {
   "cell_type": "code",
   "execution_count": 172,
   "id": "together-compact",
   "metadata": {
    "execution": {
     "iopub.execute_input": "2021-05-18T23:10:53.859135Z",
     "iopub.status.busy": "2021-05-18T23:10:53.858134Z",
     "iopub.status.idle": "2021-05-18T23:10:53.891134Z",
     "shell.execute_reply": "2021-05-18T23:10:53.890136Z",
     "shell.execute_reply.started": "2021-05-18T23:10:53.859135Z"
    },
    "tags": []
   },
   "outputs": [
    {
     "data": {
      "text/html": [
       "<div>\n",
       "<style scoped>\n",
       "    .dataframe tbody tr th:only-of-type {\n",
       "        vertical-align: middle;\n",
       "    }\n",
       "\n",
       "    .dataframe tbody tr th {\n",
       "        vertical-align: top;\n",
       "    }\n",
       "\n",
       "    .dataframe thead th {\n",
       "        text-align: right;\n",
       "    }\n",
       "</style>\n",
       "<table border=\"1\" class=\"dataframe\">\n",
       "  <thead>\n",
       "    <tr style=\"text-align: right;\">\n",
       "      <th></th>\n",
       "      <th>house_id</th>\n",
       "      <th>scrapy_datetime</th>\n",
       "      <th>city</th>\n",
       "      <th>street</th>\n",
       "      <th>size</th>\n",
       "      <th>pets</th>\n",
       "      <th>montly_rent</th>\n",
       "      <th>deposit_value</th>\n",
       "      <th>lat</th>\n",
       "      <th>long</th>\n",
       "    </tr>\n",
       "  </thead>\n",
       "  <tbody>\n",
       "    <tr>\n",
       "      <th>0</th>\n",
       "      <td>1719697</td>\n",
       "      <td>2021-05-13 12:16:03</td>\n",
       "      <td>Berlin</td>\n",
       "      <td>Nürnberger Straße</td>\n",
       "      <td>22</td>\n",
       "      <td>Pets not allowed</td>\n",
       "      <td>850</td>\n",
       "      <td>1700</td>\n",
       "      <td>52.50027</td>\n",
       "      <td>13.33596</td>\n",
       "    </tr>\n",
       "    <tr>\n",
       "      <th>1</th>\n",
       "      <td>1716752</td>\n",
       "      <td>2021-05-13 12:16:05</td>\n",
       "      <td>Berlin</td>\n",
       "      <td>Schnellerstraße</td>\n",
       "      <td>90</td>\n",
       "      <td>Pets not allowed</td>\n",
       "      <td>450</td>\n",
       "      <td>900</td>\n",
       "      <td>52.45495</td>\n",
       "      <td>13.51636</td>\n",
       "    </tr>\n",
       "    <tr>\n",
       "      <th>2</th>\n",
       "      <td>1716755</td>\n",
       "      <td>2021-05-13 12:16:07</td>\n",
       "      <td>Berlin</td>\n",
       "      <td>Schnellerstraße</td>\n",
       "      <td>90</td>\n",
       "      <td>Pets not allowed</td>\n",
       "      <td>475</td>\n",
       "      <td>950</td>\n",
       "      <td>52.45495</td>\n",
       "      <td>13.51636</td>\n",
       "    </tr>\n",
       "    <tr>\n",
       "      <th>3</th>\n",
       "      <td>1724139</td>\n",
       "      <td>2021-05-13 12:16:09</td>\n",
       "      <td>Berlin</td>\n",
       "      <td>Otto-Braun-Straße</td>\n",
       "      <td>25</td>\n",
       "      <td>Pets not allowed</td>\n",
       "      <td>760</td>\n",
       "      <td>500</td>\n",
       "      <td>52.52449</td>\n",
       "      <td>13.41863</td>\n",
       "    </tr>\n",
       "    <tr>\n",
       "      <th>4</th>\n",
       "      <td>1721869</td>\n",
       "      <td>2021-05-13 12:16:11</td>\n",
       "      <td>Berlin</td>\n",
       "      <td>Otto-Braun-Straße</td>\n",
       "      <td>25</td>\n",
       "      <td>Pets not allowed</td>\n",
       "      <td>760</td>\n",
       "      <td>500</td>\n",
       "      <td>52.52449</td>\n",
       "      <td>13.41863</td>\n",
       "    </tr>\n",
       "  </tbody>\n",
       "</table>\n",
       "</div>"
      ],
      "text/plain": [
       "   house_id     scrapy_datetime    city             street size  \\\n",
       "0   1719697 2021-05-13 12:16:03  Berlin  Nürnberger Straße   22   \n",
       "1   1716752 2021-05-13 12:16:05  Berlin    Schnellerstraße   90   \n",
       "2   1716755 2021-05-13 12:16:07  Berlin    Schnellerstraße   90   \n",
       "3   1724139 2021-05-13 12:16:09  Berlin  Otto-Braun-Straße   25   \n",
       "4   1721869 2021-05-13 12:16:11  Berlin  Otto-Braun-Straße   25   \n",
       "\n",
       "               pets  montly_rent  deposit_value       lat      long  \n",
       "0  Pets not allowed          850           1700  52.50027  13.33596  \n",
       "1  Pets not allowed          450            900  52.45495  13.51636  \n",
       "2  Pets not allowed          475            950  52.45495  13.51636  \n",
       "3  Pets not allowed          760            500  52.52449  13.41863  \n",
       "4  Pets not allowed          760            500  52.52449  13.41863  "
      ]
     },
     "execution_count": 172,
     "metadata": {},
     "output_type": "execute_result"
    }
   ],
   "source": [
    "df.head()"
   ]
  },
  {
   "cell_type": "code",
   "execution_count": 173,
   "id": "monetary-warehouse",
   "metadata": {
    "execution": {
     "iopub.execute_input": "2021-05-18T23:10:55.490689Z",
     "iopub.status.busy": "2021-05-18T23:10:55.489686Z",
     "iopub.status.idle": "2021-05-18T23:10:55.505681Z",
     "shell.execute_reply": "2021-05-18T23:10:55.503681Z",
     "shell.execute_reply.started": "2021-05-18T23:10:55.489686Z"
    },
    "tags": []
   },
   "outputs": [
    {
     "data": {
      "text/plain": [
       "house_id            0\n",
       "scrapy_datetime     0\n",
       "city                0\n",
       "street              0\n",
       "size                0\n",
       "pets               33\n",
       "montly_rent         0\n",
       "deposit_value       0\n",
       "lat                 0\n",
       "long                0\n",
       "dtype: int64"
      ]
     },
     "execution_count": 173,
     "metadata": {},
     "output_type": "execute_result"
    }
   ],
   "source": [
    "df.isna().sum()"
   ]
  },
  {
   "cell_type": "code",
   "execution_count": 174,
   "id": "biblical-monte",
   "metadata": {
    "execution": {
     "iopub.execute_input": "2021-05-18T23:10:56.277386Z",
     "iopub.status.busy": "2021-05-18T23:10:56.275385Z",
     "iopub.status.idle": "2021-05-18T23:10:56.293383Z",
     "shell.execute_reply": "2021-05-18T23:10:56.291385Z",
     "shell.execute_reply.started": "2021-05-18T23:10:56.276384Z"
    },
    "tags": []
   },
   "outputs": [],
   "source": [
    "df.dropna(inplace = True)"
   ]
  },
  {
   "cell_type": "code",
   "execution_count": 175,
   "id": "breeding-prophet",
   "metadata": {
    "execution": {
     "iopub.execute_input": "2021-05-18T23:10:57.120060Z",
     "iopub.status.busy": "2021-05-18T23:10:57.119064Z",
     "iopub.status.idle": "2021-05-18T23:10:57.130060Z",
     "shell.execute_reply": "2021-05-18T23:10:57.128063Z",
     "shell.execute_reply.started": "2021-05-18T23:10:57.120060Z"
    },
    "tags": []
   },
   "outputs": [],
   "source": [
    "df['size'] = df['size'].astype(float)"
   ]
  },
  {
   "cell_type": "code",
   "execution_count": 176,
   "id": "racial-davis",
   "metadata": {
    "execution": {
     "iopub.execute_input": "2021-05-18T23:10:58.891648Z",
     "iopub.status.busy": "2021-05-18T23:10:58.891648Z",
     "iopub.status.idle": "2021-05-18T23:10:58.936643Z",
     "shell.execute_reply": "2021-05-18T23:10:58.935645Z",
     "shell.execute_reply.started": "2021-05-18T23:10:58.891648Z"
    },
    "tags": []
   },
   "outputs": [],
   "source": [
    "df.to_csv('../data/df_houses_full_cleanned.csv', index = False)"
   ]
  },
  {
   "cell_type": "markdown",
   "id": "patent-might",
   "metadata": {},
   "source": [
    "## Cleanning nearby_venues dataset"
   ]
  },
  {
   "cell_type": "code",
   "execution_count": 139,
   "id": "enclosed-pipeline",
   "metadata": {
    "execution": {
     "iopub.execute_input": "2021-05-18T22:54:42.873250Z",
     "iopub.status.busy": "2021-05-18T22:54:42.872252Z",
     "iopub.status.idle": "2021-05-18T22:54:43.103698Z",
     "shell.execute_reply": "2021-05-18T22:54:43.102711Z",
     "shell.execute_reply.started": "2021-05-18T22:54:42.872252Z"
    },
    "tags": []
   },
   "outputs": [],
   "source": [
    "df_venues = pd.read_csv('../data/nearby_venues_full_raw.csv')"
   ]
  },
  {
   "cell_type": "code",
   "execution_count": 140,
   "id": "average-adaptation",
   "metadata": {
    "execution": {
     "iopub.execute_input": "2021-05-18T22:54:43.494991Z",
     "iopub.status.busy": "2021-05-18T22:54:43.493990Z",
     "iopub.status.idle": "2021-05-18T22:54:43.517957Z",
     "shell.execute_reply": "2021-05-18T22:54:43.515996Z",
     "shell.execute_reply.started": "2021-05-18T22:54:43.494991Z"
    },
    "tags": []
   },
   "outputs": [
    {
     "data": {
      "text/html": [
       "<div>\n",
       "<style scoped>\n",
       "    .dataframe tbody tr th:only-of-type {\n",
       "        vertical-align: middle;\n",
       "    }\n",
       "\n",
       "    .dataframe tbody tr th {\n",
       "        vertical-align: top;\n",
       "    }\n",
       "\n",
       "    .dataframe thead th {\n",
       "        text-align: right;\n",
       "    }\n",
       "</style>\n",
       "<table border=\"1\" class=\"dataframe\">\n",
       "  <thead>\n",
       "    <tr style=\"text-align: right;\">\n",
       "      <th></th>\n",
       "      <th>house_id</th>\n",
       "      <th>house_latitude</th>\n",
       "      <th>hoouse_longitude</th>\n",
       "      <th>venue</th>\n",
       "      <th>city</th>\n",
       "      <th>venue_category</th>\n",
       "      <th>venue_latitude</th>\n",
       "      <th>venue_longitude</th>\n",
       "    </tr>\n",
       "  </thead>\n",
       "  <tbody>\n",
       "    <tr>\n",
       "      <th>0</th>\n",
       "      <td>1719697</td>\n",
       "      <td>52.50027</td>\n",
       "      <td>13.33596</td>\n",
       "      <td>Salut Mediterranean Food &amp; Catering</td>\n",
       "      <td>['Augsburger Str 29', '10789 Berlin', 'Deutsch...</td>\n",
       "      <td>Mediterranean Restaurant</td>\n",
       "      <td>52.501707</td>\n",
       "      <td>13.334932</td>\n",
       "    </tr>\n",
       "    <tr>\n",
       "      <th>1</th>\n",
       "      <td>1719697</td>\n",
       "      <td>52.50027</td>\n",
       "      <td>13.33596</td>\n",
       "      <td>DORMERO Hotel Berlin Ku’damm</td>\n",
       "      <td>['Eislebener Str. 14', '10789 Berlin', 'Deutsc...</td>\n",
       "      <td>Hotel</td>\n",
       "      <td>52.500549</td>\n",
       "      <td>13.333723</td>\n",
       "    </tr>\n",
       "    <tr>\n",
       "      <th>2</th>\n",
       "      <td>1719697</td>\n",
       "      <td>52.50027</td>\n",
       "      <td>13.33596</td>\n",
       "      <td>Duke</td>\n",
       "      <td>['Nürnberger Str. 50-55', '10789 Berlin', 'Deu...</td>\n",
       "      <td>New American Restaurant</td>\n",
       "      <td>52.501667</td>\n",
       "      <td>13.338187</td>\n",
       "    </tr>\n",
       "    <tr>\n",
       "      <th>3</th>\n",
       "      <td>1719697</td>\n",
       "      <td>52.50027</td>\n",
       "      <td>13.33596</td>\n",
       "      <td>City Imbiss</td>\n",
       "      <td>['Lietzenburger Straße 29', '10789 Berlin', 'D...</td>\n",
       "      <td>Turkish Restaurant</td>\n",
       "      <td>52.499093</td>\n",
       "      <td>13.335612</td>\n",
       "    </tr>\n",
       "    <tr>\n",
       "      <th>4</th>\n",
       "      <td>1719697</td>\n",
       "      <td>52.50027</td>\n",
       "      <td>13.33596</td>\n",
       "      <td>Lego Store</td>\n",
       "      <td>['Tauentzienstraße 20', '10789 Berlin', 'Deuts...</td>\n",
       "      <td>Toy / Game Store</td>\n",
       "      <td>52.502534</td>\n",
       "      <td>13.339502</td>\n",
       "    </tr>\n",
       "  </tbody>\n",
       "</table>\n",
       "</div>"
      ],
      "text/plain": [
       "   house_id  house_latitude  hoouse_longitude  \\\n",
       "0   1719697        52.50027          13.33596   \n",
       "1   1719697        52.50027          13.33596   \n",
       "2   1719697        52.50027          13.33596   \n",
       "3   1719697        52.50027          13.33596   \n",
       "4   1719697        52.50027          13.33596   \n",
       "\n",
       "                                 venue  \\\n",
       "0  Salut Mediterranean Food & Catering   \n",
       "1         DORMERO Hotel Berlin Ku’damm   \n",
       "2                                 Duke   \n",
       "3                          City Imbiss   \n",
       "4                           Lego Store   \n",
       "\n",
       "                                                city  \\\n",
       "0  ['Augsburger Str 29', '10789 Berlin', 'Deutsch...   \n",
       "1  ['Eislebener Str. 14', '10789 Berlin', 'Deutsc...   \n",
       "2  ['Nürnberger Str. 50-55', '10789 Berlin', 'Deu...   \n",
       "3  ['Lietzenburger Straße 29', '10789 Berlin', 'D...   \n",
       "4  ['Tauentzienstraße 20', '10789 Berlin', 'Deuts...   \n",
       "\n",
       "             venue_category  venue_latitude  venue_longitude  \n",
       "0  Mediterranean Restaurant       52.501707        13.334932  \n",
       "1                     Hotel       52.500549        13.333723  \n",
       "2   New American Restaurant       52.501667        13.338187  \n",
       "3        Turkish Restaurant       52.499093        13.335612  \n",
       "4          Toy / Game Store       52.502534        13.339502  "
      ]
     },
     "execution_count": 140,
     "metadata": {},
     "output_type": "execute_result"
    }
   ],
   "source": [
    "df_venues.head()"
   ]
  },
  {
   "cell_type": "code",
   "execution_count": 141,
   "id": "athletic-luther",
   "metadata": {
    "execution": {
     "iopub.execute_input": "2021-05-18T22:54:44.257473Z",
     "iopub.status.busy": "2021-05-18T22:54:44.256473Z",
     "iopub.status.idle": "2021-05-18T22:55:03.251537Z",
     "shell.execute_reply": "2021-05-18T22:55:03.250550Z",
     "shell.execute_reply.started": "2021-05-18T22:54:44.257473Z"
    },
    "tags": []
   },
   "outputs": [],
   "source": [
    "# Adress\n",
    "df_venues['address'] = df_venues['city'].apply(lambda x: x.split(',')[0][2:-2])\n",
    "\n",
    "# city\n",
    "df_venues['city'] = df_venues['city'].apply(lambda x: x.split(',')[:-1][1:])\n",
    "\n",
    "extract = []\n",
    "\n",
    "# get empty values as NaN\n",
    "for x in df_venues.index:\n",
    "    if len(df_venues.iloc[x][4]) == 0:\n",
    "        extract.append(np.nan)\n",
    "    else:\n",
    "        extract.append(df_venues.iloc[x][4])\n",
    "\n",
    "# assign extract list to \"city\" column - with NaN\n",
    "df_venues['city'] = extract\n",
    "\n",
    "# drop NaN\n",
    "df_venues.dropna(inplace = True)\n",
    "\n",
    "# get only cities names\n",
    "df_venues['city'] = df_venues['city'].apply(lambda x: x[0].split(' ')[-1])\n",
    "\n",
    "# reorder columns\n",
    "df_venues = df_venues[['house_id', 'city', 'venue', 'address',\t'venue_category', 'venue_latitude',\t'venue_longitude']]"
   ]
  },
  {
   "cell_type": "code",
   "execution_count": 143,
   "id": "standard-sacrifice",
   "metadata": {
    "execution": {
     "iopub.execute_input": "2021-05-18T22:55:03.277536Z",
     "iopub.status.busy": "2021-05-18T22:55:03.276535Z",
     "iopub.status.idle": "2021-05-18T22:55:03.323538Z",
     "shell.execute_reply": "2021-05-18T22:55:03.320537Z",
     "shell.execute_reply.started": "2021-05-18T22:55:03.277536Z"
    },
    "tags": []
   },
   "outputs": [
    {
     "data": {
      "text/html": [
       "<div>\n",
       "<style scoped>\n",
       "    .dataframe tbody tr th:only-of-type {\n",
       "        vertical-align: middle;\n",
       "    }\n",
       "\n",
       "    .dataframe tbody tr th {\n",
       "        vertical-align: top;\n",
       "    }\n",
       "\n",
       "    .dataframe thead th {\n",
       "        text-align: right;\n",
       "    }\n",
       "</style>\n",
       "<table border=\"1\" class=\"dataframe\">\n",
       "  <thead>\n",
       "    <tr style=\"text-align: right;\">\n",
       "      <th></th>\n",
       "      <th>house_id</th>\n",
       "      <th>city</th>\n",
       "      <th>venue</th>\n",
       "      <th>address</th>\n",
       "      <th>venue_category</th>\n",
       "      <th>venue_latitude</th>\n",
       "      <th>venue_longitude</th>\n",
       "    </tr>\n",
       "  </thead>\n",
       "  <tbody>\n",
       "    <tr>\n",
       "      <th>0</th>\n",
       "      <td>1719697</td>\n",
       "      <td>Berlin'</td>\n",
       "      <td>Salut Mediterranean Food &amp; Catering</td>\n",
       "      <td>Augsburger Str 2</td>\n",
       "      <td>Mediterranean Restaurant</td>\n",
       "      <td>52.501707</td>\n",
       "      <td>13.334932</td>\n",
       "    </tr>\n",
       "    <tr>\n",
       "      <th>1</th>\n",
       "      <td>1719697</td>\n",
       "      <td>Berlin'</td>\n",
       "      <td>DORMERO Hotel Berlin Ku’damm</td>\n",
       "      <td>Eislebener Str. 1</td>\n",
       "      <td>Hotel</td>\n",
       "      <td>52.500549</td>\n",
       "      <td>13.333723</td>\n",
       "    </tr>\n",
       "    <tr>\n",
       "      <th>2</th>\n",
       "      <td>1719697</td>\n",
       "      <td>Berlin'</td>\n",
       "      <td>Duke</td>\n",
       "      <td>Nürnberger Str. 50-5</td>\n",
       "      <td>New American Restaurant</td>\n",
       "      <td>52.501667</td>\n",
       "      <td>13.338187</td>\n",
       "    </tr>\n",
       "    <tr>\n",
       "      <th>3</th>\n",
       "      <td>1719697</td>\n",
       "      <td>Berlin'</td>\n",
       "      <td>City Imbiss</td>\n",
       "      <td>Lietzenburger Straße 2</td>\n",
       "      <td>Turkish Restaurant</td>\n",
       "      <td>52.499093</td>\n",
       "      <td>13.335612</td>\n",
       "    </tr>\n",
       "    <tr>\n",
       "      <th>4</th>\n",
       "      <td>1719697</td>\n",
       "      <td>Berlin'</td>\n",
       "      <td>Lego Store</td>\n",
       "      <td>Tauentzienstraße 2</td>\n",
       "      <td>Toy / Game Store</td>\n",
       "      <td>52.502534</td>\n",
       "      <td>13.339502</td>\n",
       "    </tr>\n",
       "  </tbody>\n",
       "</table>\n",
       "</div>"
      ],
      "text/plain": [
       "   house_id     city                                venue  \\\n",
       "0   1719697  Berlin'  Salut Mediterranean Food & Catering   \n",
       "1   1719697  Berlin'         DORMERO Hotel Berlin Ku’damm   \n",
       "2   1719697  Berlin'                                 Duke   \n",
       "3   1719697  Berlin'                          City Imbiss   \n",
       "4   1719697  Berlin'                           Lego Store   \n",
       "\n",
       "                  address            venue_category  venue_latitude  \\\n",
       "0        Augsburger Str 2  Mediterranean Restaurant       52.501707   \n",
       "1       Eislebener Str. 1                     Hotel       52.500549   \n",
       "2    Nürnberger Str. 50-5   New American Restaurant       52.501667   \n",
       "3  Lietzenburger Straße 2        Turkish Restaurant       52.499093   \n",
       "4      Tauentzienstraße 2          Toy / Game Store       52.502534   \n",
       "\n",
       "   venue_longitude  \n",
       "0        13.334932  \n",
       "1        13.333723  \n",
       "2        13.338187  \n",
       "3        13.335612  \n",
       "4        13.339502  "
      ]
     },
     "execution_count": 143,
     "metadata": {},
     "output_type": "execute_result"
    }
   ],
   "source": [
    "df_venues.head()"
   ]
  },
  {
   "cell_type": "code",
   "execution_count": 144,
   "id": "religious-drain",
   "metadata": {
    "execution": {
     "iopub.execute_input": "2021-05-18T22:55:03.337540Z",
     "iopub.status.busy": "2021-05-18T22:55:03.335540Z",
     "iopub.status.idle": "2021-05-18T22:55:03.395533Z",
     "shell.execute_reply": "2021-05-18T22:55:03.393542Z",
     "shell.execute_reply.started": "2021-05-18T22:55:03.337540Z"
    },
    "tags": []
   },
   "outputs": [],
   "source": [
    "df.to_csv('../data/nearby_venues_full_cleanned.csv', index = False)"
   ]
  },
  {
   "cell_type": "code",
   "execution_count": null,
   "id": "amended-arthur",
   "metadata": {},
   "outputs": [],
   "source": []
  }
 ],
 "metadata": {
  "kernelspec": {
   "display_name": "Python 3",
   "language": "python",
   "name": "python3"
  },
  "language_info": {
   "codemirror_mode": {
    "name": "ipython",
    "version": 3
   },
   "file_extension": ".py",
   "mimetype": "text/x-python",
   "name": "python",
   "nbconvert_exporter": "python",
   "pygments_lexer": "ipython3",
   "version": "3.8.8"
  }
 },
 "nbformat": 4,
 "nbformat_minor": 5
}
