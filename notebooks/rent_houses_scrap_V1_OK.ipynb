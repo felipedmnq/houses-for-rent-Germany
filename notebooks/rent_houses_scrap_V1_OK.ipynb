{
 "cells": [
  {
   "cell_type": "code",
   "execution_count": 18,
   "id": "significant-delivery",
   "metadata": {
    "execution": {
     "iopub.execute_input": "2021-05-13T08:36:45.480625Z",
     "iopub.status.busy": "2021-05-13T08:36:45.479627Z",
     "iopub.status.idle": "2021-05-13T08:36:45.488624Z",
     "shell.execute_reply": "2021-05-13T08:36:45.487626Z",
     "shell.execute_reply.started": "2021-05-13T08:36:45.480625Z"
    },
    "tags": []
   },
   "outputs": [],
   "source": [
    "from bs4 import BeautifulSoup\n",
    "import requests\n",
    "import pandas as pd\n",
    "from datetime import datetime\n",
    "import numpy as np\n",
    "import re\n",
    "\n",
    "import seaborn as sns\n",
    "from matplotlib             import pyplot as plt\n",
    "from IPython.core.display   import HTML\n",
    "from IPython.display        import Image"
   ]
  },
  {
   "cell_type": "code",
   "execution_count": 3,
   "id": "serial-insurance",
   "metadata": {
    "execution": {
     "iopub.execute_input": "2021-05-13T01:15:02.881222Z",
     "iopub.status.busy": "2021-05-13T01:15:02.880218Z",
     "iopub.status.idle": "2021-05-13T01:15:05.064178Z",
     "shell.execute_reply": "2021-05-13T01:15:05.060181Z",
     "shell.execute_reply.started": "2021-05-13T01:15:02.881222Z"
    },
    "tags": []
   },
   "outputs": [],
   "source": [
    "# define City\n",
    "city = 'Berlin'\n",
    "\n",
    "url = f'https://housinganywhere.com/s/{city}--Germany/apartment-for-rent'\n",
    "\n",
    "headers = {'User-Agent': 'Mozilla/5.0 (Macintosh; Intel Mac OS X 10_11_5) AppleWebKit/537.36 (KHTML, like Gecko) Chrome/50.0.2661.102 Safari/537.36'}\n",
    "page = requests.get(url, headers=headers)\n",
    "\n",
    "# instance BS\n",
    "soup = BeautifulSoup(page.text, 'html.parser')"
   ]
  },
  {
   "cell_type": "code",
   "execution_count": 4,
   "id": "international-morrison",
   "metadata": {
    "execution": {
     "iopub.execute_input": "2021-05-13T01:15:05.713558Z",
     "iopub.status.busy": "2021-05-13T01:15:05.712561Z",
     "iopub.status.idle": "2021-05-13T01:15:06.267188Z",
     "shell.execute_reply": "2021-05-13T01:15:06.265187Z",
     "shell.execute_reply.started": "2021-05-13T01:15:05.713558Z"
    },
    "tags": []
   },
   "outputs": [],
   "source": [
    "houses_list = soup.findAll('a', class_ = 'jss169 jss14')\n",
    "houses_id = []\n",
    "\n",
    "for h in range(24):\n",
    "    houses_id.append([soup.findAll('a', class_ = 'jss169 jss14')[h].get('href').split('/')[2], soup.findAll('a', class_ = 'jss169 jss14')[h].get('href').split('/')[-1]])"
   ]
  },
  {
   "cell_type": "code",
   "execution_count": 5,
   "id": "earlier-uzbekistan",
   "metadata": {
    "execution": {
     "iopub.execute_input": "2021-05-13T01:15:07.089970Z",
     "iopub.status.busy": "2021-05-13T01:15:07.088971Z",
     "iopub.status.idle": "2021-05-13T01:17:33.712918Z",
     "shell.execute_reply": "2021-05-13T01:17:33.711968Z",
     "shell.execute_reply.started": "2021-05-13T01:15:07.089970Z"
    },
    "tags": []
   },
   "outputs": [],
   "source": [
    "# get all houses links from determinated city\n",
    "\n",
    "# getting total pages number\n",
    "a = soup.find('div', class_ = 'MuiGrid-root jss208 jss207 MuiGrid-container MuiGrid-justify-xs-flex-end')\n",
    "b = a.findAll('a',class_ = 'MuiButtonBase-root MuiButton-root MuiButton-outlined jss209 MuiButton-outlinedSizeSmall MuiButton-sizeSmall')[3].span.text\n",
    "b = int(b)\n",
    "\n",
    "# Crete a empty listo for houses infos\n",
    "houses_id = []\n",
    "\n",
    "# going thru all pages from city\n",
    "for page in range(b):\n",
    "    url = f'https://housinganywhere.com/s/{city}--Germany/apartment-for-rent?page={page}'\n",
    "    page = requests.get(url, headers=headers)\n",
    "    soup = BeautifulSoup(page.text, 'html.parser')\n",
    "    houses_list = soup.findAll('a', class_ = 'jss169 jss14')\n",
    "    \n",
    "    # going thru all houses from page\n",
    "    for h in range(len(houses_list)):\n",
    "        id = soup.findAll('a', class_ = 'jss169 jss14')[h].get('href').split('/')[2]\n",
    "        comp = soup.findAll('a', class_ = 'jss169 jss14')[h].get('href').split('/')[-1]\n",
    "        \n",
    "        url = f'https://housinganywhere.com/room/{id}/de/Berlin/{comp}'\n",
    "        houses_id.append(url)\n",
    "    \n",
    "    houses_list.clear()\n",
    "    \n",
    "# len(houses_id)"
   ]
  },
  {
   "cell_type": "code",
   "execution_count": 20,
   "id": "close-wildlife",
   "metadata": {
    "execution": {
     "iopub.execute_input": "2021-05-13T08:37:12.606631Z",
     "iopub.status.busy": "2021-05-13T08:37:12.605628Z",
     "iopub.status.idle": "2021-05-13T09:02:56.370122Z",
     "shell.execute_reply": "2021-05-13T09:02:56.369162Z",
     "shell.execute_reply.started": "2021-05-13T08:37:12.606631Z"
    },
    "tags": []
   },
   "outputs": [],
   "source": [
    "df_houses = pd.DataFrame(columns = ['house_id', 'montly_rent', 'deposit_value', 'house_rules', 'street'])\n",
    "\n",
    "houses_df_list = []\n",
    "\n",
    "# get houses infos link by link\n",
    "\n",
    "for house in houses_id:\n",
    "    h = {}\n",
    "    \n",
    "    url = f'{str(house)}'\n",
    "\n",
    "    headers = {'User-Agent': 'Mozilla/5.0 (Macintosh; Intel Mac OS X 10_11_5) AppleWebKit/537.36 (KHTML, like Gecko) Chrome/50.0.2661.102 Safari/537.36'}\n",
    "    page = requests.get(url, headers=headers)\n",
    "\n",
    "    # Html \n",
    "    soup = BeautifulSoup(page.text, 'html.parser')\n",
    "\n",
    "    # Hause ID\n",
    "    try:\n",
    "        h['house_id'] = url.split('/')[4]\n",
    "    except:\n",
    "        pass\n",
    "    \n",
    "    # Montly rent value\n",
    "    try:\n",
    "        h['montly_rent'] = soup.findAll('p', class_ = 'MuiTypography-root jss105 jss55 jss43 jss49 MuiTypography-h2 MuiTypography-displayBlock')[0].text\n",
    "    except:\n",
    "        pass\n",
    "    \n",
    "    # Deposit value\n",
    "    try:\n",
    "        if len(soup.findAll('div', class_ = 'MuiGrid-root MuiGrid-container MuiGrid-item MuiGrid-justify-xs-flex-end MuiGrid-grid-xs-6')) > 1:\n",
    "            h['deposit_value'] = soup.findAll('div', class_ = 'MuiGrid-root MuiGrid-container MuiGrid-item MuiGrid-justify-xs-flex-end MuiGrid-grid-xs-6')[1].text\n",
    "        else:\n",
    "            h['deposit_value'] = soup.findAll('div', class_ = 'MuiGrid-root MuiGrid-container MuiGrid-item MuiGrid-justify-xs-flex-end MuiGrid-grid-xs-6')[0].text\n",
    "    except:\n",
    "        pass\n",
    "    \n",
    "    # Minimum stay\n",
    "    # soup.findAll('div', class_ = 'MuiGrid-root MuiGrid-container MuiGrid-item MuiGrid-justify-xs-flex-end MuiGrid-grid-xs-6')[0].text\n",
    "\n",
    "    # House rules - TRY TO FILTER \"PET ALLOWED\"\n",
    "    try:\n",
    "        h['house_rules'] = rules_list = []\n",
    "\n",
    "        a =  soup.findAll('div', class_ = 'MuiGrid-root MuiGrid-item MuiGrid-grid-xs-12')[1]\n",
    "\n",
    "        b = a.findAll('div', class_ = 'MuiGrid-root MuiGrid-item MuiGrid-grid-xs-12 MuiGrid-grid-md-4')\n",
    "\n",
    "        for iten in range(len(b)):\n",
    "            i = a.findAll('div', class_ = 'MuiGrid-root MuiGrid-item MuiGrid-grid-xs-12 MuiGrid-grid-md-4')[iten].text\n",
    "            rules_list.append(i)\n",
    "    except:\n",
    "        pass\n",
    "    \n",
    "    # Location (coordinates? Street?)\n",
    "    try:\n",
    "        a = soup.findAll('h1', class_ = 'MuiTypography-root jss52 jss43 jss46 MuiTypography-h1 MuiTypography-displayBlock')\n",
    "        h['street'] = a[0].text\n",
    "    except:\n",
    "        pass\n",
    "    \n",
    "    # Get apartment size\n",
    "    try:\n",
    "        h['size'] = soup.findAll('p', class_ = 'MuiTypography-root jss59 jss43 jss46 MuiTypography-body1 MuiTypography-displayInline')[1].text\n",
    "    except:\n",
    "        pass\n",
    "    \n",
    "    # Get lat/long\n",
    "    try:\n",
    "        a = soup.findAll('script', type = 'application/ld+json')[0].get_text\n",
    "        h['lat_long'] = re.findall('(\\d+\\.\\d+)', str(a))\n",
    "    except:\n",
    "        pass\n",
    "    \n",
    "    h['scrapy_datetime'] = datetime.now().strftime('%Y/%m/%d - %H:%M:%S')\n",
    "    \n",
    "    \n",
    "    \n",
    "    houses_df_list.append(h)"
   ]
  },
  {
   "cell_type": "code",
   "execution_count": 21,
   "id": "caroline-retrieval",
   "metadata": {
    "execution": {
     "iopub.execute_input": "2021-05-13T09:02:56.373121Z",
     "iopub.status.busy": "2021-05-13T09:02:56.372117Z",
     "iopub.status.idle": "2021-05-13T09:02:56.385117Z",
     "shell.execute_reply": "2021-05-13T09:02:56.383118Z",
     "shell.execute_reply.started": "2021-05-13T09:02:56.373121Z"
    },
    "tags": []
   },
   "outputs": [],
   "source": [
    "df_houses = pd.DataFrame(houses_df_list)"
   ]
  },
  {
   "cell_type": "code",
   "execution_count": 22,
   "id": "dominican-amino",
   "metadata": {
    "execution": {
     "iopub.execute_input": "2021-05-13T09:02:56.389118Z",
     "iopub.status.busy": "2021-05-13T09:02:56.389118Z",
     "iopub.status.idle": "2021-05-13T09:02:56.406119Z",
     "shell.execute_reply": "2021-05-13T09:02:56.404117Z",
     "shell.execute_reply.started": "2021-05-13T09:02:56.389118Z"
    },
    "tags": []
   },
   "outputs": [
    {
     "data": {
      "text/plain": [
       "house_id           0\n",
       "montly_rent        5\n",
       "deposit_value      0\n",
       "house_rules        0\n",
       "street             0\n",
       "size               0\n",
       "lat_long           0\n",
       "scrapy_datetime    0\n",
       "dtype: int64"
      ]
     },
     "execution_count": 22,
     "metadata": {},
     "output_type": "execute_result"
    }
   ],
   "source": [
    "df_houses.isna().sum()"
   ]
  },
  {
   "cell_type": "code",
   "execution_count": 23,
   "id": "roman-criminal",
   "metadata": {
    "execution": {
     "iopub.execute_input": "2021-05-13T09:02:56.410116Z",
     "iopub.status.busy": "2021-05-13T09:02:56.409119Z",
     "iopub.status.idle": "2021-05-13T09:02:56.445116Z",
     "shell.execute_reply": "2021-05-13T09:02:56.443117Z",
     "shell.execute_reply.started": "2021-05-13T09:02:56.410116Z"
    },
    "tags": []
   },
   "outputs": [
    {
     "data": {
      "text/plain": [
       "(600, 8)"
      ]
     },
     "execution_count": 23,
     "metadata": {},
     "output_type": "execute_result"
    }
   ],
   "source": [
    "df_houses.shape"
   ]
  },
  {
   "cell_type": "code",
   "execution_count": 24,
   "id": "raised-wilderness",
   "metadata": {
    "execution": {
     "iopub.execute_input": "2021-05-13T09:02:56.451116Z",
     "iopub.status.busy": "2021-05-13T09:02:56.450120Z",
     "iopub.status.idle": "2021-05-13T09:02:56.508115Z",
     "shell.execute_reply": "2021-05-13T09:02:56.507115Z",
     "shell.execute_reply.started": "2021-05-13T09:02:56.451116Z"
    },
    "tags": []
   },
   "outputs": [
    {
     "data": {
      "text/html": [
       "<div>\n",
       "<style scoped>\n",
       "    .dataframe tbody tr th:only-of-type {\n",
       "        vertical-align: middle;\n",
       "    }\n",
       "\n",
       "    .dataframe tbody tr th {\n",
       "        vertical-align: top;\n",
       "    }\n",
       "\n",
       "    .dataframe thead th {\n",
       "        text-align: right;\n",
       "    }\n",
       "</style>\n",
       "<table border=\"1\" class=\"dataframe\">\n",
       "  <thead>\n",
       "    <tr style=\"text-align: right;\">\n",
       "      <th></th>\n",
       "      <th>house_id</th>\n",
       "      <th>montly_rent</th>\n",
       "      <th>deposit_value</th>\n",
       "      <th>house_rules</th>\n",
       "      <th>street</th>\n",
       "      <th>size</th>\n",
       "      <th>lat_long</th>\n",
       "      <th>scrapy_datetime</th>\n",
       "    </tr>\n",
       "  </thead>\n",
       "  <tbody>\n",
       "    <tr>\n",
       "      <th>0</th>\n",
       "      <td>1719697</td>\n",
       "      <td>EUR 850</td>\n",
       "      <td>EUR 1700</td>\n",
       "      <td>[Private living room, Private Toilet, Private ...</td>\n",
       "      <td>Nürnberger Straße</td>\n",
       "      <td>Property: 22 m2</td>\n",
       "      <td>[52.50027, 13.33596]</td>\n",
       "      <td>2021/05/13 - 05:37:14</td>\n",
       "    </tr>\n",
       "    <tr>\n",
       "      <th>1</th>\n",
       "      <td>1724139</td>\n",
       "      <td>EUR 760</td>\n",
       "      <td>EUR 500</td>\n",
       "      <td>[Private facilities, Private Toilet, Private b...</td>\n",
       "      <td>Otto-Braun-Straße</td>\n",
       "      <td>Property: 25 m2</td>\n",
       "      <td>[52.52449, 13.41863]</td>\n",
       "      <td>2021/05/13 - 05:37:17</td>\n",
       "    </tr>\n",
       "    <tr>\n",
       "      <th>2</th>\n",
       "      <td>1721869</td>\n",
       "      <td>EUR 760</td>\n",
       "      <td>EUR 500</td>\n",
       "      <td>[Private facilities, Private Toilet, Private b...</td>\n",
       "      <td>Otto-Braun-Straße</td>\n",
       "      <td>Property: 25 m2</td>\n",
       "      <td>[52.52449, 13.41863]</td>\n",
       "      <td>2021/05/13 - 05:37:20</td>\n",
       "    </tr>\n",
       "    <tr>\n",
       "      <th>3</th>\n",
       "      <td>1719698</td>\n",
       "      <td>EUR 900</td>\n",
       "      <td>EUR 1800</td>\n",
       "      <td>[Private living room, Private Toilet, Private ...</td>\n",
       "      <td>Nürnberger Straße</td>\n",
       "      <td>Property: 22 m2</td>\n",
       "      <td>[52.50027, 13.33596]</td>\n",
       "      <td>2021/05/13 - 05:37:22</td>\n",
       "    </tr>\n",
       "    <tr>\n",
       "      <th>4</th>\n",
       "      <td>1721868</td>\n",
       "      <td>EUR 860</td>\n",
       "      <td>EUR 500</td>\n",
       "      <td>[Private facilities, Private Toilet, Private b...</td>\n",
       "      <td>Otto-Braun-Straße</td>\n",
       "      <td>Property: 24 m2</td>\n",
       "      <td>[52.52449, 13.41863]</td>\n",
       "      <td>2021/05/13 - 05:37:27</td>\n",
       "    </tr>\n",
       "    <tr>\n",
       "      <th>5</th>\n",
       "      <td>1208756</td>\n",
       "      <td>EUR 900</td>\n",
       "      <td>EUR 1800</td>\n",
       "      <td>[Private living room, Shared garden, Private T...</td>\n",
       "      <td>Köpenicker Straße</td>\n",
       "      <td>Property: 26 m2</td>\n",
       "      <td>[52.5097, 13.42231]</td>\n",
       "      <td>2021/05/13 - 05:37:29</td>\n",
       "    </tr>\n",
       "    <tr>\n",
       "      <th>6</th>\n",
       "      <td>1699607</td>\n",
       "      <td>EUR 990</td>\n",
       "      <td>EUR 0</td>\n",
       "      <td>[Private facilities, Shared garden, Private To...</td>\n",
       "      <td>Takustraße</td>\n",
       "      <td>Property: 4000 m2</td>\n",
       "      <td>[52.45695, 13.29344]</td>\n",
       "      <td>2021/05/13 - 05:37:32</td>\n",
       "    </tr>\n",
       "    <tr>\n",
       "      <th>7</th>\n",
       "      <td>1643513</td>\n",
       "      <td>EUR 950</td>\n",
       "      <td>EUR 1900</td>\n",
       "      <td>[Private living room, Shared garden, Private T...</td>\n",
       "      <td>Köpenicker Straße</td>\n",
       "      <td>Property: 26 m2</td>\n",
       "      <td>[52.5097, 13.42231]</td>\n",
       "      <td>2021/05/13 - 05:37:34</td>\n",
       "    </tr>\n",
       "    <tr>\n",
       "      <th>8</th>\n",
       "      <td>1717426</td>\n",
       "      <td>EUR 950</td>\n",
       "      <td>EUR 2000</td>\n",
       "      <td>[Private living room, Private Toilet, Private ...</td>\n",
       "      <td>Koburger Straße</td>\n",
       "      <td>Property: 30 m2</td>\n",
       "      <td>[52.4815, 13.34618]</td>\n",
       "      <td>2021/05/13 - 05:37:36</td>\n",
       "    </tr>\n",
       "    <tr>\n",
       "      <th>9</th>\n",
       "      <td>1208758</td>\n",
       "      <td>EUR 1200</td>\n",
       "      <td>EUR 2400</td>\n",
       "      <td>[Private living room, Shared garden, Private T...</td>\n",
       "      <td>Köpenicker Straße</td>\n",
       "      <td>Property: 41 m2</td>\n",
       "      <td>[52.5097, 13.42231]</td>\n",
       "      <td>2021/05/13 - 05:37:39</td>\n",
       "    </tr>\n",
       "  </tbody>\n",
       "</table>\n",
       "</div>"
      ],
      "text/plain": [
       "  house_id montly_rent deposit_value  \\\n",
       "0  1719697     EUR 850      EUR 1700   \n",
       "1  1724139     EUR 760       EUR 500   \n",
       "2  1721869     EUR 760       EUR 500   \n",
       "3  1719698     EUR 900      EUR 1800   \n",
       "4  1721868     EUR 860       EUR 500   \n",
       "5  1208756     EUR 900      EUR 1800   \n",
       "6  1699607     EUR 990         EUR 0   \n",
       "7  1643513     EUR 950      EUR 1900   \n",
       "8  1717426     EUR 950      EUR 2000   \n",
       "9  1208758    EUR 1200      EUR 2400   \n",
       "\n",
       "                                         house_rules             street  \\\n",
       "0  [Private living room, Private Toilet, Private ...  Nürnberger Straße   \n",
       "1  [Private facilities, Private Toilet, Private b...  Otto-Braun-Straße   \n",
       "2  [Private facilities, Private Toilet, Private b...  Otto-Braun-Straße   \n",
       "3  [Private living room, Private Toilet, Private ...  Nürnberger Straße   \n",
       "4  [Private facilities, Private Toilet, Private b...  Otto-Braun-Straße   \n",
       "5  [Private living room, Shared garden, Private T...  Köpenicker Straße   \n",
       "6  [Private facilities, Shared garden, Private To...         Takustraße   \n",
       "7  [Private living room, Shared garden, Private T...  Köpenicker Straße   \n",
       "8  [Private living room, Private Toilet, Private ...    Koburger Straße   \n",
       "9  [Private living room, Shared garden, Private T...  Köpenicker Straße   \n",
       "\n",
       "                size              lat_long        scrapy_datetime  \n",
       "0    Property: 22 m2  [52.50027, 13.33596]  2021/05/13 - 05:37:14  \n",
       "1    Property: 25 m2  [52.52449, 13.41863]  2021/05/13 - 05:37:17  \n",
       "2    Property: 25 m2  [52.52449, 13.41863]  2021/05/13 - 05:37:20  \n",
       "3    Property: 22 m2  [52.50027, 13.33596]  2021/05/13 - 05:37:22  \n",
       "4    Property: 24 m2  [52.52449, 13.41863]  2021/05/13 - 05:37:27  \n",
       "5    Property: 26 m2   [52.5097, 13.42231]  2021/05/13 - 05:37:29  \n",
       "6  Property: 4000 m2  [52.45695, 13.29344]  2021/05/13 - 05:37:32  \n",
       "7    Property: 26 m2   [52.5097, 13.42231]  2021/05/13 - 05:37:34  \n",
       "8    Property: 30 m2   [52.4815, 13.34618]  2021/05/13 - 05:37:36  \n",
       "9    Property: 41 m2   [52.5097, 13.42231]  2021/05/13 - 05:37:39  "
      ]
     },
     "execution_count": 24,
     "metadata": {},
     "output_type": "execute_result"
    }
   ],
   "source": [
    "df_houses.head(10)"
   ]
  },
  {
   "cell_type": "code",
   "execution_count": 26,
   "id": "manual-interest",
   "metadata": {
    "execution": {
     "iopub.execute_input": "2021-05-13T09:07:51.573371Z",
     "iopub.status.busy": "2021-05-13T09:07:51.572372Z",
     "iopub.status.idle": "2021-05-13T09:07:51.611372Z",
     "shell.execute_reply": "2021-05-13T09:07:51.610366Z",
     "shell.execute_reply.started": "2021-05-13T09:07:51.572372Z"
    },
    "tags": []
   },
   "outputs": [],
   "source": [
    "# save DF to CSV file\n",
    "# df_houses.to_csv('data/df_houses_berlin_V1_with_junk')"
   ]
  },
  {
   "cell_type": "code",
   "execution_count": null,
   "id": "incoming-accreditation",
   "metadata": {},
   "outputs": [],
   "source": [
    "# get cities revenues"
   ]
  }
 ],
 "metadata": {
  "kernelspec": {
   "display_name": "Python 3",
   "language": "python",
   "name": "python3"
  },
  "language_info": {
   "codemirror_mode": {
    "name": "ipython",
    "version": 3
   },
   "file_extension": ".py",
   "mimetype": "text/x-python",
   "name": "python",
   "nbconvert_exporter": "python",
   "pygments_lexer": "ipython3",
   "version": "3.8.8"
  }
 },
 "nbformat": 4,
 "nbformat_minor": 5
}
