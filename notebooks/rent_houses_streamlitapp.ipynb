{
 "cells": [
  {
   "cell_type": "code",
   "execution_count": 43,
   "id": "resident-liechtenstein",
   "metadata": {
    "execution": {
     "iopub.execute_input": "2021-06-01T09:57:41.696575Z",
     "iopub.status.busy": "2021-06-01T09:57:41.695575Z",
     "iopub.status.idle": "2021-06-01T09:57:41.717568Z",
     "shell.execute_reply": "2021-06-01T09:57:41.716569Z",
     "shell.execute_reply.started": "2021-06-01T09:57:41.696575Z"
    },
    "tags": []
   },
   "outputs": [],
   "source": [
    "import plotly.express as px\n",
    "import seaborn as sns\n",
    "import matplotlib.pyplot as plt\n",
    "import pandas as pd\n",
    "\n",
    "\n",
    "def annot_plot(plot):\n",
    "    for p in plot.patches:\n",
    "        plot.annotate(format(int(p.get_height())), \n",
    "                       (p.get_x() + p.get_width() / 2., p.get_height()), \n",
    "                       ha = 'center', va = 'center', \n",
    "                       xytext = (0, 9), \n",
    "                       textcoords = 'offset points',\n",
    "                       fontsize = 4)\n",
    "    return None"
   ]
  },
  {
   "cell_type": "code",
   "execution_count": 2,
   "id": "lonely-royal",
   "metadata": {
    "execution": {
     "iopub.execute_input": "2021-05-31T15:55:29.801191Z",
     "iopub.status.busy": "2021-05-31T15:55:29.801191Z",
     "iopub.status.idle": "2021-05-31T15:55:30.653607Z",
     "shell.execute_reply": "2021-05-31T15:55:30.651606Z",
     "shell.execute_reply.started": "2021-05-31T15:55:29.801191Z"
    }
   },
   "outputs": [],
   "source": [
    "data = pd.read_csv('../data/df_houses_full_cleanned.csv')"
   ]
  },
  {
   "cell_type": "code",
   "execution_count": 24,
   "id": "cultural-agenda",
   "metadata": {
    "execution": {
     "iopub.execute_input": "2021-06-01T09:01:24.538123Z",
     "iopub.status.busy": "2021-06-01T09:01:24.538123Z",
     "iopub.status.idle": "2021-06-01T09:01:24.599121Z",
     "shell.execute_reply": "2021-06-01T09:01:24.597122Z",
     "shell.execute_reply.started": "2021-06-01T09:01:24.538123Z"
    }
   },
   "outputs": [
    {
     "data": {
      "text/html": [
       "<div>\n",
       "<style scoped>\n",
       "    .dataframe tbody tr th:only-of-type {\n",
       "        vertical-align: middle;\n",
       "    }\n",
       "\n",
       "    .dataframe tbody tr th {\n",
       "        vertical-align: top;\n",
       "    }\n",
       "\n",
       "    .dataframe thead th {\n",
       "        text-align: right;\n",
       "    }\n",
       "</style>\n",
       "<table border=\"1\" class=\"dataframe\">\n",
       "  <thead>\n",
       "    <tr style=\"text-align: right;\">\n",
       "      <th></th>\n",
       "      <th>house_id</th>\n",
       "      <th>scrapy_datetime</th>\n",
       "      <th>city</th>\n",
       "      <th>street</th>\n",
       "      <th>size</th>\n",
       "      <th>pets</th>\n",
       "      <th>montly_rent</th>\n",
       "      <th>deposit_value</th>\n",
       "      <th>m2_value</th>\n",
       "      <th>lat</th>\n",
       "      <th>long</th>\n",
       "    </tr>\n",
       "  </thead>\n",
       "  <tbody>\n",
       "    <tr>\n",
       "      <th>0</th>\n",
       "      <td>1719697</td>\n",
       "      <td>2021-05-13 12:16:03</td>\n",
       "      <td>Berlin</td>\n",
       "      <td>Nürnberger Straße</td>\n",
       "      <td>22.0</td>\n",
       "      <td>Pets not allowed</td>\n",
       "      <td>850</td>\n",
       "      <td>1700</td>\n",
       "      <td>38.636364</td>\n",
       "      <td>52.50027</td>\n",
       "      <td>13.33596</td>\n",
       "    </tr>\n",
       "    <tr>\n",
       "      <th>1</th>\n",
       "      <td>1716752</td>\n",
       "      <td>2021-05-13 12:16:05</td>\n",
       "      <td>Berlin</td>\n",
       "      <td>Schnellerstraße</td>\n",
       "      <td>90.0</td>\n",
       "      <td>Pets not allowed</td>\n",
       "      <td>450</td>\n",
       "      <td>900</td>\n",
       "      <td>5.000000</td>\n",
       "      <td>52.45495</td>\n",
       "      <td>13.51636</td>\n",
       "    </tr>\n",
       "    <tr>\n",
       "      <th>2</th>\n",
       "      <td>1716755</td>\n",
       "      <td>2021-05-13 12:16:07</td>\n",
       "      <td>Berlin</td>\n",
       "      <td>Schnellerstraße</td>\n",
       "      <td>90.0</td>\n",
       "      <td>Pets not allowed</td>\n",
       "      <td>475</td>\n",
       "      <td>950</td>\n",
       "      <td>5.277778</td>\n",
       "      <td>52.45495</td>\n",
       "      <td>13.51636</td>\n",
       "    </tr>\n",
       "    <tr>\n",
       "      <th>3</th>\n",
       "      <td>1724139</td>\n",
       "      <td>2021-05-13 12:16:09</td>\n",
       "      <td>Berlin</td>\n",
       "      <td>Otto-Braun-Straße</td>\n",
       "      <td>25.0</td>\n",
       "      <td>Pets not allowed</td>\n",
       "      <td>760</td>\n",
       "      <td>500</td>\n",
       "      <td>30.400000</td>\n",
       "      <td>52.52449</td>\n",
       "      <td>13.41863</td>\n",
       "    </tr>\n",
       "    <tr>\n",
       "      <th>4</th>\n",
       "      <td>1721869</td>\n",
       "      <td>2021-05-13 12:16:11</td>\n",
       "      <td>Berlin</td>\n",
       "      <td>Otto-Braun-Straße</td>\n",
       "      <td>25.0</td>\n",
       "      <td>Pets not allowed</td>\n",
       "      <td>760</td>\n",
       "      <td>500</td>\n",
       "      <td>30.400000</td>\n",
       "      <td>52.52449</td>\n",
       "      <td>13.41863</td>\n",
       "    </tr>\n",
       "  </tbody>\n",
       "</table>\n",
       "</div>"
      ],
      "text/plain": [
       "   house_id      scrapy_datetime    city             street  size  \\\n",
       "0   1719697  2021-05-13 12:16:03  Berlin  Nürnberger Straße  22.0   \n",
       "1   1716752  2021-05-13 12:16:05  Berlin    Schnellerstraße  90.0   \n",
       "2   1716755  2021-05-13 12:16:07  Berlin    Schnellerstraße  90.0   \n",
       "3   1724139  2021-05-13 12:16:09  Berlin  Otto-Braun-Straße  25.0   \n",
       "4   1721869  2021-05-13 12:16:11  Berlin  Otto-Braun-Straße  25.0   \n",
       "\n",
       "               pets  montly_rent  deposit_value   m2_value       lat      long  \n",
       "0  Pets not allowed          850           1700  38.636364  52.50027  13.33596  \n",
       "1  Pets not allowed          450            900   5.000000  52.45495  13.51636  \n",
       "2  Pets not allowed          475            950   5.277778  52.45495  13.51636  \n",
       "3  Pets not allowed          760            500  30.400000  52.52449  13.41863  \n",
       "4  Pets not allowed          760            500  30.400000  52.52449  13.41863  "
      ]
     },
     "execution_count": 24,
     "metadata": {},
     "output_type": "execute_result"
    }
   ],
   "source": [
    "data.head()"
   ]
  },
  {
   "cell_type": "code",
   "execution_count": 32,
   "id": "aggressive-swedish",
   "metadata": {
    "execution": {
     "iopub.execute_input": "2021-06-01T09:02:33.915701Z",
     "iopub.status.busy": "2021-06-01T09:02:33.914703Z",
     "iopub.status.idle": "2021-06-01T09:02:33.929696Z",
     "shell.execute_reply": "2021-06-01T09:02:33.927697Z",
     "shell.execute_reply.started": "2021-06-01T09:02:33.915701Z"
    },
    "tags": []
   },
   "outputs": [
    {
     "data": {
      "text/plain": [
       "Pets not allowed    1101\n",
       "Pets negotiable      498\n",
       "Pets allowed          69\n",
       "Name: pets, dtype: int64"
      ]
     },
     "execution_count": 32,
     "metadata": {},
     "output_type": "execute_result"
    }
   ],
   "source": [
    "data['pets'].value_counts()"
   ]
  },
  {
   "cell_type": "code",
   "execution_count": 34,
   "id": "classified-aviation",
   "metadata": {
    "execution": {
     "iopub.execute_input": "2021-06-01T09:18:05.860786Z",
     "iopub.status.busy": "2021-06-01T09:18:05.852784Z",
     "iopub.status.idle": "2021-06-01T09:18:06.773408Z",
     "shell.execute_reply": "2021-06-01T09:18:06.768411Z",
     "shell.execute_reply.started": "2021-06-01T09:18:05.859785Z"
    },
    "tags": []
   },
   "outputs": [
    {
     "data": {
      "text/plain": [
       "1101"
      ]
     },
     "execution_count": 34,
     "metadata": {},
     "output_type": "execute_result"
    }
   ],
   "source": [
    "len(data[data['pets'] == 'Pets not allowed'])"
   ]
  },
  {
   "cell_type": "code",
   "execution_count": 58,
   "id": "abandoned-migration",
   "metadata": {
    "execution": {
     "iopub.execute_input": "2021-06-01T10:08:18.111751Z",
     "iopub.status.busy": "2021-06-01T10:08:18.110749Z",
     "iopub.status.idle": "2021-06-01T10:08:18.120359Z",
     "shell.execute_reply": "2021-06-01T10:08:18.118362Z",
     "shell.execute_reply.started": "2021-06-01T10:08:18.111751Z"
    },
    "tags": []
   },
   "outputs": [],
   "source": [
    "sns.set_palette(\"YlOrBr\")"
   ]
  },
  {
   "cell_type": "code",
   "execution_count": 93,
   "id": "separated-championship",
   "metadata": {
    "execution": {
     "iopub.execute_input": "2021-06-01T15:50:43.590194Z",
     "iopub.status.busy": "2021-06-01T15:50:43.590194Z",
     "iopub.status.idle": "2021-06-01T15:50:44.819992Z",
     "shell.execute_reply": "2021-06-01T15:50:44.818987Z",
     "shell.execute_reply.started": "2021-06-01T15:50:43.590194Z"
    },
    "tags": []
   },
   "outputs": [
    {
     "name": "stderr",
     "output_type": "stream",
     "text": [
      "C:\\Users\\felip\\Anaconda3\\envs\\PA05\\lib\\site-packages\\seaborn\\_decorators.py:36: FutureWarning: Pass the following variables as keyword args: x, y. From version 0.12, the only valid positional argument will be `data`, and passing other arguments without an explicit keyword will result in an error or misinterpretation.\n",
      "  warnings.warn(\n"
     ]
    },
    {
     "data": {
      "image/png": "[encoded data removed]",
      "text/plain": [
       "<Figure size 1440x432 with 1 Axes>"
      ]
     },
     "metadata": {},
     "output_type": "display_data"
    }
   ],
   "source": [
    "\n",
    "plt.figure(figsize=(20, 6))\n",
    "sns.set_style(\"darkgrid\")\n",
    "sns.set_palette(\"YlOrBr\")\n",
    "ax2 = sns.barplot(data['city'], data['montly_rent'])\n",
    "annot_plot(ax2)\n"
   ]
  },
  {
   "cell_type": "code",
   "execution_count": 48,
   "id": "fantastic-leave",
   "metadata": {
    "execution": {
     "iopub.execute_input": "2021-06-01T09:59:11.128840Z",
     "iopub.status.busy": "2021-06-01T09:59:11.128840Z",
     "iopub.status.idle": "2021-06-01T09:59:11.150833Z",
     "shell.execute_reply": "2021-06-01T09:59:11.149828Z",
     "shell.execute_reply.started": "2021-06-01T09:59:11.128840Z"
    }
   },
   "outputs": [
    {
     "data": {
      "text/plain": [
       "city\n",
       "Berlin               1735.734114\n",
       "Cologne              1550.326316\n",
       "Dortmund              701.000000\n",
       "Dusseldorf           1068.604396\n",
       "Frankfurt-am-Main    1464.932476\n",
       "Hamburg              1993.263158\n",
       "Hanover              1829.615385\n",
       "Leipzig               729.500000\n",
       "Munich               1417.103659\n",
       "Nuremberg            1271.428571\n",
       "Stuttgart            1582.187500\n",
       "Name: montly_rent, dtype: float64"
      ]
     },
     "execution_count": 48,
     "metadata": {},
     "output_type": "execute_result"
    }
   ],
   "source": [
    "data.groupby('city')['montly_rent'].mean()"
   ]
  },
  {
   "cell_type": "code",
   "execution_count": 164,
   "id": "enabling-color",
   "metadata": {
    "execution": {
     "iopub.execute_input": "2021-06-01T22:35:45.374860Z",
     "iopub.status.busy": "2021-06-01T22:35:45.373860Z",
     "iopub.status.idle": "2021-06-01T22:35:45.385861Z",
     "shell.execute_reply": "2021-06-01T22:35:45.384862Z",
     "shell.execute_reply.started": "2021-06-01T22:35:45.374860Z"
    },
    "tags": []
   },
   "outputs": [],
   "source": [
    "def montly_plot(data):\n",
    "    plt.figure(figsize=(10, 5))\n",
    "    plt.title('AVG MONTLY RENT PER CITY', fontsize=12)\n",
    "    plt.xlabel('')\n",
    "    plt.ylabel('MONTLY RENT (€)')\n",
    "    ax = data.groupby('city')['montly_rent'].mean().plot(kind='bar', color='r')\n",
    "    labels = ['Berlin', 'Munich', 'Dusseldorf', 'Cologne', 'Dortmund',\n",
    "              'Frankfurt', 'Nuremberg', 'Stuttgart', 'Hamburg',\n",
    "              'Hanover', 'Leipzig']\n",
    "    plt.xticks(ticks=labels)    \n",
    "    plt.savefig(f'../images/teste_NB2.png', dpi=60)\n",
    "    annot_plot(ax)"
   ]
  },
  {
   "cell_type": "code",
   "execution_count": 165,
   "id": "charitable-grill",
   "metadata": {
    "execution": {
     "iopub.execute_input": "2021-06-01T22:35:48.515356Z",
     "iopub.status.busy": "2021-06-01T22:35:48.514359Z",
     "iopub.status.idle": "2021-06-01T22:35:49.070942Z",
     "shell.execute_reply": "2021-06-01T22:35:49.066939Z",
     "shell.execute_reply.started": "2021-06-01T22:35:48.515356Z"
    },
    "tags": []
   },
   "outputs": [
    {
     "ename": "ConversionError",
     "evalue": "Failed to convert value(s) to axis units: ['Berlin', 'Munich', 'Dusseldorf', 'Cologne', 'Dortmund', 'Frankfurt', 'Nuremberg', 'Stuttgart', 'Hamburg', 'Hanover', 'Leipzig']",
     "output_type": "error",
     "traceback": [
      "\u001b[1;31m---------------------------------------------------------------------------\u001b[0m",
      "\u001b[1;31mValueError\u001b[0m                                Traceback (most recent call last)",
      "\u001b[1;32m~\\Anaconda3\\envs\\PA05\\lib\\site-packages\\matplotlib\\axis.py\u001b[0m in \u001b[0;36mconvert_units\u001b[1;34m(self, x)\u001b[0m\n\u001b[0;32m   1488\u001b[0m         \u001b[1;32mtry\u001b[0m\u001b[1;33m:\u001b[0m\u001b[1;33m\u001b[0m\u001b[1;33m\u001b[0m\u001b[0m\n\u001b[1;32m-> 1489\u001b[1;33m             \u001b[0mret\u001b[0m \u001b[1;33m=\u001b[0m \u001b[0mself\u001b[0m\u001b[1;33m.\u001b[0m\u001b[0mconverter\u001b[0m\u001b[1;33m.\u001b[0m\u001b[0mconvert\u001b[0m\u001b[1;33m(\u001b[0m\u001b[0mx\u001b[0m\u001b[1;33m,\u001b[0m \u001b[0mself\u001b[0m\u001b[1;33m.\u001b[0m\u001b[0munits\u001b[0m\u001b[1;33m,\u001b[0m \u001b[0mself\u001b[0m\u001b[1;33m)\u001b[0m\u001b[1;33m\u001b[0m\u001b[1;33m\u001b[0m\u001b[0m\n\u001b[0m\u001b[0;32m   1490\u001b[0m         \u001b[1;32mexcept\u001b[0m \u001b[0mException\u001b[0m \u001b[1;32mas\u001b[0m \u001b[0me\u001b[0m\u001b[1;33m:\u001b[0m\u001b[1;33m\u001b[0m\u001b[1;33m\u001b[0m\u001b[0m\n",
      "\u001b[1;32m~\\Anaconda3\\envs\\PA05\\lib\\site-packages\\matplotlib\\category.py\u001b[0m in \u001b[0;36mconvert\u001b[1;34m(value, unit, axis)\u001b[0m\n\u001b[0;32m     48\u001b[0m         \u001b[1;32mif\u001b[0m \u001b[0munit\u001b[0m \u001b[1;32mis\u001b[0m \u001b[1;32mNone\u001b[0m\u001b[1;33m:\u001b[0m\u001b[1;33m\u001b[0m\u001b[1;33m\u001b[0m\u001b[0m\n\u001b[1;32m---> 49\u001b[1;33m             raise ValueError(\n\u001b[0m\u001b[0;32m     50\u001b[0m                 \u001b[1;34m'Missing category information for StrCategoryConverter; '\u001b[0m\u001b[1;33m\u001b[0m\u001b[1;33m\u001b[0m\u001b[0m\n",
      "\u001b[1;31mValueError\u001b[0m: Missing category information for StrCategoryConverter; this might be caused by unintendedly mixing categorical and numeric data",
      "\nThe above exception was the direct cause of the following exception:\n",
      "\u001b[1;31mConversionError\u001b[0m                           Traceback (most recent call last)",
      "\u001b[1;32m<ipython-input-165-1ad7b5dd0f8d>\u001b[0m in \u001b[0;36m<module>\u001b[1;34m\u001b[0m\n\u001b[1;32m----> 1\u001b[1;33m \u001b[0mmontly_plot\u001b[0m\u001b[1;33m(\u001b[0m\u001b[0mdata\u001b[0m\u001b[1;33m)\u001b[0m\u001b[1;33m\u001b[0m\u001b[1;33m\u001b[0m\u001b[0m\n\u001b[0m",
      "\u001b[1;32m<ipython-input-164-625ac1ed8ccf>\u001b[0m in \u001b[0;36mmontly_plot\u001b[1;34m(data)\u001b[0m\n\u001b[0;32m      8\u001b[0m               \u001b[1;34m'Frankfurt'\u001b[0m\u001b[1;33m,\u001b[0m \u001b[1;34m'Nuremberg'\u001b[0m\u001b[1;33m,\u001b[0m \u001b[1;34m'Stuttgart'\u001b[0m\u001b[1;33m,\u001b[0m \u001b[1;34m'Hamburg'\u001b[0m\u001b[1;33m,\u001b[0m\u001b[1;33m\u001b[0m\u001b[1;33m\u001b[0m\u001b[0m\n\u001b[0;32m      9\u001b[0m               'Hanover', 'Leipzig']\n\u001b[1;32m---> 10\u001b[1;33m     \u001b[0mplt\u001b[0m\u001b[1;33m.\u001b[0m\u001b[0mxticks\u001b[0m\u001b[1;33m(\u001b[0m\u001b[0mticks\u001b[0m\u001b[1;33m=\u001b[0m\u001b[0mlabels\u001b[0m\u001b[1;33m)\u001b[0m\u001b[1;33m\u001b[0m\u001b[1;33m\u001b[0m\u001b[0m\n\u001b[0m\u001b[0;32m     11\u001b[0m     \u001b[0mplt\u001b[0m\u001b[1;33m.\u001b[0m\u001b[0msavefig\u001b[0m\u001b[1;33m(\u001b[0m\u001b[1;34mf'../images/teste_NB2.png'\u001b[0m\u001b[1;33m,\u001b[0m \u001b[0mdpi\u001b[0m\u001b[1;33m=\u001b[0m\u001b[1;36m60\u001b[0m\u001b[1;33m)\u001b[0m\u001b[1;33m\u001b[0m\u001b[1;33m\u001b[0m\u001b[0m\n\u001b[0;32m     12\u001b[0m     \u001b[0mannot_plot\u001b[0m\u001b[1;33m(\u001b[0m\u001b[0max\u001b[0m\u001b[1;33m)\u001b[0m\u001b[1;33m\u001b[0m\u001b[1;33m\u001b[0m\u001b[0m\n",
      "\u001b[1;32m~\\Anaconda3\\envs\\PA05\\lib\\site-packages\\matplotlib\\pyplot.py\u001b[0m in \u001b[0;36mxticks\u001b[1;34m(ticks, labels, **kwargs)\u001b[0m\n\u001b[0;32m   1776\u001b[0m                             \"without setting 'ticks'\")\n\u001b[0;32m   1777\u001b[0m     \u001b[1;32melse\u001b[0m\u001b[1;33m:\u001b[0m\u001b[1;33m\u001b[0m\u001b[1;33m\u001b[0m\u001b[0m\n\u001b[1;32m-> 1778\u001b[1;33m         \u001b[0mlocs\u001b[0m \u001b[1;33m=\u001b[0m \u001b[0max\u001b[0m\u001b[1;33m.\u001b[0m\u001b[0mset_xticks\u001b[0m\u001b[1;33m(\u001b[0m\u001b[0mticks\u001b[0m\u001b[1;33m)\u001b[0m\u001b[1;33m\u001b[0m\u001b[1;33m\u001b[0m\u001b[0m\n\u001b[0m\u001b[0;32m   1779\u001b[0m \u001b[1;33m\u001b[0m\u001b[0m\n\u001b[0;32m   1780\u001b[0m     \u001b[1;32mif\u001b[0m \u001b[0mlabels\u001b[0m \u001b[1;32mis\u001b[0m \u001b[1;32mNone\u001b[0m\u001b[1;33m:\u001b[0m\u001b[1;33m\u001b[0m\u001b[1;33m\u001b[0m\u001b[0m\n",
      "\u001b[1;32m~\\Anaconda3\\envs\\PA05\\lib\\site-packages\\matplotlib\\axes\\_base.py\u001b[0m in \u001b[0;36mwrapper\u001b[1;34m(self, *args, **kwargs)\u001b[0m\n\u001b[0;32m     71\u001b[0m \u001b[1;33m\u001b[0m\u001b[0m\n\u001b[0;32m     72\u001b[0m         \u001b[1;32mdef\u001b[0m \u001b[0mwrapper\u001b[0m\u001b[1;33m(\u001b[0m\u001b[0mself\u001b[0m\u001b[1;33m,\u001b[0m \u001b[1;33m*\u001b[0m\u001b[0margs\u001b[0m\u001b[1;33m,\u001b[0m \u001b[1;33m**\u001b[0m\u001b[0mkwargs\u001b[0m\u001b[1;33m)\u001b[0m\u001b[1;33m:\u001b[0m\u001b[1;33m\u001b[0m\u001b[1;33m\u001b[0m\u001b[0m\n\u001b[1;32m---> 73\u001b[1;33m             \u001b[1;32mreturn\u001b[0m \u001b[0mget_method\u001b[0m\u001b[1;33m(\u001b[0m\u001b[0mself\u001b[0m\u001b[1;33m)\u001b[0m\u001b[1;33m(\u001b[0m\u001b[1;33m*\u001b[0m\u001b[0margs\u001b[0m\u001b[1;33m,\u001b[0m \u001b[1;33m**\u001b[0m\u001b[0mkwargs\u001b[0m\u001b[1;33m)\u001b[0m\u001b[1;33m\u001b[0m\u001b[1;33m\u001b[0m\u001b[0m\n\u001b[0m\u001b[0;32m     74\u001b[0m \u001b[1;33m\u001b[0m\u001b[0m\n\u001b[0;32m     75\u001b[0m         \u001b[0mwrapper\u001b[0m\u001b[1;33m.\u001b[0m\u001b[0m__module__\u001b[0m \u001b[1;33m=\u001b[0m \u001b[0mowner\u001b[0m\u001b[1;33m.\u001b[0m\u001b[0m__module__\u001b[0m\u001b[1;33m\u001b[0m\u001b[1;33m\u001b[0m\u001b[0m\n",
      "\u001b[1;32m~\\Anaconda3\\envs\\PA05\\lib\\site-packages\\matplotlib\\axis.py\u001b[0m in \u001b[0;36mset_ticks\u001b[1;34m(self, ticks, minor)\u001b[0m\n\u001b[0;32m   1801\u001b[0m         \"\"\"\n\u001b[0;32m   1802\u001b[0m         \u001b[1;31m# XXX if the user changes units, the information will be lost here\u001b[0m\u001b[1;33m\u001b[0m\u001b[1;33m\u001b[0m\u001b[1;33m\u001b[0m\u001b[0m\n\u001b[1;32m-> 1803\u001b[1;33m         \u001b[0mticks\u001b[0m \u001b[1;33m=\u001b[0m \u001b[0mself\u001b[0m\u001b[1;33m.\u001b[0m\u001b[0mconvert_units\u001b[0m\u001b[1;33m(\u001b[0m\u001b[0mticks\u001b[0m\u001b[1;33m)\u001b[0m\u001b[1;33m\u001b[0m\u001b[1;33m\u001b[0m\u001b[0m\n\u001b[0m\u001b[0;32m   1804\u001b[0m         \u001b[1;32mif\u001b[0m \u001b[0mself\u001b[0m \u001b[1;32mis\u001b[0m \u001b[0mself\u001b[0m\u001b[1;33m.\u001b[0m\u001b[0maxes\u001b[0m\u001b[1;33m.\u001b[0m\u001b[0mxaxis\u001b[0m\u001b[1;33m:\u001b[0m\u001b[1;33m\u001b[0m\u001b[1;33m\u001b[0m\u001b[0m\n\u001b[0;32m   1805\u001b[0m             shared = [\n",
      "\u001b[1;32m~\\Anaconda3\\envs\\PA05\\lib\\site-packages\\matplotlib\\axis.py\u001b[0m in \u001b[0;36mconvert_units\u001b[1;34m(self, x)\u001b[0m\n\u001b[0;32m   1489\u001b[0m             \u001b[0mret\u001b[0m \u001b[1;33m=\u001b[0m \u001b[0mself\u001b[0m\u001b[1;33m.\u001b[0m\u001b[0mconverter\u001b[0m\u001b[1;33m.\u001b[0m\u001b[0mconvert\u001b[0m\u001b[1;33m(\u001b[0m\u001b[0mx\u001b[0m\u001b[1;33m,\u001b[0m \u001b[0mself\u001b[0m\u001b[1;33m.\u001b[0m\u001b[0munits\u001b[0m\u001b[1;33m,\u001b[0m \u001b[0mself\u001b[0m\u001b[1;33m)\u001b[0m\u001b[1;33m\u001b[0m\u001b[1;33m\u001b[0m\u001b[0m\n\u001b[0;32m   1490\u001b[0m         \u001b[1;32mexcept\u001b[0m \u001b[0mException\u001b[0m \u001b[1;32mas\u001b[0m \u001b[0me\u001b[0m\u001b[1;33m:\u001b[0m\u001b[1;33m\u001b[0m\u001b[1;33m\u001b[0m\u001b[0m\n\u001b[1;32m-> 1491\u001b[1;33m             raise munits.ConversionError('Failed to convert value(s) to axis '\n\u001b[0m\u001b[0;32m   1492\u001b[0m                                          f'units: {x!r}') from e\n\u001b[0;32m   1493\u001b[0m         \u001b[1;32mreturn\u001b[0m \u001b[0mret\u001b[0m\u001b[1;33m\u001b[0m\u001b[1;33m\u001b[0m\u001b[0m\n",
      "\u001b[1;31mConversionError\u001b[0m: Failed to convert value(s) to axis units: ['Berlin', 'Munich', 'Dusseldorf', 'Cologne', 'Dortmund', 'Frankfurt', 'Nuremberg', 'Stuttgart', 'Hamburg', 'Hanover', 'Leipzig']"
     ]
    },
    {
     "data": {
      "image/png": "[encoded data removed]",
      "text/plain": [
       "<Figure size 720x360 with 1 Axes>"
      ]
     },
     "metadata": {},
     "output_type": "display_data"
    }
   ],
   "source": [
    "montly_plot(data)"
   ]
  },
  {
   "cell_type": "code",
   "execution_count": 143,
   "id": "blessed-avatar",
   "metadata": {
    "execution": {
     "iopub.execute_input": "2021-06-01T22:15:03.371520Z",
     "iopub.status.busy": "2021-06-01T22:15:03.370514Z",
     "iopub.status.idle": "2021-06-01T22:15:03.383516Z",
     "shell.execute_reply": "2021-06-01T22:15:03.381518Z",
     "shell.execute_reply.started": "2021-06-01T22:15:03.371520Z"
    },
    "tags": []
   },
   "outputs": [],
   "source": [
    "def m2_plot(data):\n",
    "    ax = data.groupby('city')['m2_value'].mean().plot(kind='bar',\n",
    "                                                         color='r',\n",
    "                                                         figsize=(6, 2),\n",
    "                                                         rot=20)\n",
    "    plt.title('AVG M² PRICE PER CITY', fontsize=6)\n",
    "    plt.xticks(fontsize=6)\n",
    "    plt.yticks(fontsize=6)\n",
    "    plt.savefig(f'../images/m2_barplot.png', dpi=100)"
   ]
  },
  {
   "cell_type": "code",
   "execution_count": 144,
   "id": "induced-retro",
   "metadata": {
    "execution": {
     "iopub.execute_input": "2021-06-01T22:15:05.766713Z",
     "iopub.status.busy": "2021-06-01T22:15:05.765714Z",
     "iopub.status.idle": "2021-06-01T22:15:06.267427Z",
     "shell.execute_reply": "2021-06-01T22:15:06.266424Z",
     "shell.execute_reply.started": "2021-06-01T22:15:05.766713Z"
    },
    "tags": []
   },
   "outputs": [
    {
     "data": {
      "image/png": "[encoded data removed]",
      "text/plain": [
       "<Figure size 432x144 with 1 Axes>"
      ]
     },
     "metadata": {},
     "output_type": "display_data"
    }
   ],
   "source": [
    "m2_plot(data)"
   ]
  },
  {
   "cell_type": "code",
   "execution_count": 154,
   "id": "downtown-efficiency",
   "metadata": {
    "execution": {
     "iopub.execute_input": "2021-06-01T22:24:20.354029Z",
     "iopub.status.busy": "2021-06-01T22:24:20.354029Z",
     "iopub.status.idle": "2021-06-01T22:24:20.363032Z",
     "shell.execute_reply": "2021-06-01T22:24:20.362027Z",
     "shell.execute_reply.started": "2021-06-01T22:24:20.354029Z"
    },
    "tags": []
   },
   "outputs": [],
   "source": [
    "def pet_plot(data):\n",
    "    ax = data['pets'].value_counts().plot(kind='bar',\n",
    "                                     color='r',\n",
    "                                     figsize=(6, 2),\n",
    "                                     rot=0,\n",
    "                                     title='Pets')\n",
    "    annot_plot(ax)\n",
    "    plt.savefig()\n",
    "    return None"
   ]
  },
  {
   "cell_type": "code",
   "execution_count": 155,
   "id": "expressed-retro",
   "metadata": {
    "execution": {
     "iopub.execute_input": "2021-06-01T22:24:20.840055Z",
     "iopub.status.busy": "2021-06-01T22:24:20.839057Z",
     "iopub.status.idle": "2021-06-01T22:24:21.191237Z",
     "shell.execute_reply": "2021-06-01T22:24:21.190238Z",
     "shell.execute_reply.started": "2021-06-01T22:24:20.840055Z"
    },
    "tags": []
   },
   "outputs": [
    {
     "data": {
      "image/png": "[encoded data removed]",
      "text/plain": [
       "<Figure size 432x144 with 1 Axes>"
      ]
     },
     "metadata": {},
     "output_type": "display_data"
    }
   ],
   "source": [
    "pet_plot(data)"
   ]
  },
  {
   "cell_type": "code",
   "execution_count": 166,
   "id": "canadian-secondary",
   "metadata": {
    "execution": {
     "iopub.execute_input": "2021-06-01T23:11:26.318359Z",
     "iopub.status.busy": "2021-06-01T23:11:26.309364Z",
     "iopub.status.idle": "2021-06-01T23:11:26.394361Z",
     "shell.execute_reply": "2021-06-01T23:11:26.392362Z",
     "shell.execute_reply.started": "2021-06-01T23:11:26.318359Z"
    }
   },
   "outputs": [
    {
     "data": {
      "text/plain": [
       "array(['Berlin', 'Munich', 'Dusseldorf', 'Cologne', 'Dortmund',\n",
       "       'Frankfurt-am-Main', 'Nuremberg', 'Stuttgart', 'Hamburg',\n",
       "       'Hanover', 'Leipzig'], dtype=object)"
      ]
     },
     "execution_count": 166,
     "metadata": {},
     "output_type": "execute_result"
    }
   ],
   "source": [
    "data['city'].unique()"
   ]
  },
  {
   "cell_type": "code",
   "execution_count": null,
   "id": "compressed-blame",
   "metadata": {},
   "outputs": [],
   "source": []
  }
 ],
 "metadata": {
  "kernelspec": {
   "display_name": "Python 3",
   "language": "python",
   "name": "python3"
  },
  "language_info": {
   "codemirror_mode": {
    "name": "ipython",
    "version": 3
   },
   "file_extension": ".py",
   "mimetype": "text/x-python",
   "name": "python",
   "nbconvert_exporter": "python",
   "pygments_lexer": "ipython3",
   "version": "3.8.8"
  }
 },
 "nbformat": 4,
 "nbformat_minor": 5
}
